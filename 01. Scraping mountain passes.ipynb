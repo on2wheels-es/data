{
 "cells": [
  {
   "cell_type": "markdown",
   "id": "92d5cc9c",
   "metadata": {},
   "source": [
    "# Scraping all user-submitted altimetries"
   ]
  },
  {
   "cell_type": "markdown",
   "id": "5a54308a",
   "metadata": {},
   "source": [
    "We already have the *official* altimetries for Spain's ports from the site **Altimetrias.net** (from our second project), but there's plenty of user-submitted altimetries that we'd like to implement in our database. They can be found here:\n",
    "\n",
    "https://www.altimetrias.net/usuarios/provinciasusu.asp\n",
    "\n",
    "We'd love to scrape them using the same BeautifulSoup function developed in my **PR03**, but the data structure is quite different and it's more economical to do it via Selenium. Let's begin."
   ]
  },
  {
   "cell_type": "markdown",
   "id": "31db9b76",
   "metadata": {},
   "source": [
    "## Initial testing"
   ]
  },
  {
   "cell_type": "markdown",
   "id": "052b10b0",
   "metadata": {},
   "source": [
    "To develop our function we'll need to know how to access every element of a user-submitted altimetry given its url."
   ]
  },
  {
   "cell_type": "code",
   "execution_count": 1,
   "id": "27ca7b63",
   "metadata": {},
   "outputs": [],
   "source": [
    "#Importing necessary libraries. \n",
    "\n",
    "import pandas as pd\n",
    "import requests\n",
    "from selenium import webdriver\n",
    "from selenium.webdriver.common.keys import Keys\n",
    "import time\n",
    "import re"
   ]
  },
  {
   "cell_type": "code",
   "execution_count": 2,
   "id": "9a116e02",
   "metadata": {},
   "outputs": [],
   "source": [
    "#Starting webdriver, we're using Chrome as usual.\n",
    "\n",
    "driver = webdriver.Chrome()"
   ]
  },
  {
   "cell_type": "code",
   "execution_count": 3,
   "id": "2c7ce813",
   "metadata": {},
   "outputs": [],
   "source": [
    "#Url of a random port to test.\n",
    "\n",
    "url = 'https://www.altimetrias.net/aspbk/verPerfilusu.asp?id=1841'"
   ]
  },
  {
   "cell_type": "code",
   "execution_count": 4,
   "id": "a7cafc4a",
   "metadata": {},
   "outputs": [],
   "source": [
    "#Accessing the url.\n",
    "\n",
    "driver.get(url)"
   ]
  },
  {
   "cell_type": "code",
   "execution_count": 5,
   "id": "de9214ea",
   "metadata": {},
   "outputs": [
    {
     "data": {
      "text/plain": [
       "'ZUMARRAUNDI'"
      ]
     },
     "execution_count": 5,
     "metadata": {},
     "output_type": "execute_result"
    }
   ],
   "source": [
    "#Using xpath to locate the first elements. Here we have the name of the port:\n",
    "\n",
    "driver.find_elements_by_xpath('/html/body/div/table/tbody/tr/td/table[1]/tbody/tr/td[3]/b/font[1]')[0].text"
   ]
  },
  {
   "cell_type": "code",
   "execution_count": 6,
   "id": "f00851df",
   "metadata": {},
   "outputs": [
    {
     "data": {
      "text/plain": [
       "' ÁLAVA'"
      ]
     },
     "execution_count": 6,
     "metadata": {},
     "output_type": "execute_result"
    }
   ],
   "source": [
    "#Province.\n",
    "\n",
    "driver.find_elements_by_xpath('/html/body/div/table/tbody/tr/td/table[1]/tbody/tr/td[2]/font')[0].text"
   ]
  },
  {
   "cell_type": "code",
   "execution_count": 7,
   "id": "a8e8c056",
   "metadata": {},
   "outputs": [
    {
     "data": {
      "text/plain": [
       "'Araia'"
      ]
     },
     "execution_count": 7,
     "metadata": {},
     "output_type": "execute_result"
    }
   ],
   "source": [
    "#Starting point (usually a town or city):\n",
    "\n",
    "driver.find_elements_by_xpath('/html/body/div/table/tbody/tr/td/table[1]/tbody/tr/td[3]/b/font[2]')[0].text"
   ]
  },
  {
   "cell_type": "code",
   "execution_count": 5,
   "id": "96862e63",
   "metadata": {},
   "outputs": [
    {
     "data": {
      "text/plain": [
       "'Altitud: 942 m'"
      ]
     },
     "execution_count": 5,
     "metadata": {},
     "output_type": "execute_result"
    }
   ],
   "source": [
    "#Scraping the altitude we run into our first problem: there's strings and special characters mixed with our value.\n",
    "\n",
    "driver.find_elements_by_xpath('/html/body/div/table/tbody/tr/td/table[2]/tbody/tr/td[1]')[0].text"
   ]
  },
  {
   "cell_type": "code",
   "execution_count": 19,
   "id": "a9540e13",
   "metadata": {},
   "outputs": [
    {
     "data": {
      "text/plain": [
       "942"
      ]
     },
     "execution_count": 19,
     "metadata": {},
     "output_type": "execute_result"
    }
   ],
   "source": [
    "#Using regex and typecasting to int we're able to obtain the desired output.\n",
    "\n",
    "int(re.sub(\"\\D\", \"\", (driver.find_elements_by_xpath('/html/body/div/table/tbody/tr/td/table[2]/tbody/tr/td[1]')[0].text)))"
   ]
  },
  {
   "cell_type": "code",
   "execution_count": 20,
   "id": "e355a432",
   "metadata": {},
   "outputs": [
    {
     "data": {
      "text/plain": [
       "5.6"
      ]
     },
     "execution_count": 20,
     "metadata": {},
     "output_type": "execute_result"
    }
   ],
   "source": [
    "#We'll use the same strategy for the distance and the remaining numerical values. \n",
    "#Distance:\n",
    "\n",
    "float(driver.find_elements_by_xpath('/html/body/div/table/tbody/tr/td/table[2]/tbody/tr/td[2]')[0].text[10:14].lstrip().replace(',','.'))"
   ]
  },
  {
   "cell_type": "code",
   "execution_count": 7,
   "id": "78b6fdd3",
   "metadata": {},
   "outputs": [
    {
     "data": {
      "text/plain": [
       "341"
      ]
     },
     "execution_count": 7,
     "metadata": {},
     "output_type": "execute_result"
    }
   ],
   "source": [
    "#Elevation gain:\n",
    "\n",
    "int(re.sub(\"\\D\", \"\", (driver.find_elements_by_xpath('/html/body/div/table/tbody/tr/td/table[2]/tbody/tr/td[3]')[0].text)))"
   ]
  },
  {
   "cell_type": "code",
   "execution_count": 26,
   "id": "91ccd58a",
   "metadata": {},
   "outputs": [
    {
     "data": {
      "text/plain": [
       "6.0"
      ]
     },
     "execution_count": 26,
     "metadata": {},
     "output_type": "execute_result"
    }
   ],
   "source": [
    "#Average gradient:\n",
    "\n",
    "float(driver.find_elements_by_xpath('/html/body/div/table/tbody/tr/td/table[2]/tbody/tr/td[4]')[0].text[16:20].lstrip().replace(',','.'))"
   ]
  },
  {
   "cell_type": "code",
   "execution_count": 9,
   "id": "5cfb1486",
   "metadata": {},
   "outputs": [
    {
     "data": {
      "text/plain": [
       "89"
      ]
     },
     "execution_count": 9,
     "metadata": {},
     "output_type": "execute_result"
    }
   ],
   "source": [
    "#Suffer score:\n",
    "\n",
    "int(re.sub(\"\\D\", \"\", (driver.find_elements_by_xpath('/html/body/div/table/tbody/tr/td/table[2]/tbody/tr/td[5]')[0].text)))"
   ]
  },
  {
   "cell_type": "markdown",
   "id": "6b0f85d6",
   "metadata": {},
   "source": [
    "## Testing our scraper"
   ]
  },
  {
   "cell_type": "markdown",
   "id": "2f1a294d",
   "metadata": {},
   "source": [
    "Now that we have the location of every element of interest in a given url we can proceed to develop a scraping function.\n",
    "Since there's a base url followed by a number (from 0000 to 2400), we'll have to make sure that every number fed to the url maker (base url + number) has 4 digits. This will be accomplished with a small conditional block developed in **PR03**."
   ]
  },
  {
   "cell_type": "code",
   "execution_count": 27,
   "id": "db72283c",
   "metadata": {},
   "outputs": [],
   "source": [
    "def scraper_user_alt(x): \n",
    "    if len(str(x)) == 1: \n",
    "        x = '000' + str(x) #If the number passed to the function has a single digit, 3 zeros will be added to its left.   \n",
    "    elif len(str(x)) == 2: \n",
    "        x = '00' + str(x) #The same concept is used for every possible input length.\n",
    "    elif len(str(x)) == 3:   \n",
    "        x = '0' + str(x)\n",
    "    else:\n",
    "        pass #If the number has 4 digits we'll do nothing.\n",
    "    try: #Not every url will work or display a port. Using a simple try/except we can skip past those instances.\n",
    "        driver = webdriver.Chrome()\n",
    "        base_url_puerto = 'https://www.altimetrias.net/aspbk/verPerfilusu.asp?id='\n",
    "        url = f'{base_url_puerto}{x}' #Creating the final url combining base url and the given number.                                          \n",
    "        driver.get(url)\n",
    "        time.sleep(1) #Sleeping for 1 second so the page has time to load.\n",
    "        puerto = [{'puerto': driver.find_elements_by_xpath('/html/body/div/table/tbody/tr/td/table[1]/tbody/tr/td[3]/b/font[1]')[0].text,              \n",
    "              'provincia': driver.find_elements_by_xpath('/html/body/div/table/tbody/tr/td/table[1]/tbody/tr/td[2]/font')[0].text,\n",
    "              'pueblo': driver.find_elements_by_xpath('/html/body/div/table/tbody/tr/td/table[1]/tbody/tr/td[3]/b/font[2]')[0].text,\n",
    "              'altitud': int(re.sub(\"\\D\", \"\", (driver.find_elements_by_xpath('/html/body/div/table/tbody/tr/td/table[2]/tbody/tr/td[1]')[0].text))),   \n",
    "              'desnivel': int(re.sub(\"\\D\", \"\", (driver.find_elements_by_xpath('/html/body/div/table/tbody/tr/td/table[2]/tbody/tr/td[3]')[0].text))),\n",
    "              'distancia': float(driver.find_elements_by_xpath('/html/body/div/table/tbody/tr/td/table[2]/tbody/tr/td[2]')[0].text[10:14].lstrip().replace(',','.')),\n",
    "              'pendiente': float(driver.find_elements_by_xpath('/html/body/div/table/tbody/tr/td/table[2]/tbody/tr/td[4]')[0].text[16:20].lstrip().replace(',','.')),\n",
    "              'coeficiente': int(re.sub(\"\\D\", \"\", (driver.find_elements_by_xpath('/html/body/div/table/tbody/tr/td/table[2]/tbody/tr/td[5]')[0].text))),\n",
    "              'url': driver.current_url}] #Creating a dictionary with all the previously mentioned elements.\n",
    "        driver.close() #Closing the current tab.\n",
    "    except:\n",
    "        driver.close() #If the url can't be accessed, close the tab and try the next one.\n",
    "    return puerto #Returning the dictionary we just created.          "
   ]
  },
  {
   "cell_type": "code",
   "execution_count": 30,
   "id": "1c3c8cf6",
   "metadata": {},
   "outputs": [
    {
     "data": {
      "text/plain": [
       "[{'puerto': 'OIZ MENDIA',\n",
       "  'provincia': ' BIZKAIA',\n",
       "  'pueblo': 'Mendata-Totorika-Gortaguren',\n",
       "  'altitud': 1020,\n",
       "  'desnivel': 1000,\n",
       "  'distancia': 27.0,\n",
       "  'pendiente': 3.6,\n",
       "  'coeficiente': 405,\n",
       "  'url': 'https://www.altimetrias.net/aspbk/verPerfilusu.asp?id=0099'}]"
      ]
     },
     "execution_count": 30,
     "metadata": {},
     "output_type": "execute_result"
    }
   ],
   "source": [
    "#Let's test our function with the previous port:\n",
    "\n",
    "scraper_user_alt(99)"
   ]
  },
  {
   "cell_type": "markdown",
   "id": "81316bd7",
   "metadata": {},
   "source": [
    "## Testing our final function"
   ]
  },
  {
   "cell_type": "markdown",
   "id": "ae8df400",
   "metadata": {},
   "source": [
    "Now that we can scrape a single url, let's create a function that will scrape every url in a given range and return a Pandas dataframe. We'll also add a little timer to benchmark our function. "
   ]
  },
  {
   "cell_type": "code",
   "execution_count": 31,
   "id": "e7e90db0",
   "metadata": {},
   "outputs": [],
   "source": [
    "def scraper(port_range):\n",
    "    start = time.time() #Starting our timer.\n",
    "    lista = [] #We'll append this list with every generated dictionary.\n",
    "    for i in range(port_range):\n",
    "        try:\n",
    "            puerto = scraper_user_alt(i) #Using the previous function to scrape every url.\n",
    "            lista.append(puerto) #Appending the generated dict to our list.\n",
    "        except:\n",
    "            pass #If we can't run the scraper, try the next url. \n",
    "    df = pd.DataFrame(lista[0]) #Once we've scraped every url we'll generate a DF using our first dictionary.\n",
    "    for i in lista[1:]: #Then, we'll append the remaining dictionaries to our dataframe.\n",
    "        df = df.append(i, ignore_index=True)\n",
    "    stop = time.time() #Stopping our timer.\n",
    "    duration = (stop - start) / 60 #Calculating the elapsed minutes.\n",
    "    print('You just lost', duration, 'minutes of your life.') #Printing the elapsed minutes.\n",
    "    return df #Returning the generated DF."
   ]
  },
  {
   "cell_type": "code",
   "execution_count": 32,
   "id": "5ed3287b",
   "metadata": {},
   "outputs": [
    {
     "name": "stdout",
     "output_type": "stream",
     "text": [
      "You just lost 0.39635935227076213 minutes of your life.\n"
     ]
    }
   ],
   "source": [
    "#Testing our function.\n",
    "\n",
    "df = scraper(5)"
   ]
  },
  {
   "cell_type": "code",
   "execution_count": 33,
   "id": "68708b52",
   "metadata": {},
   "outputs": [
    {
     "data": {
      "text/html": [
       "<div>\n",
       "<style scoped>\n",
       "    .dataframe tbody tr th:only-of-type {\n",
       "        vertical-align: middle;\n",
       "    }\n",
       "\n",
       "    .dataframe tbody tr th {\n",
       "        vertical-align: top;\n",
       "    }\n",
       "\n",
       "    .dataframe thead th {\n",
       "        text-align: right;\n",
       "    }\n",
       "</style>\n",
       "<table border=\"1\" class=\"dataframe\">\n",
       "  <thead>\n",
       "    <tr style=\"text-align: right;\">\n",
       "      <th></th>\n",
       "      <th>puerto</th>\n",
       "      <th>provincia</th>\n",
       "      <th>pueblo</th>\n",
       "      <th>altitud</th>\n",
       "      <th>desnivel</th>\n",
       "      <th>distancia</th>\n",
       "      <th>pendiente</th>\n",
       "      <th>coeficiente</th>\n",
       "      <th>url</th>\n",
       "    </tr>\n",
       "  </thead>\n",
       "  <tbody>\n",
       "    <tr>\n",
       "      <th>0</th>\n",
       "      <td>PRESA DEL ATAZAR</td>\n",
       "      <td>MADRID</td>\n",
       "      <td>Patones</td>\n",
       "      <td>1050</td>\n",
       "      <td>275</td>\n",
       "      <td>4.3</td>\n",
       "      <td>6.4</td>\n",
       "      <td>52</td>\n",
       "      <td>https://www.altimetrias.net/aspbk/verPerfilusu...</td>\n",
       "    </tr>\n",
       "    <tr>\n",
       "      <th>1</th>\n",
       "      <td>LA CUESTA</td>\n",
       "      <td>MURCIA</td>\n",
       "      <td>Tallante</td>\n",
       "      <td>349</td>\n",
       "      <td>147</td>\n",
       "      <td>2.2</td>\n",
       "      <td>6.6</td>\n",
       "      <td>29</td>\n",
       "      <td>https://www.altimetrias.net/aspbk/verPerfilusu...</td>\n",
       "    </tr>\n",
       "    <tr>\n",
       "      <th>2</th>\n",
       "      <td>MONTE ARRAIZ</td>\n",
       "      <td>BIZKAIA</td>\n",
       "      <td>Bilbao</td>\n",
       "      <td>314</td>\n",
       "      <td>275</td>\n",
       "      <td>2.4</td>\n",
       "      <td>11.0</td>\n",
       "      <td>110</td>\n",
       "      <td>https://www.altimetrias.net/aspbk/verPerfilusu...</td>\n",
       "    </tr>\n",
       "    <tr>\n",
       "      <th>3</th>\n",
       "      <td>PUERTO DE ANSÓ</td>\n",
       "      <td>HUESCA</td>\n",
       "      <td>Hecho</td>\n",
       "      <td>1078</td>\n",
       "      <td>266</td>\n",
       "      <td>4.6</td>\n",
       "      <td>5.7</td>\n",
       "      <td>46</td>\n",
       "      <td>https://www.altimetrias.net/aspbk/verPerfilusu...</td>\n",
       "    </tr>\n",
       "  </tbody>\n",
       "</table>\n",
       "</div>"
      ],
      "text/plain": [
       "             puerto provincia    pueblo  altitud  desnivel  distancia  \\\n",
       "0  PRESA DEL ATAZAR    MADRID   Patones     1050       275        4.3   \n",
       "1         LA CUESTA    MURCIA  Tallante      349       147        2.2   \n",
       "2      MONTE ARRAIZ   BIZKAIA    Bilbao      314       275        2.4   \n",
       "3    PUERTO DE ANSÓ    HUESCA     Hecho     1078       266        4.6   \n",
       "\n",
       "   pendiente  coeficiente                                                url  \n",
       "0        6.4           52  https://www.altimetrias.net/aspbk/verPerfilusu...  \n",
       "1        6.6           29  https://www.altimetrias.net/aspbk/verPerfilusu...  \n",
       "2       11.0          110  https://www.altimetrias.net/aspbk/verPerfilusu...  \n",
       "3        5.7           46  https://www.altimetrias.net/aspbk/verPerfilusu...  "
      ]
     },
     "execution_count": 33,
     "metadata": {},
     "output_type": "execute_result"
    }
   ],
   "source": [
    "#Checking our generated DF. Everything's in order.\n",
    "\n",
    "df.head()"
   ]
  },
  {
   "cell_type": "code",
   "execution_count": 34,
   "id": "e69cdc7a",
   "metadata": {},
   "outputs": [
    {
     "name": "stdout",
     "output_type": "stream",
     "text": [
      "<class 'pandas.core.frame.DataFrame'>\n",
      "RangeIndex: 4 entries, 0 to 3\n",
      "Data columns (total 9 columns):\n",
      " #   Column       Non-Null Count  Dtype  \n",
      "---  ------       --------------  -----  \n",
      " 0   puerto       4 non-null      object \n",
      " 1   provincia    4 non-null      object \n",
      " 2   pueblo       4 non-null      object \n",
      " 3   altitud      4 non-null      int64  \n",
      " 4   desnivel     4 non-null      int64  \n",
      " 5   distancia    4 non-null      float64\n",
      " 6   pendiente    4 non-null      float64\n",
      " 7   coeficiente  4 non-null      int64  \n",
      " 8   url          4 non-null      object \n",
      "dtypes: float64(2), int64(3), object(4)\n",
      "memory usage: 416.0+ bytes\n"
     ]
    }
   ],
   "source": [
    "df.info()"
   ]
  },
  {
   "cell_type": "markdown",
   "id": "f1152d33",
   "metadata": {},
   "source": [
    "# Scraping all ports"
   ]
  },
  {
   "cell_type": "markdown",
   "id": "eef5c138",
   "metadata": {},
   "source": [
    "Since we know that the user-submitted ports have a range from 0000 to ~2400, we'll give our function a range of 2400 to make sure that we aren't missing any. Some of the urls won't be valid, so the actual number of rows might be quite lower."
   ]
  },
  {
   "cell_type": "code",
   "execution_count": null,
   "id": "fb38e93b",
   "metadata": {},
   "outputs": [],
   "source": [
    "df_user_alts = scraper(2400)"
   ]
  },
  {
   "cell_type": "code",
   "execution_count": null,
   "id": "dfc2152b",
   "metadata": {},
   "outputs": [],
   "source": [
    "#Let's see how many rows we have in our dataframe.\n",
    "\n",
    "df_user_alts.info()"
   ]
  },
  {
   "cell_type": "code",
   "execution_count": null,
   "id": "52fc3b4d",
   "metadata": {},
   "outputs": [],
   "source": [
    "#Now that our work is done, let's save the dataframe as a csv file.\n",
    "\n",
    "df_user_alts.to_csv('df_user_alts.csv')"
   ]
  },
  {
   "cell_type": "markdown",
   "id": "1252a289",
   "metadata": {},
   "source": [
    "**<div align=\"right\">Ironhack DA PT 2021</div>**\n",
    "    \n",
    "**<div align=\"right\">Xavier Esteban</div>**"
   ]
  }
 ],
 "metadata": {
  "kernelspec": {
   "display_name": "Python 3",
   "language": "python",
   "name": "python3"
  },
  "language_info": {
   "codemirror_mode": {
    "name": "ipython",
    "version": 3
   },
   "file_extension": ".py",
   "mimetype": "text/x-python",
   "name": "python",
   "nbconvert_exporter": "python",
   "pygments_lexer": "ipython3",
   "version": "3.8.8"
  },
  "toc": {
   "base_numbering": 1,
   "nav_menu": {},
   "number_sections": true,
   "sideBar": true,
   "skip_h1_title": false,
   "title_cell": "Table of Contents",
   "title_sidebar": "Contents",
   "toc_cell": false,
   "toc_position": {},
   "toc_section_display": true,
   "toc_window_display": false
  },
  "varInspector": {
   "cols": {
    "lenName": 16,
    "lenType": 16,
    "lenVar": 40
   },
   "kernels_config": {
    "python": {
     "delete_cmd_postfix": "",
     "delete_cmd_prefix": "del ",
     "library": "var_list.py",
     "varRefreshCmd": "print(var_dic_list())"
    },
    "r": {
     "delete_cmd_postfix": ") ",
     "delete_cmd_prefix": "rm(",
     "library": "var_list.r",
     "varRefreshCmd": "cat(var_dic_list()) "
    }
   },
   "types_to_exclude": [
    "module",
    "function",
    "builtin_function_or_method",
    "instance",
    "_Feature"
   ],
   "window_display": false
  }
 },
 "nbformat": 4,
 "nbformat_minor": 5
}
