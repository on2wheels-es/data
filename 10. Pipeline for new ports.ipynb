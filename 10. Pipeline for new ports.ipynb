{
 "cells": [
  {
   "cell_type": "markdown",
   "id": "811e6493",
   "metadata": {},
   "source": [
    "# Creating a pipeline for new ports"
   ]
  },
  {
   "cell_type": "markdown",
   "id": "2de51dba",
   "metadata": {},
   "source": [
    "Our routes database is quite extensive, but in the future we will probable be adding new ports. It's very probable that those new ports already have routes that climb them in our database, so it would be in our best interest to combine all necessary data manipulation and parsing steps in a single notebook (or function) that can be re-run on demand."
   ]
  },
  {
   "cell_type": "markdown",
   "id": "80591de8",
   "metadata": {},
   "source": [
    "## Cleaning our original routes dataframe for testing"
   ]
  },
  {
   "cell_type": "markdown",
   "id": "5c412a63",
   "metadata": {},
   "source": [
    "Before we begin creating the pipeline we will clean and manipulate our original routes dataframe so that it meets our requirements."
   ]
  },
  {
   "cell_type": "code",
   "execution_count": 1,
   "id": "0b5e4f5a",
   "metadata": {},
   "outputs": [],
   "source": [
    "import pandas as pd\n",
    "import haversine as hs\n",
    "import time"
   ]
  },
  {
   "cell_type": "code",
   "execution_count": 2,
   "id": "523e95c6",
   "metadata": {},
   "outputs": [],
   "source": [
    "routes = pd.read_csv('master_1407.csv')"
   ]
  },
  {
   "cell_type": "code",
   "execution_count": 3,
   "id": "b6c25b7d",
   "metadata": {},
   "outputs": [
    {
     "data": {
      "text/html": [
       "<div>\n",
       "<style scoped>\n",
       "    .dataframe tbody tr th:only-of-type {\n",
       "        vertical-align: middle;\n",
       "    }\n",
       "\n",
       "    .dataframe tbody tr th {\n",
       "        vertical-align: top;\n",
       "    }\n",
       "\n",
       "    .dataframe thead th {\n",
       "        text-align: right;\n",
       "    }\n",
       "</style>\n",
       "<table border=\"1\" class=\"dataframe\">\n",
       "  <thead>\n",
       "    <tr style=\"text-align: right;\">\n",
       "      <th></th>\n",
       "      <th>ID</th>\n",
       "      <th>nombre</th>\n",
       "      <th>ccaa</th>\n",
       "      <th>provincia</th>\n",
       "      <th>coords</th>\n",
       "      <th>alt</th>\n",
       "      <th>start</th>\n",
       "      <th>midpoint</th>\n",
       "      <th>distancia</th>\n",
       "      <th>desnivel</th>\n",
       "      <th>min_alt</th>\n",
       "      <th>max_alt</th>\n",
       "      <th>municipios</th>\n",
       "      <th>puertos</th>\n",
       "      <th>trailrank</th>\n",
       "      <th>url</th>\n",
       "    </tr>\n",
       "  </thead>\n",
       "  <tbody>\n",
       "    <tr>\n",
       "      <th>0</th>\n",
       "      <td>0</td>\n",
       "      <td>01-Madrid - Motilla del Palancar</td>\n",
       "      <td>NaN</td>\n",
       "      <td>NaN</td>\n",
       "      <td>[(40.39467, -3.67912), (40.39546, -3.67998), (...</td>\n",
       "      <td>[592.065, 597.068, 596.014, 597.008, 598.067, ...</td>\n",
       "      <td>(40.39467, -3.67912)</td>\n",
       "      <td>(40.09315, -2.891046)</td>\n",
       "      <td>229</td>\n",
       "      <td>1884</td>\n",
       "      <td>544</td>\n",
       "      <td>976</td>\n",
       "      <td>NaN</td>\n",
       "      <td>NaN</td>\n",
       "      <td>27</td>\n",
       "      <td>https://es.wikiloc.com/rutas-ciclismo/01-madri...</td>\n",
       "    </tr>\n",
       "    <tr>\n",
       "      <th>1</th>\n",
       "      <td>1</td>\n",
       "      <td>01-MAY-16 ALMÁCERA-BÉTERA-OLOCAU-GÁTOVA-ALTO D...</td>\n",
       "      <td>NaN</td>\n",
       "      <td>NaN</td>\n",
       "      <td>[(39.510125, -0.355943), (39.510517, -0.35574)...</td>\n",
       "      <td>[-79.616, -79.676, -79.613, -79.208, -79.662, ...</td>\n",
       "      <td>(39.510125, -0.355943)</td>\n",
       "      <td>(39.809736, -0.515215)</td>\n",
       "      <td>117</td>\n",
       "      <td>1292</td>\n",
       "      <td>0</td>\n",
       "      <td>729</td>\n",
       "      <td>NaN</td>\n",
       "      <td>NaN</td>\n",
       "      <td>21</td>\n",
       "      <td>https://es.wikiloc.com/rutas-ciclismo/01-may-1...</td>\n",
       "    </tr>\n",
       "    <tr>\n",
       "      <th>2</th>\n",
       "      <td>2</td>\n",
       "      <td>02-AGO-15 Coll de La Gallina, Port de Beixalís...</td>\n",
       "      <td>NaN</td>\n",
       "      <td>NaN</td>\n",
       "      <td>[(42.511074, 1.549479), (42.511086, 1.549457),...</td>\n",
       "      <td>[1054.713, 1059.043, 1064.307, 1064.808, 1069....</td>\n",
       "      <td>(42.511074, 1.549479)</td>\n",
       "      <td>(42.532589, 1.561706)</td>\n",
       "      <td>93</td>\n",
       "      <td>2850</td>\n",
       "      <td>912</td>\n",
       "      <td>2082</td>\n",
       "      <td>NaN</td>\n",
       "      <td>NaN</td>\n",
       "      <td>62</td>\n",
       "      <td>https://es.wikiloc.com/rutas-ciclismo/02-ago-1...</td>\n",
       "    </tr>\n",
       "    <tr>\n",
       "      <th>3</th>\n",
       "      <td>3</td>\n",
       "      <td>02-Motilla del Palancar - Valencia</td>\n",
       "      <td>NaN</td>\n",
       "      <td>NaN</td>\n",
       "      <td>[(39.561199, -1.906015), (39.561199, -1.906015...</td>\n",
       "      <td>[665.256, 665.259, 665.214, 665.208, 665.036, ...</td>\n",
       "      <td>(39.561199, -1.906015)</td>\n",
       "      <td>(39.374283, -1.012429)</td>\n",
       "      <td>167</td>\n",
       "      <td>1001</td>\n",
       "      <td>0</td>\n",
       "      <td>734</td>\n",
       "      <td>NaN</td>\n",
       "      <td>NaN</td>\n",
       "      <td>38</td>\n",
       "      <td>https://es.wikiloc.com/rutas-ciclismo/02-motil...</td>\n",
       "    </tr>\n",
       "    <tr>\n",
       "      <th>4</th>\n",
       "      <td>4</td>\n",
       "      <td>05-ABR-15 Les Tres Cales</td>\n",
       "      <td>NaN</td>\n",
       "      <td>NaN</td>\n",
       "      <td>[(40.913227, 0.804593), (40.913242, 0.804572),...</td>\n",
       "      <td>[63.634, 63.155, 59.71, 59.307, 56.462, 54.985...</td>\n",
       "      <td>(40.913227, 0.804593)</td>\n",
       "      <td>(40.905964, 0.740497)</td>\n",
       "      <td>27</td>\n",
       "      <td>416</td>\n",
       "      <td>25</td>\n",
       "      <td>191</td>\n",
       "      <td>NaN</td>\n",
       "      <td>NaN</td>\n",
       "      <td>27</td>\n",
       "      <td>https://es.wikiloc.com/rutas-ciclismo/05-abr-1...</td>\n",
       "    </tr>\n",
       "  </tbody>\n",
       "</table>\n",
       "</div>"
      ],
      "text/plain": [
       "   ID                                             nombre  ccaa  provincia  \\\n",
       "0   0                   01-Madrid - Motilla del Palancar   NaN        NaN   \n",
       "1   1  01-MAY-16 ALMÁCERA-BÉTERA-OLOCAU-GÁTOVA-ALTO D...   NaN        NaN   \n",
       "2   2  02-AGO-15 Coll de La Gallina, Port de Beixalís...   NaN        NaN   \n",
       "3   3                 02-Motilla del Palancar - Valencia   NaN        NaN   \n",
       "4   4                           05-ABR-15 Les Tres Cales   NaN        NaN   \n",
       "\n",
       "                                              coords  \\\n",
       "0  [(40.39467, -3.67912), (40.39546, -3.67998), (...   \n",
       "1  [(39.510125, -0.355943), (39.510517, -0.35574)...   \n",
       "2  [(42.511074, 1.549479), (42.511086, 1.549457),...   \n",
       "3  [(39.561199, -1.906015), (39.561199, -1.906015...   \n",
       "4  [(40.913227, 0.804593), (40.913242, 0.804572),...   \n",
       "\n",
       "                                                 alt                   start  \\\n",
       "0  [592.065, 597.068, 596.014, 597.008, 598.067, ...    (40.39467, -3.67912)   \n",
       "1  [-79.616, -79.676, -79.613, -79.208, -79.662, ...  (39.510125, -0.355943)   \n",
       "2  [1054.713, 1059.043, 1064.307, 1064.808, 1069....   (42.511074, 1.549479)   \n",
       "3  [665.256, 665.259, 665.214, 665.208, 665.036, ...  (39.561199, -1.906015)   \n",
       "4  [63.634, 63.155, 59.71, 59.307, 56.462, 54.985...   (40.913227, 0.804593)   \n",
       "\n",
       "                 midpoint  distancia  desnivel  min_alt  max_alt  municipios  \\\n",
       "0   (40.09315, -2.891046)        229      1884      544      976         NaN   \n",
       "1  (39.809736, -0.515215)        117      1292        0      729         NaN   \n",
       "2   (42.532589, 1.561706)         93      2850      912     2082         NaN   \n",
       "3  (39.374283, -1.012429)        167      1001        0      734         NaN   \n",
       "4   (40.905964, 0.740497)         27       416       25      191         NaN   \n",
       "\n",
       "   puertos  trailrank                                                url  \n",
       "0      NaN         27  https://es.wikiloc.com/rutas-ciclismo/01-madri...  \n",
       "1      NaN         21  https://es.wikiloc.com/rutas-ciclismo/01-may-1...  \n",
       "2      NaN         62  https://es.wikiloc.com/rutas-ciclismo/02-ago-1...  \n",
       "3      NaN         38  https://es.wikiloc.com/rutas-ciclismo/02-motil...  \n",
       "4      NaN         27  https://es.wikiloc.com/rutas-ciclismo/05-abr-1...  "
      ]
     },
     "execution_count": 3,
     "metadata": {},
     "output_type": "execute_result"
    }
   ],
   "source": [
    "routes.head()"
   ]
  },
  {
   "cell_type": "code",
   "execution_count": 4,
   "id": "ee938f4c",
   "metadata": {},
   "outputs": [],
   "source": [
    "#Renaming the columns.\n",
    "\n",
    "routes.rename(columns = {'nombre': 'name', 'provincia': 'province', 'distancia': 'distance', 'desnivel': 'gradient', 'municipios': 'municipalities_ids', 'puertos': 'mountain_passes_ids'}, inplace = True)"
   ]
  },
  {
   "cell_type": "code",
   "execution_count": 5,
   "id": "56cd7615",
   "metadata": {},
   "outputs": [
    {
     "data": {
      "text/html": [
       "<div>\n",
       "<style scoped>\n",
       "    .dataframe tbody tr th:only-of-type {\n",
       "        vertical-align: middle;\n",
       "    }\n",
       "\n",
       "    .dataframe tbody tr th {\n",
       "        vertical-align: top;\n",
       "    }\n",
       "\n",
       "    .dataframe thead th {\n",
       "        text-align: right;\n",
       "    }\n",
       "</style>\n",
       "<table border=\"1\" class=\"dataframe\">\n",
       "  <thead>\n",
       "    <tr style=\"text-align: right;\">\n",
       "      <th></th>\n",
       "      <th>ID</th>\n",
       "      <th>name</th>\n",
       "      <th>ccaa</th>\n",
       "      <th>province</th>\n",
       "      <th>coords</th>\n",
       "      <th>alt</th>\n",
       "      <th>start</th>\n",
       "      <th>midpoint</th>\n",
       "      <th>distance</th>\n",
       "      <th>gradient</th>\n",
       "      <th>min_alt</th>\n",
       "      <th>max_alt</th>\n",
       "      <th>municipalities_ids</th>\n",
       "      <th>mountain_passes_ids</th>\n",
       "      <th>trailrank</th>\n",
       "      <th>url</th>\n",
       "    </tr>\n",
       "  </thead>\n",
       "  <tbody>\n",
       "    <tr>\n",
       "      <th>0</th>\n",
       "      <td>0</td>\n",
       "      <td>01-Madrid - Motilla del Palancar</td>\n",
       "      <td>NaN</td>\n",
       "      <td>NaN</td>\n",
       "      <td>[(40.39467, -3.67912), (40.39546, -3.67998), (...</td>\n",
       "      <td>[592.065, 597.068, 596.014, 597.008, 598.067, ...</td>\n",
       "      <td>(40.39467, -3.67912)</td>\n",
       "      <td>(40.09315, -2.891046)</td>\n",
       "      <td>229</td>\n",
       "      <td>1884</td>\n",
       "      <td>544</td>\n",
       "      <td>976</td>\n",
       "      <td>NaN</td>\n",
       "      <td>NaN</td>\n",
       "      <td>27</td>\n",
       "      <td>https://es.wikiloc.com/rutas-ciclismo/01-madri...</td>\n",
       "    </tr>\n",
       "  </tbody>\n",
       "</table>\n",
       "</div>"
      ],
      "text/plain": [
       "   ID                              name  ccaa  province  \\\n",
       "0   0  01-Madrid - Motilla del Palancar   NaN       NaN   \n",
       "\n",
       "                                              coords  \\\n",
       "0  [(40.39467, -3.67912), (40.39546, -3.67998), (...   \n",
       "\n",
       "                                                 alt                 start  \\\n",
       "0  [592.065, 597.068, 596.014, 597.008, 598.067, ...  (40.39467, -3.67912)   \n",
       "\n",
       "                midpoint  distance  gradient  min_alt  max_alt  \\\n",
       "0  (40.09315, -2.891046)       229      1884      544      976   \n",
       "\n",
       "   municipalities_ids  mountain_passes_ids  trailrank  \\\n",
       "0                 NaN                  NaN         27   \n",
       "\n",
       "                                                 url  \n",
       "0  https://es.wikiloc.com/rutas-ciclismo/01-madri...  "
      ]
     },
     "execution_count": 5,
     "metadata": {},
     "output_type": "execute_result"
    }
   ],
   "source": [
    "routes.head(1)"
   ]
  },
  {
   "cell_type": "code",
   "execution_count": 6,
   "id": "087db0c3",
   "metadata": {},
   "outputs": [],
   "source": [
    "#Creating a new column for the gpx file url.\n",
    "\n",
    "routes['gpx_link'] = None"
   ]
  },
  {
   "cell_type": "code",
   "execution_count": 7,
   "id": "0d090069",
   "metadata": {},
   "outputs": [],
   "source": [
    "#Re-ordering the columns.\n",
    "\n",
    "routes = routes[['ID', 'name', 'ccaa', 'province', 'start', 'midpoint', 'trailrank', 'distance', 'gradient', 'min_alt', 'max_alt', 'mountain_passes_ids', 'municipalities_ids', 'coords', 'alt','gpx_link']]"
   ]
  },
  {
   "cell_type": "code",
   "execution_count": 8,
   "id": "b42c1756",
   "metadata": {},
   "outputs": [],
   "source": [
    "#Deleting extremely short, long or high routes.\n",
    "\n",
    "routes = routes[routes['distance'] < 230]\n",
    "routes = routes[routes['distance'] > 30]\n",
    "routes = routes[routes['gradient'] < 4700]"
   ]
  },
  {
   "cell_type": "code",
   "execution_count": 9,
   "id": "930e547e",
   "metadata": {},
   "outputs": [],
   "source": [
    "#Resetting the index.\n",
    "\n",
    "routes = routes.reset_index(drop=True)"
   ]
  },
  {
   "cell_type": "code",
   "execution_count": 10,
   "id": "f90b2395",
   "metadata": {},
   "outputs": [
    {
     "name": "stdout",
     "output_type": "stream",
     "text": [
      "<class 'pandas.core.frame.DataFrame'>\n",
      "RangeIndex: 9497 entries, 0 to 9496\n",
      "Data columns (total 16 columns):\n",
      " #   Column               Non-Null Count  Dtype  \n",
      "---  ------               --------------  -----  \n",
      " 0   ID                   9497 non-null   int64  \n",
      " 1   name                 9497 non-null   object \n",
      " 2   ccaa                 0 non-null      float64\n",
      " 3   province             0 non-null      float64\n",
      " 4   start                9497 non-null   object \n",
      " 5   midpoint             9497 non-null   object \n",
      " 6   trailrank            9497 non-null   int64  \n",
      " 7   distance             9497 non-null   int64  \n",
      " 8   gradient             9497 non-null   int64  \n",
      " 9   min_alt              9497 non-null   int64  \n",
      " 10  max_alt              9497 non-null   int64  \n",
      " 11  mountain_passes_ids  0 non-null      float64\n",
      " 12  municipalities_ids   0 non-null      float64\n",
      " 13  coords               9497 non-null   object \n",
      " 14  alt                  9497 non-null   object \n",
      " 15  gpx_link             0 non-null      object \n",
      "dtypes: float64(4), int64(6), object(6)\n",
      "memory usage: 1.2+ MB\n"
     ]
    }
   ],
   "source": [
    "routes.info()"
   ]
  },
  {
   "cell_type": "markdown",
   "id": "3b87ebd9",
   "metadata": {},
   "source": [
    "## Deleting non-circular routes"
   ]
  },
  {
   "cell_type": "markdown",
   "id": "eced464c",
   "metadata": {},
   "source": [
    "We only want circular routes, so we will create a new column with the last coordinate of the route and calculate its distance from the start point. Routes where that distance exceeds 2Km will be deleted."
   ]
  },
  {
   "cell_type": "code",
   "execution_count": 11,
   "id": "073bb3dc",
   "metadata": {},
   "outputs": [],
   "source": [
    "#Creating column to hold finish coordinates.\n",
    "\n",
    "routes['finish'] = None"
   ]
  },
  {
   "cell_type": "code",
   "execution_count": 12,
   "id": "6b61d964",
   "metadata": {
    "scrolled": true
   },
   "outputs": [
    {
     "name": "stderr",
     "output_type": "stream",
     "text": [
      "C:\\Users\\Usuario\\anaconda3\\lib\\site-packages\\pandas\\core\\indexing.py:1637: SettingWithCopyWarning: \n",
      "A value is trying to be set on a copy of a slice from a DataFrame\n",
      "\n",
      "See the caveats in the documentation: https://pandas.pydata.org/pandas-docs/stable/user_guide/indexing.html#returning-a-view-versus-a-copy\n",
      "  self._setitem_single_block(indexer, value, name)\n"
     ]
    }
   ],
   "source": [
    "#Extracting the finish coordinates as the last tuple in the 'coords' list.\n",
    "\n",
    "for i in range(len(routes)):\n",
    "    routes['finish'].iloc[i] = eval(routes['coords'].iloc[i])[-1]"
   ]
  },
  {
   "cell_type": "code",
   "execution_count": 13,
   "id": "d6a3f704",
   "metadata": {},
   "outputs": [],
   "source": [
    "#Creating a dummy column.\n",
    "\n",
    "routes['is_circular'] = None"
   ]
  },
  {
   "cell_type": "code",
   "execution_count": 14,
   "id": "38b8c7e1",
   "metadata": {},
   "outputs": [
    {
     "name": "stderr",
     "output_type": "stream",
     "text": [
      "C:\\Users\\Usuario\\anaconda3\\lib\\site-packages\\pandas\\core\\indexing.py:1637: SettingWithCopyWarning: \n",
      "A value is trying to be set on a copy of a slice from a DataFrame\n",
      "\n",
      "See the caveats in the documentation: https://pandas.pydata.org/pandas-docs/stable/user_guide/indexing.html#returning-a-view-versus-a-copy\n",
      "  self._setitem_single_block(indexer, value, name)\n"
     ]
    },
    {
     "name": "stdout",
     "output_type": "stream",
     "text": [
      "Minutes: 0.07371410131454467\n"
     ]
    }
   ],
   "source": [
    "#Populating it with 'yes' if the start and finish are less than 2Km apart. Otherwise it's a 'no'.\n",
    "\n",
    "start = time.time()\n",
    "\n",
    "for i in range(len(routes)):\n",
    "    if hs.haversine(eval(routes['start'].iloc[i]), routes['finish'].iloc[i]) <= 2:\n",
    "        routes['is_circular'].iloc[i] = 'yes'\n",
    "    else:\n",
    "        routes['is_circular'].iloc[i] = 'no'\n",
    "        \n",
    "stop = time.time() \n",
    "duration = (stop - start) / 60\n",
    "print('Minutes:', duration)"
   ]
  },
  {
   "cell_type": "code",
   "execution_count": 15,
   "id": "aeb59c7a",
   "metadata": {},
   "outputs": [],
   "source": [
    "#Deleting non-circular routes and the useless columns:\n",
    "\n",
    "routes = routes[routes['is_circular'] == 'yes']\n",
    "routes.drop(['is_circular', 'finish'], axis=1, inplace=True)"
   ]
  },
  {
   "cell_type": "code",
   "execution_count": 16,
   "id": "28fbf298",
   "metadata": {},
   "outputs": [],
   "source": [
    "#Reindexing.\n",
    "\n",
    "routes = routes.reset_index(drop=True)"
   ]
  },
  {
   "cell_type": "code",
   "execution_count": 17,
   "id": "c19a4d1f",
   "metadata": {},
   "outputs": [
    {
     "name": "stdout",
     "output_type": "stream",
     "text": [
      "<class 'pandas.core.frame.DataFrame'>\n",
      "RangeIndex: 8651 entries, 0 to 8650\n",
      "Data columns (total 16 columns):\n",
      " #   Column               Non-Null Count  Dtype  \n",
      "---  ------               --------------  -----  \n",
      " 0   ID                   8651 non-null   int64  \n",
      " 1   name                 8651 non-null   object \n",
      " 2   ccaa                 0 non-null      float64\n",
      " 3   province             0 non-null      float64\n",
      " 4   start                8651 non-null   object \n",
      " 5   midpoint             8651 non-null   object \n",
      " 6   trailrank            8651 non-null   int64  \n",
      " 7   distance             8651 non-null   int64  \n",
      " 8   gradient             8651 non-null   int64  \n",
      " 9   min_alt              8651 non-null   int64  \n",
      " 10  max_alt              8651 non-null   int64  \n",
      " 11  mountain_passes_ids  0 non-null      float64\n",
      " 12  municipalities_ids   0 non-null      float64\n",
      " 13  coords               8651 non-null   object \n",
      " 14  alt                  8651 non-null   object \n",
      " 15  gpx_link             0 non-null      object \n",
      "dtypes: float64(4), int64(6), object(6)\n",
      "memory usage: 1.1+ MB\n"
     ]
    }
   ],
   "source": [
    "#We're down to 8651 routes.\n",
    "\n",
    "routes.info()"
   ]
  },
  {
   "cell_type": "markdown",
   "id": "52e3b57e",
   "metadata": {},
   "source": [
    "# Extracting which ports pass through each route"
   ]
  },
  {
   "cell_type": "markdown",
   "id": "883b0ff0",
   "metadata": {},
   "source": [
    "Now that we've cleaned our routes dataframe it's time to search for which ports are climbed in every route."
   ]
  },
  {
   "cell_type": "code",
   "execution_count": 18,
   "id": "15860fef",
   "metadata": {},
   "outputs": [],
   "source": [
    "#Loading our ports dataset.\n",
    "\n",
    "ports = pd.read_csv('puertos.csv')"
   ]
  },
  {
   "cell_type": "code",
   "execution_count": 27,
   "id": "0eb6956b",
   "metadata": {},
   "outputs": [],
   "source": [
    "#This function checks if two points are less than 80Km apart.\n",
    "\n",
    "def isnear(a, b):\n",
    "    if hs.haversine(eval(routes['midpoint'].iloc[a]), eval(ports['peak_coords'].iloc[b])) < 80:\n",
    "                    return 'Yes'\n",
    "    else:\n",
    "                    return 'No'"
   ]
  },
  {
   "cell_type": "code",
   "execution_count": null,
   "id": "ff7f5e43",
   "metadata": {},
   "outputs": [],
   "source": [
    "#This function returns a dataframe of route ID and ports.\n",
    "\n",
    "start = time.time()\n",
    "\n",
    "dict_list = []\n",
    "\n",
    "for i in range(len(routes)):\n",
    "    lista_puertos = []\n",
    "    for p in range(len(ports)):\n",
    "        if isnear(i, p) == 'Yes':\n",
    "            new_c = eval(routes['coords'].iloc[i])\n",
    "            for n in new_c[0::30]:\n",
    "                if hs.haversine(n, eval(ports['peak_coords'].iloc[p])) < 0.3:\n",
    "                    if ports['ID'].iloc[p] not in lista_puertos:\n",
    "                        lista_puertos.append(ports['ID'].iloc[p])\n",
    "                    else:\n",
    "                        pass\n",
    "                else:\n",
    "                    pass\n",
    "    new = {'ruta': routes['ID'].iloc[i], 'puertos': lista_puertos}\n",
    "    dict_list.append(new)  \n",
    "    \n",
    "test = pd.DataFrame(dict_list)\n",
    "\n",
    "stop = time.time() \n",
    "duration = (stop - start) / 60\n",
    "print('Minutes:', duration)"
   ]
  },
  {
   "cell_type": "code",
   "execution_count": null,
   "id": "2305cfd3",
   "metadata": {},
   "outputs": [],
   "source": [
    "test.head()"
   ]
  },
  {
   "cell_type": "code",
   "execution_count": null,
   "id": "3164ca2f",
   "metadata": {},
   "outputs": [],
   "source": [
    "routes.info()"
   ]
  },
  {
   "cell_type": "markdown",
   "id": "140f113a",
   "metadata": {},
   "source": [
    "# Matching routes with towns"
   ]
  },
  {
   "cell_type": "code",
   "execution_count": null,
   "id": "03728670",
   "metadata": {},
   "outputs": [],
   "source": []
  }
 ],
 "metadata": {
  "kernelspec": {
   "display_name": "Python 3",
   "language": "python",
   "name": "python3"
  },
  "language_info": {
   "codemirror_mode": {
    "name": "ipython",
    "version": 3
   },
   "file_extension": ".py",
   "mimetype": "text/x-python",
   "name": "python",
   "nbconvert_exporter": "python",
   "pygments_lexer": "ipython3",
   "version": "3.8.8"
  },
  "toc": {
   "base_numbering": 1,
   "nav_menu": {},
   "number_sections": true,
   "sideBar": true,
   "skip_h1_title": false,
   "title_cell": "Table of Contents",
   "title_sidebar": "Contents",
   "toc_cell": false,
   "toc_position": {},
   "toc_section_display": true,
   "toc_window_display": false
  },
  "varInspector": {
   "cols": {
    "lenName": 16,
    "lenType": 16,
    "lenVar": 40
   },
   "kernels_config": {
    "python": {
     "delete_cmd_postfix": "",
     "delete_cmd_prefix": "del ",
     "library": "var_list.py",
     "varRefreshCmd": "print(var_dic_list())"
    },
    "r": {
     "delete_cmd_postfix": ") ",
     "delete_cmd_prefix": "rm(",
     "library": "var_list.r",
     "varRefreshCmd": "cat(var_dic_list()) "
    }
   },
   "types_to_exclude": [
    "module",
    "function",
    "builtin_function_or_method",
    "instance",
    "_Feature"
   ],
   "window_display": false
  }
 },
 "nbformat": 4,
 "nbformat_minor": 5
}
