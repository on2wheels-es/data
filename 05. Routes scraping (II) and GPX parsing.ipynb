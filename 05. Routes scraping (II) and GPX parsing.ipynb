{
 "cells": [
  {
   "cell_type": "markdown",
   "id": "11455da8",
   "metadata": {},
   "source": [
    "# Downloading routes that pass through a port's coordinates"
   ]
  },
  {
   "cell_type": "markdown",
   "id": "fe98f99d",
   "metadata": {},
   "source": [
    "Until now our route search was quite imprecise since it was based on searching for a port name on *Wikiloc*. Now that we have the exact coordinates for most ports it's quite possible to use the site's *'search routes that pass through here'* option and find routes that pass **exactly** through each port. \n",
    "\n",
    "Let's get to it."
   ]
  },
  {
   "cell_type": "markdown",
   "id": "05d6eae9",
   "metadata": {},
   "source": [
    "## Preparing our setup"
   ]
  },
  {
   "cell_type": "markdown",
   "id": "f69cf57d",
   "metadata": {},
   "source": [
    "For this purpose we will need to load our usual libraries, import a few functions and load the dataframe of port coordinates."
   ]
  },
  {
   "cell_type": "code",
   "execution_count": 3,
   "id": "5931fde5",
   "metadata": {},
   "outputs": [],
   "source": [
    "import pandas as pd\n",
    "import requests\n",
    "from selenium import webdriver\n",
    "from selenium.webdriver.common.keys import Keys\n",
    "from bs4 import BeautifulSoup\n",
    "import time\n",
    "import folium\n",
    "import re\n",
    "import pathlib\n",
    "import os\n",
    "import gpxpy\n",
    "import gpxpy.gpx\n",
    "import time\n",
    "from pathlib import Path\n",
    "import os"
   ]
  },
  {
   "cell_type": "code",
   "execution_count": 4,
   "id": "cd995391",
   "metadata": {},
   "outputs": [],
   "source": [
    "df = pd.read_csv('master_df_puertos_coords.csv')"
   ]
  },
  {
   "cell_type": "code",
   "execution_count": 2,
   "id": "d738199a",
   "metadata": {},
   "outputs": [],
   "source": [
    "driver = webdriver.Chrome()\n",
    "driver.get('https://es.wikiloc.com/wikiloc/start.do')"
   ]
  },
  {
   "cell_type": "code",
   "execution_count": 131,
   "id": "c9cbd713",
   "metadata": {},
   "outputs": [],
   "source": [
    "#Navigating to the search section with our \"road bike\" filter activated.\n",
    "\n",
    "def filtro():\n",
    "    search_bar = driver.find_element_by_xpath('/html/body/header/nav/div/div[1]/div/div')\n",
    "    search_bar.click()\n",
    "    time.sleep(1)\n",
    "    search_bar_open = driver.find_element_by_xpath('/html/body/header/nav/div/div[1]/div/div[1]/input')\n",
    "    search_bar_open.send_keys('bracons')\n",
    "    time.sleep(1)\n",
    "    bracons = driver.find_element_by_xpath('/html/body/header/nav/div/div[1]/div/div[2]/div/ul/div')\n",
    "    bracons.click()\n",
    "    time.sleep(1)\n",
    "    actividad = driver.find_element_by_xpath('/html/body/div[1]/div[1]/div[1]/div/div[1]/button')\n",
    "    actividad.click()\n",
    "    time.sleep(1)\n",
    "    selector_actividad = driver.find_element_by_xpath('/html/body/div[1]/div[1]/div[1]/div/div[1]/div/div/div/div[1]/div[1]/div/div[2]/div/div[2]/div')\n",
    "    selector_actividad.click()\n",
    "    time.sleep(1)\n",
    "    aplicar_filtro = driver.find_element_by_xpath('/html/body/div[1]/div[1]/div[1]/div/div[1]/div/div/div/div[2]/button')\n",
    "    aplicar_filtro.click() #Selecting the \"road bike\" filter. Now we're all set to scrape any destination."
   ]
  },
  {
   "cell_type": "code",
   "execution_count": 8,
   "id": "4ae04abd",
   "metadata": {},
   "outputs": [],
   "source": [
    "filtro()"
   ]
  },
  {
   "cell_type": "markdown",
   "id": "819c7dac",
   "metadata": {},
   "source": [
    "Our previous scrapper function only took into account the search location's name, but this time we will be including coordinates to get a far more accurate result."
   ]
  },
  {
   "cell_type": "markdown",
   "id": "b9dc1ad9",
   "metadata": {},
   "source": [
    "# Using our function to scrape all routes"
   ]
  },
  {
   "cell_type": "markdown",
   "id": "b9d1333d",
   "metadata": {},
   "source": [
    "In this section we created a loop that makes use of **Wikiloc**'s function \"search routes through this point\" to pass our port coordinates and find routes that reach every mountain pass."
   ]
  },
  {
   "cell_type": "code",
   "execution_count": 70,
   "id": "c921d86f",
   "metadata": {},
   "outputs": [],
   "source": [
    "#Creating a reduced dataframe to test our function.\n",
    "\n",
    "df_10 = df.head(10)"
   ]
  },
  {
   "cell_type": "code",
   "execution_count": 85,
   "id": "bc1e70c7",
   "metadata": {},
   "outputs": [
    {
     "name": "stdout",
     "output_type": "stream",
     "text": [
      "Minutes: 4.988209561506907\n"
     ]
    }
   ],
   "source": [
    "#Defining and testing our loop.\n",
    "\n",
    "start = time.time() #Starting a timer.\n",
    "\n",
    "lista_rutas = []\n",
    "\n",
    "for i in range(len(df_10)):\n",
    "    try:\n",
    "        time.sleep(0.5)\n",
    "        url = 'https://es.wikiloc.com/wikiloc/map.do?sw=41.55952720430883%2C2.3658370971679688&ne=41.58575748995264%2C2.415275573730469&act=29&zdp=(' + str(df['long'].iloc[i]) + '%2C' + str(df['lat'].iloc[i]) + '%2C357)&page=1'\n",
    "        driver.get(url)\n",
    "        time.sleep(0.5)\n",
    "        listado_dict = []\n",
    "        element = driver.find_elements_by_class_name('trail-list__wrapper')\n",
    "        for n in range(len(element)):\n",
    "            try:\n",
    "                element[n].click()\n",
    "                time.sleep(0.3)\n",
    "                nombre_ruta = driver.find_elements_by_xpath('//*[@id=\"front\"]/div/div/h1')[0].text\n",
    "                url = driver.current_url\n",
    "                trailrank = driver.find_elements_by_xpath('//*[@id=\"front\"]/div/div/a')[0].text\n",
    "                distancia = driver.find_elements_by_xpath('//*[@id=\"trail-data\"]/div[1]/div[1]/a/span[2]')[0].text\n",
    "                desnivel = driver.find_elements_by_xpath('//*[@id=\"trail-data\"]/div[1]/div[3]/a/span[2]')[0].text\n",
    "                dificultad = driver.find_elements_by_xpath('//*[@id=\"trail-data\"]/div[1]/div[7]/a/span[2]')[0].text\n",
    "                fotos = driver.find_elements_by_class_name('trail-photo')\n",
    "                photo1 = fotos[0].get_attribute('href')\n",
    "                photo2 = fotos[1].get_attribute('href')\n",
    "                photo3 = fotos[2].get_attribute('href')\n",
    "                driver.back()\n",
    "                time.sleep(0.3)\n",
    "                element = driver.find_elements_by_class_name('trail-list__wrapper')\n",
    "                dict_ruta = {'ubicacion': df_10['puerto'].iloc[i], 'nombre': nombre_ruta, 'trailrank': trailrank,'distancia': distancia, 'desnivel': desnivel,\n",
    "                             'dificultad': dificultad, 'url': url, 'photo1': photo1, 'photo2': photo2, 'photo3': photo3}\n",
    "                lista_rutas.append(dict_ruta)\n",
    "            except:\n",
    "                pass\n",
    "                driver.back()\n",
    "                time.sleep(0.5)\n",
    "                element = driver.find_elements_by_class_name('trail-list__wrapper')\n",
    "    except:\n",
    "        time.sleep(2)\n",
    "        pass\n",
    "    \n",
    "stop = time.time() \n",
    "duration = (stop - start) / 60\n",
    "print('Minutes:', duration)"
   ]
  },
  {
   "cell_type": "code",
   "execution_count": 86,
   "id": "2d380bb4",
   "metadata": {},
   "outputs": [],
   "source": [
    "#Creating a dataframe out of the list of routes.\n",
    "\n",
    "df_rutas = pd.DataFrame(lista_rutas)"
   ]
  },
  {
   "cell_type": "code",
   "execution_count": 87,
   "id": "19fe6572",
   "metadata": {},
   "outputs": [
    {
     "name": "stdout",
     "output_type": "stream",
     "text": [
      "<class 'pandas.core.frame.DataFrame'>\n",
      "RangeIndex: 114 entries, 0 to 113\n",
      "Data columns (total 10 columns):\n",
      " #   Column      Non-Null Count  Dtype \n",
      "---  ------      --------------  ----- \n",
      " 0   ubicacion   114 non-null    object\n",
      " 1   nombre      114 non-null    object\n",
      " 2   trailrank   114 non-null    object\n",
      " 3   distancia   114 non-null    object\n",
      " 4   desnivel    114 non-null    object\n",
      " 5   dificultad  114 non-null    object\n",
      " 6   url         114 non-null    object\n",
      " 7   photo1      114 non-null    object\n",
      " 8   photo2      114 non-null    object\n",
      " 9   photo3      114 non-null    object\n",
      "dtypes: object(10)\n",
      "memory usage: 9.0+ KB\n"
     ]
    }
   ],
   "source": [
    "df_rutas.info()"
   ]
  },
  {
   "cell_type": "markdown",
   "id": "44132556",
   "metadata": {},
   "source": [
    "We can now scrape all routes. It's going to take a while."
   ]
  },
  {
   "cell_type": "code",
   "execution_count": 88,
   "id": "297fc3a7",
   "metadata": {},
   "outputs": [
    {
     "name": "stdout",
     "output_type": "stream",
     "text": [
      "Minutes: 552.156865421931\n"
     ]
    }
   ],
   "source": [
    "start = time.time() #Starting a timer.\n",
    "\n",
    "lista_rutas = []\n",
    "\n",
    "for i in range(len(df)):\n",
    "    try:\n",
    "        time.sleep(0.5)\n",
    "        url = 'https://es.wikiloc.com/wikiloc/map.do?sw=41.55952720430883%2C2.3658370971679688&ne=41.58575748995264%2C2.415275573730469&act=29&zdp=(' + str(df['long'].iloc[i]) + '%2C' + str(df['lat'].iloc[i]) + '%2C357)&page=1'\n",
    "        driver.get(url)\n",
    "        time.sleep(0.5)\n",
    "        listado_dict = []\n",
    "        element = driver.find_elements_by_class_name('trail-list__wrapper')\n",
    "        for n in range(len(element)):\n",
    "            try:\n",
    "                element[n].click()\n",
    "                time.sleep(0.3)\n",
    "                nombre_ruta = driver.find_elements_by_xpath('//*[@id=\"front\"]/div/div/h1')[0].text\n",
    "                url = driver.current_url\n",
    "                trailrank = driver.find_elements_by_xpath('//*[@id=\"front\"]/div/div/a')[0].text\n",
    "                distancia = driver.find_elements_by_xpath('//*[@id=\"trail-data\"]/div[1]/div[1]/a/span[2]')[0].text\n",
    "                desnivel = driver.find_elements_by_xpath('//*[@id=\"trail-data\"]/div[1]/div[3]/a/span[2]')[0].text\n",
    "                dificultad = driver.find_elements_by_xpath('//*[@id=\"trail-data\"]/div[1]/div[7]/a/span[2]')[0].text\n",
    "                fotos = driver.find_elements_by_class_name('trail-photo')\n",
    "                photo1 = fotos[0].get_attribute('href')\n",
    "                photo2 = fotos[1].get_attribute('href')\n",
    "                photo3 = fotos[2].get_attribute('href')\n",
    "                driver.back()\n",
    "                time.sleep(0.3)\n",
    "                element = driver.find_elements_by_class_name('trail-list__wrapper')\n",
    "                dict_ruta = {'ubicacion': df['puerto'].iloc[i], 'nombre': nombre_ruta, 'trailrank': trailrank,'distancia': distancia, 'desnivel': desnivel,\n",
    "                             'dificultad': dificultad, 'url': url, 'photo1': photo1, 'photo2': photo2, 'photo3': photo3}\n",
    "                lista_rutas.append(dict_ruta)\n",
    "            except:\n",
    "                pass\n",
    "                driver.back()\n",
    "                time.sleep(0.5)\n",
    "                element = driver.find_elements_by_class_name('trail-list__wrapper')\n",
    "    except:\n",
    "        time.sleep(2)\n",
    "        pass\n",
    "    \n",
    "stop = time.time() \n",
    "duration = (stop - start) / 60\n",
    "print('Minutes:', duration)"
   ]
  },
  {
   "cell_type": "code",
   "execution_count": 89,
   "id": "1b5b94ca",
   "metadata": {},
   "outputs": [
    {
     "name": "stdout",
     "output_type": "stream",
     "text": [
      "<class 'pandas.core.frame.DataFrame'>\n",
      "RangeIndex: 8319 entries, 0 to 8318\n",
      "Data columns (total 10 columns):\n",
      " #   Column      Non-Null Count  Dtype \n",
      "---  ------      --------------  ----- \n",
      " 0   ubicacion   8319 non-null   object\n",
      " 1   nombre      8319 non-null   object\n",
      " 2   trailrank   8319 non-null   object\n",
      " 3   distancia   8319 non-null   object\n",
      " 4   desnivel    8319 non-null   object\n",
      " 5   dificultad  8319 non-null   object\n",
      " 6   url         8319 non-null   object\n",
      " 7   photo1      8319 non-null   object\n",
      " 8   photo2      8319 non-null   object\n",
      " 9   photo3      8319 non-null   object\n",
      "dtypes: object(10)\n",
      "memory usage: 650.0+ KB\n"
     ]
    }
   ],
   "source": [
    "df_rutas = pd.DataFrame(lista_rutas)\n",
    "df_rutas.info()"
   ]
  },
  {
   "cell_type": "code",
   "execution_count": 90,
   "id": "27b0762d",
   "metadata": {},
   "outputs": [],
   "source": [
    "#Saving the resulting dataframe.\n",
    "\n",
    "df_rutas.to_csv('df_extra_routes.csv', index=False)"
   ]
  },
  {
   "cell_type": "code",
   "execution_count": 3,
   "id": "ab49799f",
   "metadata": {},
   "outputs": [],
   "source": [
    "#Adding favs function.\n",
    "\n",
    "t = 0.4 #This will set the wait between actions. If you have a good connection you can keep it between 0.3-0.5. \n",
    "        #Some trial and error might be necessary.\n",
    "\n",
    "def fav(url_list):\n",
    "    start = time.time() #Starting a counter to time our code.\n",
    "    for i in url_list: #url_list will be the list of the route's urls (max 1000 and no duplicates, VERY important).\n",
    "        try:\n",
    "            driver.get(i) #Accessing the url.\n",
    "            time.sleep(t) \n",
    "            driver.find_element_by_xpath('//*[@id=\"container\"]/a').click() #Clicking on the 'Add to favorites' item.\n",
    "            time.sleep(t)\n",
    "            driver.find_element_by_xpath('//*[@id=\"container\"]/div/div/div/div[3]/div[1]').click() #Marking the route as fav.\n",
    "            time.sleep(t)\n",
    "        except:\n",
    "            time.sleep(1) \n",
    "            pass\n",
    "    stop = time.time() #Stopping our timer.\n",
    "    duration = (stop - start) / 60 #Calculating the elapsed minutes.\n",
    "    print(len(url_list), 'favs added in', duration, 'minutes.')"
   ]
  },
  {
   "cell_type": "code",
   "execution_count": 92,
   "id": "cd6c446b",
   "metadata": {},
   "outputs": [],
   "source": [
    "url_list = df_rutas['url'].tolist()"
   ]
  },
  {
   "cell_type": "code",
   "execution_count": 93,
   "id": "2f130412",
   "metadata": {},
   "outputs": [
    {
     "name": "stdout",
     "output_type": "stream",
     "text": [
      "1000 favs added in 21.04311106602351 minutes.\n"
     ]
    }
   ],
   "source": [
    "fav(url_list[:1000])"
   ]
  },
  {
   "cell_type": "markdown",
   "id": "6e304617",
   "metadata": {},
   "source": [
    "# Checking for missing routes"
   ]
  },
  {
   "cell_type": "markdown",
   "id": "9c00ca7d",
   "metadata": {},
   "source": [
    "First of all we must delete duplicate routes."
   ]
  },
  {
   "cell_type": "code",
   "execution_count": 39,
   "id": "d399e7a2",
   "metadata": {},
   "outputs": [],
   "source": [
    "df = pd.read_csv('df_extra_routes.csv')"
   ]
  },
  {
   "cell_type": "code",
   "execution_count": 40,
   "id": "3a825ca9",
   "metadata": {},
   "outputs": [],
   "source": [
    "df.sort_values(by='trailrank', ascending=False, inplace=True)"
   ]
  },
  {
   "cell_type": "code",
   "execution_count": 41,
   "id": "1c0d5ff2",
   "metadata": {},
   "outputs": [],
   "source": [
    "df.drop_duplicates(subset=['url'], keep='first', inplace=True)"
   ]
  },
  {
   "cell_type": "code",
   "execution_count": 42,
   "id": "f4d4c34a",
   "metadata": {},
   "outputs": [
    {
     "data": {
      "text/html": [
       "<div>\n",
       "<style scoped>\n",
       "    .dataframe tbody tr th:only-of-type {\n",
       "        vertical-align: middle;\n",
       "    }\n",
       "\n",
       "    .dataframe tbody tr th {\n",
       "        vertical-align: top;\n",
       "    }\n",
       "\n",
       "    .dataframe thead th {\n",
       "        text-align: right;\n",
       "    }\n",
       "</style>\n",
       "<table border=\"1\" class=\"dataframe\">\n",
       "  <thead>\n",
       "    <tr style=\"text-align: right;\">\n",
       "      <th></th>\n",
       "      <th>ubicacion</th>\n",
       "      <th>nombre</th>\n",
       "      <th>trailrank</th>\n",
       "      <th>distancia</th>\n",
       "      <th>desnivel</th>\n",
       "      <th>dificultad</th>\n",
       "      <th>url</th>\n",
       "      <th>photo1</th>\n",
       "      <th>photo2</th>\n",
       "      <th>photo3</th>\n",
       "    </tr>\n",
       "  </thead>\n",
       "  <tbody>\n",
       "    <tr>\n",
       "      <th>1477</th>\n",
       "      <td>Mirador De La Cabra Montés</td>\n",
       "      <td>La Cabra por Almuñecar - 8-11-2012 - Granada</td>\n",
       "      <td>95</td>\n",
       "      <td>159,35 km</td>\n",
       "      <td>2.296 m</td>\n",
       "      <td>Moderado</td>\n",
       "      <td>https://es.wikiloc.com/rutas-ciclismo/la-cabra...</td>\n",
       "      <td>https://es.wikiloc.com/rutas-ciclismo/la-cabra...</td>\n",
       "      <td>https://es.wikiloc.com/rutas-ciclismo/la-cabra...</td>\n",
       "      <td>https://es.wikiloc.com/rutas-ciclismo/la-cabra...</td>\n",
       "    </tr>\n",
       "    <tr>\n",
       "      <th>7704</th>\n",
       "      <td>Blancares</td>\n",
       "      <td>Granada, Guadix y vuelta por Lugros - 5-06-2014</td>\n",
       "      <td>93</td>\n",
       "      <td>140,26 km</td>\n",
       "      <td>1.832 m</td>\n",
       "      <td>Moderado</td>\n",
       "      <td>https://es.wikiloc.com/rutas-ciclismo/granada-...</td>\n",
       "      <td>https://es.wikiloc.com/rutas-ciclismo/granada-...</td>\n",
       "      <td>https://es.wikiloc.com/rutas-ciclismo/granada-...</td>\n",
       "      <td>https://es.wikiloc.com/rutas-ciclismo/granada-...</td>\n",
       "    </tr>\n",
       "    <tr>\n",
       "      <th>1478</th>\n",
       "      <td>Mirador De La Cabra Montés</td>\n",
       "      <td>La Cabra y vuelta por Guajares - Granada 24-05...</td>\n",
       "      <td>93</td>\n",
       "      <td>157,12 km</td>\n",
       "      <td>2.692 m</td>\n",
       "      <td>Difícil</td>\n",
       "      <td>https://es.wikiloc.com/rutas-ciclismo/la-cabra...</td>\n",
       "      <td>https://es.wikiloc.com/rutas-ciclismo/la-cabra...</td>\n",
       "      <td>https://es.wikiloc.com/rutas-ciclismo/la-cabra...</td>\n",
       "      <td>https://es.wikiloc.com/rutas-ciclismo/la-cabra...</td>\n",
       "    </tr>\n",
       "    <tr>\n",
       "      <th>7705</th>\n",
       "      <td>Blancares</td>\n",
       "      <td>El Mendrugo - 15-02-2015</td>\n",
       "      <td>93</td>\n",
       "      <td>119,08 km</td>\n",
       "      <td>1.104 m</td>\n",
       "      <td>Moderado</td>\n",
       "      <td>https://es.wikiloc.com/rutas-ciclismo/el-mendr...</td>\n",
       "      <td>https://es.wikiloc.com/rutas-ciclismo/el-mendr...</td>\n",
       "      <td>https://es.wikiloc.com/rutas-ciclismo/el-mendr...</td>\n",
       "      <td>https://es.wikiloc.com/rutas-ciclismo/el-mendr...</td>\n",
       "    </tr>\n",
       "    <tr>\n",
       "      <th>7706</th>\n",
       "      <td>Blancares</td>\n",
       "      <td>El Mendrugo. Pto.Blancares, La Peza, Darro, Mo...</td>\n",
       "      <td>92</td>\n",
       "      <td>126,83 km</td>\n",
       "      <td>1.242 m</td>\n",
       "      <td>Moderado</td>\n",
       "      <td>https://es.wikiloc.com/rutas-ciclismo/el-mendr...</td>\n",
       "      <td>https://es.wikiloc.com/rutas-ciclismo/el-mendr...</td>\n",
       "      <td>https://es.wikiloc.com/rutas-ciclismo/el-mendr...</td>\n",
       "      <td>https://es.wikiloc.com/rutas-ciclismo/el-mendr...</td>\n",
       "    </tr>\n",
       "  </tbody>\n",
       "</table>\n",
       "</div>"
      ],
      "text/plain": [
       "                       ubicacion  \\\n",
       "1477  Mirador De La Cabra Montés   \n",
       "7704                   Blancares   \n",
       "1478  Mirador De La Cabra Montés   \n",
       "7705                   Blancares   \n",
       "7706                   Blancares   \n",
       "\n",
       "                                                 nombre  trailrank  distancia  \\\n",
       "1477       La Cabra por Almuñecar - 8-11-2012 - Granada         95  159,35 km   \n",
       "7704    Granada, Guadix y vuelta por Lugros - 5-06-2014         93  140,26 km   \n",
       "1478  La Cabra y vuelta por Guajares - Granada 24-05...         93  157,12 km   \n",
       "7705                           El Mendrugo - 15-02-2015         93  119,08 km   \n",
       "7706  El Mendrugo. Pto.Blancares, La Peza, Darro, Mo...         92  126,83 km   \n",
       "\n",
       "     desnivel dificultad                                                url  \\\n",
       "1477  2.296 m   Moderado  https://es.wikiloc.com/rutas-ciclismo/la-cabra...   \n",
       "7704  1.832 m   Moderado  https://es.wikiloc.com/rutas-ciclismo/granada-...   \n",
       "1478  2.692 m    Difícil  https://es.wikiloc.com/rutas-ciclismo/la-cabra...   \n",
       "7705  1.104 m   Moderado  https://es.wikiloc.com/rutas-ciclismo/el-mendr...   \n",
       "7706  1.242 m   Moderado  https://es.wikiloc.com/rutas-ciclismo/el-mendr...   \n",
       "\n",
       "                                                 photo1  \\\n",
       "1477  https://es.wikiloc.com/rutas-ciclismo/la-cabra...   \n",
       "7704  https://es.wikiloc.com/rutas-ciclismo/granada-...   \n",
       "1478  https://es.wikiloc.com/rutas-ciclismo/la-cabra...   \n",
       "7705  https://es.wikiloc.com/rutas-ciclismo/el-mendr...   \n",
       "7706  https://es.wikiloc.com/rutas-ciclismo/el-mendr...   \n",
       "\n",
       "                                                 photo2  \\\n",
       "1477  https://es.wikiloc.com/rutas-ciclismo/la-cabra...   \n",
       "7704  https://es.wikiloc.com/rutas-ciclismo/granada-...   \n",
       "1478  https://es.wikiloc.com/rutas-ciclismo/la-cabra...   \n",
       "7705  https://es.wikiloc.com/rutas-ciclismo/el-mendr...   \n",
       "7706  https://es.wikiloc.com/rutas-ciclismo/el-mendr...   \n",
       "\n",
       "                                                 photo3  \n",
       "1477  https://es.wikiloc.com/rutas-ciclismo/la-cabra...  \n",
       "7704  https://es.wikiloc.com/rutas-ciclismo/granada-...  \n",
       "1478  https://es.wikiloc.com/rutas-ciclismo/la-cabra...  \n",
       "7705  https://es.wikiloc.com/rutas-ciclismo/el-mendr...  \n",
       "7706  https://es.wikiloc.com/rutas-ciclismo/el-mendr...  "
      ]
     },
     "execution_count": 42,
     "metadata": {},
     "output_type": "execute_result"
    }
   ],
   "source": [
    "df.head()"
   ]
  },
  {
   "cell_type": "code",
   "execution_count": 43,
   "id": "66c05355",
   "metadata": {},
   "outputs": [
    {
     "name": "stdout",
     "output_type": "stream",
     "text": [
      "<class 'pandas.core.frame.DataFrame'>\n",
      "Int64Index: 5263 entries, 1477 to 1846\n",
      "Data columns (total 10 columns):\n",
      " #   Column      Non-Null Count  Dtype \n",
      "---  ------      --------------  ----- \n",
      " 0   ubicacion   5263 non-null   object\n",
      " 1   nombre      5263 non-null   object\n",
      " 2   trailrank   5263 non-null   int64 \n",
      " 3   distancia   5263 non-null   object\n",
      " 4   desnivel    5263 non-null   object\n",
      " 5   dificultad  5263 non-null   object\n",
      " 6   url         5263 non-null   object\n",
      " 7   photo1      5263 non-null   object\n",
      " 8   photo2      5263 non-null   object\n",
      " 9   photo3      5263 non-null   object\n",
      "dtypes: int64(1), object(9)\n",
      "memory usage: 452.3+ KB\n"
     ]
    }
   ],
   "source": [
    "df.info()"
   ]
  },
  {
   "cell_type": "markdown",
   "id": "0fd43afb",
   "metadata": {},
   "source": [
    "Performing the necessary cleaning."
   ]
  },
  {
   "cell_type": "code",
   "execution_count": 44,
   "id": "a2e04f5d",
   "metadata": {},
   "outputs": [
    {
     "name": "stderr",
     "output_type": "stream",
     "text": [
      "<ipython-input-44-62e87605ee40>:4: FutureWarning: The default value of regex will change from True to False in a future version. In addition, single character regular expressions will*not* be treated as literal strings when regex=True.\n",
      "  df['desnivel'] = df['desnivel'].str.replace(\".\", \"\")\n"
     ]
    }
   ],
   "source": [
    "df['distancia'] = df['distancia'].str.replace(\" km\", \"\")\n",
    "df['distancia'] = df['distancia'].str.replace(\",\", \".\")\n",
    "df['desnivel'] = df['desnivel'].str.replace(\" m\", \"\")\n",
    "df['desnivel'] = df['desnivel'].str.replace(\".\", \"\")"
   ]
  },
  {
   "cell_type": "code",
   "execution_count": 45,
   "id": "97d1a34b",
   "metadata": {},
   "outputs": [],
   "source": [
    "#Adding the alpha name column.\n",
    "\n",
    "def stripper(name):\n",
    "    return re.sub(r'\\W+', '', name)[:20]\n",
    "\n",
    "df['alpha_name'] = df['nombre'].apply(stripper)"
   ]
  },
  {
   "cell_type": "code",
   "execution_count": 52,
   "id": "b897e960",
   "metadata": {},
   "outputs": [],
   "source": [
    "#Renaming every gpx file with the new shortened and stripped name, matching our new df column.\n",
    "\n",
    "for path in pathlib.Path(\"/gpx\").iterdir(): #Using iterdir to iterate through every file in our gpx folder. \n",
    "    try:\n",
    "        if path.is_file():\n",
    "            old_name = path.stem\n",
    "            old_extension = path.suffix\n",
    "            directory = path.parent\n",
    "            strip = re.sub(r'\\W+', '', old_name) #Stripping the name using the same regex as before.\n",
    "            new_name = strip[:20] + old_extension #Only keeping the first 20 characters.\n",
    "            path.rename(pathlib.Path(directory, new_name)) #Renaming the file.\n",
    "    except:\n",
    "        pass"
   ]
  },
  {
   "cell_type": "code",
   "execution_count": 26,
   "id": "55bbaada",
   "metadata": {},
   "outputs": [
    {
     "data": {
      "text/plain": [
       "5263"
      ]
     },
     "execution_count": 26,
     "metadata": {},
     "output_type": "execute_result"
    }
   ],
   "source": [
    "#Creating a list of our shortened alphanumeric names.\n",
    "\n",
    "alpha_list = df['alpha_name'].tolist()\n",
    "len(alpha_list)"
   ]
  },
  {
   "cell_type": "code",
   "execution_count": 29,
   "id": "b696a5c3",
   "metadata": {},
   "outputs": [],
   "source": [
    "#Now that our dataframe and gpx files match we can easily check for missing entries.\n",
    "\n",
    "missing_routes = [] #This list will store our missing filenames.\n",
    "ok_routes = [] #Successful downloads.\n",
    "\n",
    "for i in alpha_list:\n",
    "    gpx_path = 'gpx/' + i + '.gpx'\n",
    "    isExist = os.path.exists(gpx_path) #Checking if the file with the given filename exists.\n",
    "    if isExist == True:\n",
    "        ok_routes.append(i)\n",
    "        pass\n",
    "    else:\n",
    "        missing_routes.append(i)"
   ]
  },
  {
   "cell_type": "code",
   "execution_count": 34,
   "id": "696e9ece",
   "metadata": {},
   "outputs": [
    {
     "data": {
      "text/plain": [
       "975"
      ]
     },
     "execution_count": 34,
     "metadata": {},
     "output_type": "execute_result"
    }
   ],
   "source": [
    "len(missing_routes)"
   ]
  },
  {
   "cell_type": "code",
   "execution_count": 35,
   "id": "a2b5aeb7",
   "metadata": {},
   "outputs": [],
   "source": [
    "#Creating a list of missing routes url.\n",
    "\n",
    "missing_list = []\n",
    "\n",
    "for i in range(1138):\n",
    "    if df['alpha_name'].iloc[i] in missing_routes:\n",
    "        missing_list.append(df['url'].iloc[i])"
   ]
  },
  {
   "cell_type": "code",
   "execution_count": 36,
   "id": "37a48376",
   "metadata": {},
   "outputs": [
    {
     "data": {
      "text/plain": [
       "102"
      ]
     },
     "execution_count": 36,
     "metadata": {},
     "output_type": "execute_result"
    }
   ],
   "source": [
    "len(missing_list)"
   ]
  },
  {
   "cell_type": "code",
   "execution_count": null,
   "id": "fe21daa1",
   "metadata": {},
   "outputs": [],
   "source": [
    "fav(missing_list)"
   ]
  },
  {
   "cell_type": "markdown",
   "id": "7af33df8",
   "metadata": {},
   "source": [
    "## Parsing all gpx files"
   ]
  },
  {
   "cell_type": "markdown",
   "id": "34f8d7b0",
   "metadata": {},
   "source": [
    "Now that we have all files it's time to parse them so that we can extract valuable data and further analyze them. For this purpose we will be using our previously created parser function."
   ]
  },
  {
   "cell_type": "markdown",
   "id": "1876c511",
   "metadata": {},
   "source": [
    "This function takes a given gpx file and returns a dictionary of the most important values, thus making it easy to convert a list of such dictionaries into a dataframe."
   ]
  },
  {
   "cell_type": "code",
   "execution_count": 2,
   "id": "76932e06",
   "metadata": {},
   "outputs": [],
   "source": [
    "def parser(file):\n",
    "    try:\n",
    "        gpx_file = open(file, 'r', encoding='utf-8') \n",
    "        gpx = gpxpy.parse(gpx_file) \n",
    "        coords = []\n",
    "        alt = []\n",
    "        for track in gpx.tracks:\n",
    "            for segment in track.segments:        \n",
    "                for point in segment.points:\n",
    "                    coords.append(tuple([point.latitude, point.longitude]))\n",
    "                    alt.append(point.elevation)\n",
    "        parsed_file = {'name': track.name, \n",
    "                       'coords': [coords], \n",
    "                       'alt': [alt], \n",
    "                       'distance': track.length_3d()/1000, \n",
    "                       'climb': int(gpx.get_uphill_downhill()[0]),\n",
    "                       'min_alt': int(gpx.get_elevation_extremes()[0]),\n",
    "                       'max_alt': int(gpx.get_elevation_extremes()[1]),\n",
    "                       'start': coords[0][0],\n",
    "                       's_lo': coords[0][1],\n",
    "                       'f_la': coords[-1][0],\n",
    "                       'f_lo': coords[-1][1],}\n",
    "        return parsed_file\n",
    "    except:\n",
    "        pass"
   ]
  },
  {
   "cell_type": "code",
   "execution_count": 23,
   "id": "c6b9b519",
   "metadata": {},
   "outputs": [
    {
     "name": "stdout",
     "output_type": "stream",
     "text": [
      "Minutes: 18.890571089585624\n"
     ]
    }
   ],
   "source": [
    "start = time.time()\n",
    "\n",
    "dict_list = []\n",
    "\n",
    "directory = 'gpx' #Our very original gpx folder name.\n",
    " \n",
    "files = Path(directory).glob('*')\n",
    "for file in files:\n",
    "    dict_list.append(parser(file))\n",
    "    \n",
    "stop = time.time() \n",
    "duration = (stop - start) / 60\n",
    "print('Minutes:', duration)"
   ]
  },
  {
   "cell_type": "code",
   "execution_count": 24,
   "id": "5545a8b7",
   "metadata": {},
   "outputs": [
    {
     "data": {
      "text/plain": [
       "1528"
      ]
     },
     "execution_count": 24,
     "metadata": {},
     "output_type": "execute_result"
    }
   ],
   "source": [
    "len(dict_list)"
   ]
  },
  {
   "cell_type": "code",
   "execution_count": 25,
   "id": "40036f27",
   "metadata": {},
   "outputs": [],
   "source": [
    "df9 = pd.DataFrame(dict_list)"
   ]
  },
  {
   "cell_type": "code",
   "execution_count": 26,
   "id": "e78574d5",
   "metadata": {},
   "outputs": [],
   "source": [
    "df9.to_csv('gpx_9.csv', index=False)"
   ]
  },
  {
   "cell_type": "code",
   "execution_count": 33,
   "id": "d6ea1619",
   "metadata": {},
   "outputs": [],
   "source": [
    "df1 =pd.read_csv('gpx_1.csv')\n",
    "df2 =pd.read_csv('gpx_2.csv')\n",
    "df3 =pd.read_csv('gpx_3.csv')\n",
    "df4 =pd.read_csv('gpx_4.csv')\n",
    "df5 =pd.read_csv('gpx_5.csv')\n",
    "df6 =pd.read_csv('gpx_6.csv')\n",
    "df7 =pd.read_csv('gpx_7.csv')\n",
    "df8 =pd.read_csv('gpx_8.csv')\n",
    "df9 =pd.read_csv('gpx_9.csv')"
   ]
  },
  {
   "cell_type": "code",
   "execution_count": 34,
   "id": "47f1e186",
   "metadata": {},
   "outputs": [],
   "source": [
    "df_parsed = pd.concat([df1, df2, df3, df4, df5, df8, df7, df8, df9])"
   ]
  },
  {
   "cell_type": "code",
   "execution_count": 37,
   "id": "59e413e1",
   "metadata": {},
   "outputs": [],
   "source": [
    "df_parsed.drop_duplicates('name', keep='first', inplace=True)"
   ]
  },
  {
   "cell_type": "code",
   "execution_count": 38,
   "id": "5a5621b1",
   "metadata": {
    "scrolled": true
   },
   "outputs": [
    {
     "name": "stdout",
     "output_type": "stream",
     "text": [
      "<class 'pandas.core.frame.DataFrame'>\n",
      "Int64Index: 14137 entries, 0 to 1527\n",
      "Data columns (total 11 columns):\n",
      " #   Column    Non-Null Count  Dtype  \n",
      "---  ------    --------------  -----  \n",
      " 0   name      14137 non-null  object \n",
      " 1   coords    14137 non-null  object \n",
      " 2   alt       14137 non-null  object \n",
      " 3   distance  14137 non-null  float64\n",
      " 4   climb     14137 non-null  float64\n",
      " 5   min_alt   14137 non-null  float64\n",
      " 6   max_alt   14137 non-null  float64\n",
      " 7   s_la      14137 non-null  float64\n",
      " 8   s_lo      14137 non-null  float64\n",
      " 9   f_la      14137 non-null  float64\n",
      " 10  f_lo      14137 non-null  float64\n",
      "dtypes: float64(8), object(3)\n",
      "memory usage: 1.3+ MB\n"
     ]
    }
   ],
   "source": [
    "df_parsed.info()"
   ]
  },
  {
   "cell_type": "code",
   "execution_count": 39,
   "id": "c23655d4",
   "metadata": {},
   "outputs": [],
   "source": [
    "df_parsed.to_csv('master_parsed_all.csv', index=False)"
   ]
  },
  {
   "cell_type": "code",
   "execution_count": 46,
   "id": "d33356e1",
   "metadata": {},
   "outputs": [
    {
     "data": {
      "text/html": [
       "<div>\n",
       "<style scoped>\n",
       "    .dataframe tbody tr th:only-of-type {\n",
       "        vertical-align: middle;\n",
       "    }\n",
       "\n",
       "    .dataframe tbody tr th {\n",
       "        vertical-align: top;\n",
       "    }\n",
       "\n",
       "    .dataframe thead th {\n",
       "        text-align: right;\n",
       "    }\n",
       "</style>\n",
       "<table border=\"1\" class=\"dataframe\">\n",
       "  <thead>\n",
       "    <tr style=\"text-align: right;\">\n",
       "      <th></th>\n",
       "      <th>name</th>\n",
       "      <th>coords</th>\n",
       "      <th>alt</th>\n",
       "      <th>distance</th>\n",
       "      <th>climb</th>\n",
       "      <th>min_alt</th>\n",
       "      <th>max_alt</th>\n",
       "      <th>s_la</th>\n",
       "      <th>s_lo</th>\n",
       "      <th>f_la</th>\n",
       "      <th>f_lo</th>\n",
       "    </tr>\n",
       "  </thead>\n",
       "  <tbody>\n",
       "    <tr>\n",
       "      <th>0</th>\n",
       "      <td>010-19. Alcoceber. Torreblanca. Vilanova. Benl...</td>\n",
       "      <td>[[(40.255667, 0.28779), (40.255619, 0.287881),...</td>\n",
       "      <td>[[21.778, 21.133, 20.726, 21.508, 21.45, 21.34...</td>\n",
       "      <td>73.450869</td>\n",
       "      <td>848.6660</td>\n",
       "      <td>5.407</td>\n",
       "      <td>365.372</td>\n",
       "      <td>40.255667</td>\n",
       "      <td>0.287790</td>\n",
       "      <td>40.255109</td>\n",
       "      <td>0.287932</td>\n",
       "    </tr>\n",
       "    <tr>\n",
       "      <th>1</th>\n",
       "      <td>01: Alfarrás (Lleida) a Huesca</td>\n",
       "      <td>[[(41.832578, 0.566965), (41.832578, 0.566965)...</td>\n",
       "      <td>[[300.255, 299.807, 299.617, 299.608, 299.647,...</td>\n",
       "      <td>103.598595</td>\n",
       "      <td>961.8401</td>\n",
       "      <td>255.286</td>\n",
       "      <td>486.425</td>\n",
       "      <td>41.832578</td>\n",
       "      <td>0.566965</td>\n",
       "      <td>42.141745</td>\n",
       "      <td>-0.411256</td>\n",
       "    </tr>\n",
       "    <tr>\n",
       "      <th>2</th>\n",
       "      <td>01-Madrid - Motilla del Palancar</td>\n",
       "      <td>[[(40.39467, -3.67912), (40.39546, -3.67998), ...</td>\n",
       "      <td>[[592.065, 597.068, 596.014, 597.008, 598.067,...</td>\n",
       "      <td>230.130901</td>\n",
       "      <td>2158.2991</td>\n",
       "      <td>544.081</td>\n",
       "      <td>976.080</td>\n",
       "      <td>40.394670</td>\n",
       "      <td>-3.679120</td>\n",
       "      <td>39.561042</td>\n",
       "      <td>-1.906754</td>\n",
       "    </tr>\n",
       "    <tr>\n",
       "      <th>3</th>\n",
       "      <td>01-MAY-16 ALMÁCERA-BÉTERA-OLOCAU-GÁTOVA-ALTO D...</td>\n",
       "      <td>[[(39.510125, -0.355943), (39.510517, -0.35574...</td>\n",
       "      <td>[[-79.616, -79.676, -79.613, -79.208, -79.662,...</td>\n",
       "      <td>117.589340</td>\n",
       "      <td>1584.8682</td>\n",
       "      <td>-81.149</td>\n",
       "      <td>729.381</td>\n",
       "      <td>39.510125</td>\n",
       "      <td>-0.355943</td>\n",
       "      <td>39.510162</td>\n",
       "      <td>-0.355961</td>\n",
       "    </tr>\n",
       "    <tr>\n",
       "      <th>4</th>\n",
       "      <td>01-MAY TROFEO LACTURALE Juveniles</td>\n",
       "      <td>[[(42.921524, -1.846321), (42.92144, -1.846497...</td>\n",
       "      <td>[[468.335, 468.386, 467.814, 466.407, 466.974,...</td>\n",
       "      <td>67.951624</td>\n",
       "      <td>1339.3475</td>\n",
       "      <td>437.554</td>\n",
       "      <td>800.081</td>\n",
       "      <td>42.921524</td>\n",
       "      <td>-1.846321</td>\n",
       "      <td>42.949894</td>\n",
       "      <td>-1.835245</td>\n",
       "    </tr>\n",
       "  </tbody>\n",
       "</table>\n",
       "</div>"
      ],
      "text/plain": [
       "                                                name  \\\n",
       "0  010-19. Alcoceber. Torreblanca. Vilanova. Benl...   \n",
       "1                     01: Alfarrás (Lleida) a Huesca   \n",
       "2                   01-Madrid - Motilla del Palancar   \n",
       "3  01-MAY-16 ALMÁCERA-BÉTERA-OLOCAU-GÁTOVA-ALTO D...   \n",
       "4                  01-MAY TROFEO LACTURALE Juveniles   \n",
       "\n",
       "                                              coords  \\\n",
       "0  [[(40.255667, 0.28779), (40.255619, 0.287881),...   \n",
       "1  [[(41.832578, 0.566965), (41.832578, 0.566965)...   \n",
       "2  [[(40.39467, -3.67912), (40.39546, -3.67998), ...   \n",
       "3  [[(39.510125, -0.355943), (39.510517, -0.35574...   \n",
       "4  [[(42.921524, -1.846321), (42.92144, -1.846497...   \n",
       "\n",
       "                                                 alt    distance      climb  \\\n",
       "0  [[21.778, 21.133, 20.726, 21.508, 21.45, 21.34...   73.450869   848.6660   \n",
       "1  [[300.255, 299.807, 299.617, 299.608, 299.647,...  103.598595   961.8401   \n",
       "2  [[592.065, 597.068, 596.014, 597.008, 598.067,...  230.130901  2158.2991   \n",
       "3  [[-79.616, -79.676, -79.613, -79.208, -79.662,...  117.589340  1584.8682   \n",
       "4  [[468.335, 468.386, 467.814, 466.407, 466.974,...   67.951624  1339.3475   \n",
       "\n",
       "   min_alt  max_alt       s_la      s_lo       f_la      f_lo  \n",
       "0    5.407  365.372  40.255667  0.287790  40.255109  0.287932  \n",
       "1  255.286  486.425  41.832578  0.566965  42.141745 -0.411256  \n",
       "2  544.081  976.080  40.394670 -3.679120  39.561042 -1.906754  \n",
       "3  -81.149  729.381  39.510125 -0.355943  39.510162 -0.355961  \n",
       "4  437.554  800.081  42.921524 -1.846321  42.949894 -1.835245  "
      ]
     },
     "execution_count": 46,
     "metadata": {},
     "output_type": "execute_result"
    }
   ],
   "source": [
    "df_parsed.head()"
   ]
  },
  {
   "cell_type": "markdown",
   "id": "3231fe18",
   "metadata": {},
   "source": [
    "## 3.1 Merging the parsed gpx dataframe with the routes dataframe"
   ]
  },
  {
   "cell_type": "code",
   "execution_count": 40,
   "id": "c02612f4",
   "metadata": {},
   "outputs": [],
   "source": [
    "#Loading our routes dataframe.\n",
    "\n",
    "df_rutas = pd.read_csv('master_rutas_final.csv')"
   ]
  },
  {
   "cell_type": "code",
   "execution_count": 43,
   "id": "d6828fe1",
   "metadata": {},
   "outputs": [],
   "source": [
    "#Merging the parsed gpx files with the corresponding routes to create a final dataframe.\n",
    "\n",
    "df_merge = pd.merge(df_rutas, df_parsed, how='inner', left_on=['nombre'], right_on=['name'])"
   ]
  },
  {
   "cell_type": "code",
   "execution_count": 45,
   "id": "b3957530",
   "metadata": {},
   "outputs": [
    {
     "name": "stdout",
     "output_type": "stream",
     "text": [
      "<class 'pandas.core.frame.DataFrame'>\n",
      "Int64Index: 9171 entries, 0 to 9170\n",
      "Data columns (total 22 columns):\n",
      " #   Column      Non-Null Count  Dtype  \n",
      "---  ------      --------------  -----  \n",
      " 0   ubicacion   9171 non-null   object \n",
      " 1   nombre      9171 non-null   object \n",
      " 2   trailrank   9171 non-null   int64  \n",
      " 3   distancia   9171 non-null   float64\n",
      " 4   desnivel    9171 non-null   int64  \n",
      " 5   dificultad  9171 non-null   object \n",
      " 6   url         9171 non-null   object \n",
      " 7   photo1      9171 non-null   object \n",
      " 8   photo2      9171 non-null   object \n",
      " 9   photo3      9171 non-null   object \n",
      " 10  alpha_name  9170 non-null   object \n",
      " 11  name        9171 non-null   object \n",
      " 12  coords      9171 non-null   object \n",
      " 13  alt         9171 non-null   object \n",
      " 14  distance    9171 non-null   float64\n",
      " 15  climb       9171 non-null   float64\n",
      " 16  min_alt     9171 non-null   float64\n",
      " 17  max_alt     9171 non-null   float64\n",
      " 18  s_la        9171 non-null   float64\n",
      " 19  s_lo        9171 non-null   float64\n",
      " 20  f_la        9171 non-null   float64\n",
      " 21  f_lo        9171 non-null   float64\n",
      "dtypes: float64(9), int64(2), object(11)\n",
      "memory usage: 1.6+ MB\n"
     ]
    }
   ],
   "source": [
    "#We now have 9171 parsed routes, but some of them will be outside Spain and will have to be discarded.\n",
    "\n",
    "df_merge.info()"
   ]
  },
  {
   "cell_type": "markdown",
   "id": "213254f3",
   "metadata": {},
   "source": [
    "**<div align=\"right\">Ironhack DA PT 2021</div>**\n",
    "    \n",
    "**<div align=\"right\">Xavier Esteban</div>**"
   ]
  }
 ],
 "metadata": {
  "kernelspec": {
   "display_name": "Python 3",
   "language": "python",
   "name": "python3"
  },
  "language_info": {
   "codemirror_mode": {
    "name": "ipython",
    "version": 3
   },
   "file_extension": ".py",
   "mimetype": "text/x-python",
   "name": "python",
   "nbconvert_exporter": "python",
   "pygments_lexer": "ipython3",
   "version": "3.8.8"
  },
  "toc": {
   "base_numbering": 1,
   "nav_menu": {},
   "number_sections": true,
   "sideBar": true,
   "skip_h1_title": false,
   "title_cell": "Table of Contents",
   "title_sidebar": "Contents",
   "toc_cell": false,
   "toc_position": {},
   "toc_section_display": true,
   "toc_window_display": false
  },
  "varInspector": {
   "cols": {
    "lenName": 16,
    "lenType": 16,
    "lenVar": 40
   },
   "kernels_config": {
    "python": {
     "delete_cmd_postfix": "",
     "delete_cmd_prefix": "del ",
     "library": "var_list.py",
     "varRefreshCmd": "print(var_dic_list())"
    },
    "r": {
     "delete_cmd_postfix": ") ",
     "delete_cmd_prefix": "rm(",
     "library": "var_list.r",
     "varRefreshCmd": "cat(var_dic_list()) "
    }
   },
   "types_to_exclude": [
    "module",
    "function",
    "builtin_function_or_method",
    "instance",
    "_Feature"
   ],
   "window_display": false
  }
 },
 "nbformat": 4,
 "nbformat_minor": 5
}
