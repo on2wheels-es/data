{
 "cells": [
  {
   "cell_type": "markdown",
   "id": "deea0aa7",
   "metadata": {},
   "source": [
    "# Obtaining the coordinates for each mountain pass in Spain"
   ]
  },
  {
   "cell_type": "markdown",
   "id": "75f403dd",
   "metadata": {},
   "source": [
    "Having the exact coordinates for every port in Spain would allow us to determine exactly which routes pass through them, greatly enhancing the capabilities of our dataset. But where could we find those coordinates?"
   ]
  },
  {
   "cell_type": "markdown",
   "id": "c9ea7474",
   "metadata": {},
   "source": [
    "The website **Altimetrias.net** has a handy map with the coordinates for 757 ports, 745 of them being in continental Spain. In the first part of this notebook I will try to extract their coords using web scraping, but since our database has ~1700 ports the quantity of missing information at this stage is not trivial."
   ]
  },
  {
   "cell_type": "markdown",
   "id": "f4e8d847",
   "metadata": {},
   "source": [
    "## Extracting the coordinates for *Altimetrias.net* 757 ports"
   ]
  },
  {
   "cell_type": "markdown",
   "id": "20b8c850",
   "metadata": {},
   "source": [
    "As I already mentioned I'm going to use web scraping at this stage. Let's begin by importing our libraries."
   ]
  },
  {
   "cell_type": "code",
   "execution_count": 1,
   "id": "e69090f0",
   "metadata": {},
   "outputs": [],
   "source": [
    "import requests\n",
    "from bs4 import BeautifulSoup"
   ]
  },
  {
   "cell_type": "code",
   "execution_count": 2,
   "id": "67fb2a04",
   "metadata": {},
   "outputs": [],
   "source": [
    "#The map url.\n",
    "\n",
    "url = 'https://www.altimetrias.net/mapas/default.asp'"
   ]
  },
  {
   "cell_type": "code",
   "execution_count": 3,
   "id": "fdd880e0",
   "metadata": {},
   "outputs": [],
   "source": [
    "#Parsing the content to make it accessible.\n",
    "\n",
    "html = requests.get(url).text\n",
    "soup = BeautifulSoup(html, 'html.parser')"
   ]
  },
  {
   "cell_type": "markdown",
   "id": "ab488695",
   "metadata": {},
   "source": [
    "## Accessing the data"
   ]
  },
  {
   "cell_type": "markdown",
   "id": "da0609ec",
   "metadata": {},
   "source": [
    "The port names, coordinates and urls are contained in *script* objects. We can simply isolate and iterate through them in order to extract the needed data."
   ]
  },
  {
   "cell_type": "code",
   "execution_count": 2,
   "id": "eb059216",
   "metadata": {},
   "outputs": [],
   "source": [
    "import re"
   ]
  },
  {
   "cell_type": "code",
   "execution_count": 5,
   "id": "9330ae37",
   "metadata": {},
   "outputs": [],
   "source": [
    "#We find our first port at the index value 3, the last one being at the index position 760.\n",
    "\n",
    "puerto = soup.find_all('script')[3]"
   ]
  },
  {
   "cell_type": "code",
   "execution_count": 6,
   "id": "9c869f96",
   "metadata": {},
   "outputs": [
    {
     "data": {
      "text/plain": [
       "'\\r\\n\\tL.marker([\\'42.166509\\', \\'-8.352331\\'], {icon: Pontevedra}).bindPopup(\\'<a target=\"_blank\" href=\"https://www.altimetrias.net/aspbk/verPuerto.asp?id=664\"><b>A PARADANTA</b> x Uma</a>\\').addTo(puertos);\\r\\n'"
      ]
     },
     "execution_count": 6,
     "metadata": {},
     "output_type": "execute_result"
    }
   ],
   "source": [
    "#Visualizing the data structure within the element.\n",
    "\n",
    "puerto.string"
   ]
  },
  {
   "cell_type": "code",
   "execution_count": 7,
   "id": "67b29f1a",
   "metadata": {},
   "outputs": [
    {
     "data": {
      "text/plain": [
       "'42.166509'"
      ]
     },
     "execution_count": 7,
     "metadata": {},
     "output_type": "execute_result"
    }
   ],
   "source": [
    "#Accessing the latitude.\n",
    "\n",
    "re.search(\"\\'(.*?)\\', \\'\", puerto.string)[1]"
   ]
  },
  {
   "cell_type": "code",
   "execution_count": 8,
   "id": "8260e4c0",
   "metadata": {},
   "outputs": [
    {
     "data": {
      "text/plain": [
       "'-8.352331'"
      ]
     },
     "execution_count": 8,
     "metadata": {},
     "output_type": "execute_result"
    }
   ],
   "source": [
    "#Accessing the longitude.\n",
    "\n",
    "re.search(\", \\'(.*?)\\'],\", puerto.string)[1]"
   ]
  },
  {
   "cell_type": "code",
   "execution_count": 9,
   "id": "1da7d812",
   "metadata": {},
   "outputs": [
    {
     "data": {
      "text/plain": [
       "'https://www.altimetrias.net/aspbk/verPuerto.asp?id=664'"
      ]
     },
     "execution_count": 9,
     "metadata": {},
     "output_type": "execute_result"
    }
   ],
   "source": [
    "#Accessing the url.\n",
    "\n",
    "re.search('href=\"(.*?)\"><b', puerto.string)[1]"
   ]
  },
  {
   "cell_type": "markdown",
   "id": "66a7a7f3",
   "metadata": {},
   "source": [
    "## Using a loop to extract the parsed data"
   ]
  },
  {
   "cell_type": "markdown",
   "id": "d899cad3",
   "metadata": {},
   "source": [
    "Now that we know the exact location and format of the data it's simply a matter of creating a loop that will iterate through every *script* object and return a dictionary. We will later use those dictionaries to create a dataframe."
   ]
  },
  {
   "cell_type": "code",
   "execution_count": 10,
   "id": "12e5a670",
   "metadata": {},
   "outputs": [],
   "source": [
    "dict_list = []\n",
    "\n",
    "for i in range(3,760):\n",
    "    puerto = soup.find_all('script')[i]\n",
    "    dict_puerto = {'url': re.search('href=\"(.*?)\"><b', puerto.string)[1],\n",
    "                    'lat': re.search(\"\\'(.*?)\\', \\'\", puerto.string)[1],\n",
    "                    'long': re.search(\", \\'(.*?)\\'],\", puerto.string)[1]}\n",
    "    dict_list.append(dict_puerto)"
   ]
  },
  {
   "cell_type": "code",
   "execution_count": 11,
   "id": "d70b9e76",
   "metadata": {},
   "outputs": [
    {
     "data": {
      "text/plain": [
       "757"
      ]
     },
     "execution_count": 11,
     "metadata": {},
     "output_type": "execute_result"
    }
   ],
   "source": [
    "#Let's check how many ports we obtained.\n",
    "\n",
    "len(dict_list)"
   ]
  },
  {
   "cell_type": "code",
   "execution_count": 12,
   "id": "9a711035",
   "metadata": {},
   "outputs": [
    {
     "data": {
      "text/plain": [
       "{'url': 'https://www.altimetrias.net/aspbk/verPuerto.asp?id=664',\n",
       " 'lat': '42.166509',\n",
       " 'long': '-8.352331'}"
      ]
     },
     "execution_count": 12,
     "metadata": {},
     "output_type": "execute_result"
    }
   ],
   "source": [
    "#Testing the dictionary list.\n",
    "\n",
    "dict_list[0]"
   ]
  },
  {
   "cell_type": "markdown",
   "id": "6fa61564",
   "metadata": {},
   "source": [
    "## Creating a dataframe"
   ]
  },
  {
   "cell_type": "markdown",
   "id": "4c780e46",
   "metadata": {},
   "source": [
    "Now that we have obtained all the usaful data we will package it into a dataframe."
   ]
  },
  {
   "cell_type": "code",
   "execution_count": 3,
   "id": "fdb63236",
   "metadata": {},
   "outputs": [],
   "source": [
    "import pandas as pd"
   ]
  },
  {
   "cell_type": "code",
   "execution_count": 14,
   "id": "c9533546",
   "metadata": {},
   "outputs": [],
   "source": [
    "df = pd.DataFrame(dict_list)"
   ]
  },
  {
   "cell_type": "code",
   "execution_count": 15,
   "id": "b4466cd7",
   "metadata": {},
   "outputs": [
    {
     "data": {
      "text/html": [
       "<div>\n",
       "<style scoped>\n",
       "    .dataframe tbody tr th:only-of-type {\n",
       "        vertical-align: middle;\n",
       "    }\n",
       "\n",
       "    .dataframe tbody tr th {\n",
       "        vertical-align: top;\n",
       "    }\n",
       "\n",
       "    .dataframe thead th {\n",
       "        text-align: right;\n",
       "    }\n",
       "</style>\n",
       "<table border=\"1\" class=\"dataframe\">\n",
       "  <thead>\n",
       "    <tr style=\"text-align: right;\">\n",
       "      <th></th>\n",
       "      <th>url</th>\n",
       "      <th>lat</th>\n",
       "      <th>long</th>\n",
       "    </tr>\n",
       "  </thead>\n",
       "  <tbody>\n",
       "    <tr>\n",
       "      <th>0</th>\n",
       "      <td>https://www.altimetrias.net/aspbk/verPuerto.as...</td>\n",
       "      <td>42.166509</td>\n",
       "      <td>-8.352331</td>\n",
       "    </tr>\n",
       "    <tr>\n",
       "      <th>1</th>\n",
       "      <td>https://www.altimetrias.net/aspbk/verPuerto.as...</td>\n",
       "      <td>40.621878</td>\n",
       "      <td>-4.179733</td>\n",
       "    </tr>\n",
       "    <tr>\n",
       "      <th>2</th>\n",
       "      <td>https://www.altimetrias.net/aspbk/verPuerto.as...</td>\n",
       "      <td>40.621878</td>\n",
       "      <td>-4.179833</td>\n",
       "    </tr>\n",
       "    <tr>\n",
       "      <th>3</th>\n",
       "      <td>https://www.altimetrias.net/aspbk/verPuerto.as...</td>\n",
       "      <td>38.16339</td>\n",
       "      <td>-2.87367</td>\n",
       "    </tr>\n",
       "    <tr>\n",
       "      <th>4</th>\n",
       "      <td>https://www.altimetrias.net/aspbk/verPuerto.as...</td>\n",
       "      <td>42.551714</td>\n",
       "      <td>0.912602</td>\n",
       "    </tr>\n",
       "  </tbody>\n",
       "</table>\n",
       "</div>"
      ],
      "text/plain": [
       "                                                 url        lat       long\n",
       "0  https://www.altimetrias.net/aspbk/verPuerto.as...  42.166509  -8.352331\n",
       "1  https://www.altimetrias.net/aspbk/verPuerto.as...  40.621878  -4.179733\n",
       "2  https://www.altimetrias.net/aspbk/verPuerto.as...  40.621878  -4.179833\n",
       "3  https://www.altimetrias.net/aspbk/verPuerto.as...   38.16339   -2.87367\n",
       "4  https://www.altimetrias.net/aspbk/verPuerto.as...  42.551714   0.912602"
      ]
     },
     "execution_count": 15,
     "metadata": {},
     "output_type": "execute_result"
    }
   ],
   "source": [
    "df.head()"
   ]
  },
  {
   "cell_type": "code",
   "execution_count": 16,
   "id": "b3dae3aa",
   "metadata": {},
   "outputs": [
    {
     "name": "stdout",
     "output_type": "stream",
     "text": [
      "<class 'pandas.core.frame.DataFrame'>\n",
      "RangeIndex: 757 entries, 0 to 756\n",
      "Data columns (total 3 columns):\n",
      " #   Column  Non-Null Count  Dtype \n",
      "---  ------  --------------  ----- \n",
      " 0   url     757 non-null    object\n",
      " 1   lat     757 non-null    object\n",
      " 2   long    757 non-null    object\n",
      "dtypes: object(3)\n",
      "memory usage: 17.9+ KB\n"
     ]
    }
   ],
   "source": [
    "df.info()"
   ]
  },
  {
   "cell_type": "code",
   "execution_count": 17,
   "id": "aad08d81",
   "metadata": {},
   "outputs": [],
   "source": [
    "#Saving our dataframe.\n",
    "\n",
    "df.to_csv('df_coords_puertos.csv', index=False)"
   ]
  },
  {
   "cell_type": "markdown",
   "id": "35a2d75d",
   "metadata": {},
   "source": [
    "# Obtaining the coordinates for the remaining ports"
   ]
  },
  {
   "cell_type": "markdown",
   "id": "64141012",
   "metadata": {},
   "source": [
    "Let's load out our ports dataframe to find out which ones have missing coordinates."
   ]
  },
  {
   "cell_type": "code",
   "execution_count": 18,
   "id": "926233f7",
   "metadata": {},
   "outputs": [],
   "source": [
    "df1 = pd.read_csv('master_df_puertos.csv')"
   ]
  },
  {
   "cell_type": "code",
   "execution_count": 19,
   "id": "1cff9f34",
   "metadata": {},
   "outputs": [
    {
     "data": {
      "text/html": [
       "<div>\n",
       "<style scoped>\n",
       "    .dataframe tbody tr th:only-of-type {\n",
       "        vertical-align: middle;\n",
       "    }\n",
       "\n",
       "    .dataframe tbody tr th {\n",
       "        vertical-align: top;\n",
       "    }\n",
       "\n",
       "    .dataframe thead th {\n",
       "        text-align: right;\n",
       "    }\n",
       "</style>\n",
       "<table border=\"1\" class=\"dataframe\">\n",
       "  <thead>\n",
       "    <tr style=\"text-align: right;\">\n",
       "      <th></th>\n",
       "      <th>puerto</th>\n",
       "      <th>provincia</th>\n",
       "      <th>pueblo</th>\n",
       "      <th>altitud</th>\n",
       "      <th>desnivel</th>\n",
       "      <th>distancia</th>\n",
       "      <th>pendiente</th>\n",
       "      <th>coeficiente</th>\n",
       "      <th>url</th>\n",
       "    </tr>\n",
       "  </thead>\n",
       "  <tbody>\n",
       "    <tr>\n",
       "      <th>0</th>\n",
       "      <td>Pico Veleta</td>\n",
       "      <td>Granada</td>\n",
       "      <td>El Purche-Sabinas-Pradollano</td>\n",
       "      <td>3384</td>\n",
       "      <td>2662</td>\n",
       "      <td>46.0</td>\n",
       "      <td>5.7</td>\n",
       "      <td>588</td>\n",
       "      <td>https://www.altimetrias.net/aspbk/verPerfilusu...</td>\n",
       "    </tr>\n",
       "    <tr>\n",
       "      <th>1</th>\n",
       "      <td>Iram</td>\n",
       "      <td>Granada</td>\n",
       "      <td>Haza Llana</td>\n",
       "      <td>2845</td>\n",
       "      <td>2080</td>\n",
       "      <td>35.0</td>\n",
       "      <td>5.8</td>\n",
       "      <td>546</td>\n",
       "      <td>https://www.altimetrias.net/aspbk/verPerfilusu...</td>\n",
       "    </tr>\n",
       "    <tr>\n",
       "      <th>2</th>\n",
       "      <td>Angliru</td>\n",
       "      <td>Asturias</td>\n",
       "      <td>Santa Eulalia</td>\n",
       "      <td>1570</td>\n",
       "      <td>1423</td>\n",
       "      <td>18.0</td>\n",
       "      <td>7.0</td>\n",
       "      <td>528</td>\n",
       "      <td>https://www.altimetrias.net/aspbk/verPuerto.as...</td>\n",
       "    </tr>\n",
       "    <tr>\n",
       "      <th>3</th>\n",
       "      <td>Ancares Desde Navia De Suarna</td>\n",
       "      <td>Lugo</td>\n",
       "      <td>Pan do Zarco</td>\n",
       "      <td>1670</td>\n",
       "      <td>1875</td>\n",
       "      <td>35.0</td>\n",
       "      <td>3.8</td>\n",
       "      <td>512</td>\n",
       "      <td>https://www.altimetrias.net/aspbk/verPerfilusu...</td>\n",
       "    </tr>\n",
       "    <tr>\n",
       "      <th>4</th>\n",
       "      <td>Gamoniteiro</td>\n",
       "      <td>Asturias</td>\n",
       "      <td>Pola-Cobertoria</td>\n",
       "      <td>1772</td>\n",
       "      <td>1465</td>\n",
       "      <td>15.0</td>\n",
       "      <td>9.0</td>\n",
       "      <td>492</td>\n",
       "      <td>https://www.altimetrias.net/aspbk/verPuerto.as...</td>\n",
       "    </tr>\n",
       "  </tbody>\n",
       "</table>\n",
       "</div>"
      ],
      "text/plain": [
       "                          puerto provincia                        pueblo  \\\n",
       "0                    Pico Veleta   Granada  El Purche-Sabinas-Pradollano   \n",
       "1                           Iram   Granada                    Haza Llana   \n",
       "2                        Angliru  Asturias                 Santa Eulalia   \n",
       "3  Ancares Desde Navia De Suarna      Lugo                  Pan do Zarco   \n",
       "4                    Gamoniteiro  Asturias               Pola-Cobertoria   \n",
       "\n",
       "   altitud  desnivel  distancia  pendiente  coeficiente  \\\n",
       "0     3384      2662       46.0        5.7          588   \n",
       "1     2845      2080       35.0        5.8          546   \n",
       "2     1570      1423       18.0        7.0          528   \n",
       "3     1670      1875       35.0        3.8          512   \n",
       "4     1772      1465       15.0        9.0          492   \n",
       "\n",
       "                                                 url  \n",
       "0  https://www.altimetrias.net/aspbk/verPerfilusu...  \n",
       "1  https://www.altimetrias.net/aspbk/verPerfilusu...  \n",
       "2  https://www.altimetrias.net/aspbk/verPuerto.as...  \n",
       "3  https://www.altimetrias.net/aspbk/verPerfilusu...  \n",
       "4  https://www.altimetrias.net/aspbk/verPuerto.as...  "
      ]
     },
     "execution_count": 19,
     "metadata": {},
     "output_type": "execute_result"
    }
   ],
   "source": [
    "df1.head()"
   ]
  },
  {
   "cell_type": "code",
   "execution_count": 20,
   "id": "91881e75",
   "metadata": {},
   "outputs": [
    {
     "name": "stdout",
     "output_type": "stream",
     "text": [
      "<class 'pandas.core.frame.DataFrame'>\n",
      "RangeIndex: 1723 entries, 0 to 1722\n",
      "Data columns (total 9 columns):\n",
      " #   Column       Non-Null Count  Dtype  \n",
      "---  ------       --------------  -----  \n",
      " 0   puerto       1723 non-null   object \n",
      " 1   provincia    1723 non-null   object \n",
      " 2   pueblo       1723 non-null   object \n",
      " 3   altitud      1723 non-null   int64  \n",
      " 4   desnivel     1723 non-null   int64  \n",
      " 5   distancia    1723 non-null   float64\n",
      " 6   pendiente    1723 non-null   float64\n",
      " 7   coeficiente  1723 non-null   int64  \n",
      " 8   url          1723 non-null   object \n",
      "dtypes: float64(2), int64(3), object(4)\n",
      "memory usage: 121.3+ KB\n"
     ]
    }
   ],
   "source": [
    "df1.info()"
   ]
  },
  {
   "cell_type": "code",
   "execution_count": 21,
   "id": "2165875c",
   "metadata": {},
   "outputs": [],
   "source": [
    "#Some ports are too small to be of any value, so we will be dropping them and creating a new df.\n",
    "\n",
    "df2 = df1[df1['desnivel'] >= 200]"
   ]
  },
  {
   "cell_type": "code",
   "execution_count": 22,
   "id": "b555775d",
   "metadata": {},
   "outputs": [
    {
     "name": "stdout",
     "output_type": "stream",
     "text": [
      "<class 'pandas.core.frame.DataFrame'>\n",
      "Int64Index: 1467 entries, 0 to 1663\n",
      "Data columns (total 9 columns):\n",
      " #   Column       Non-Null Count  Dtype  \n",
      "---  ------       --------------  -----  \n",
      " 0   puerto       1467 non-null   object \n",
      " 1   provincia    1467 non-null   object \n",
      " 2   pueblo       1467 non-null   object \n",
      " 3   altitud      1467 non-null   int64  \n",
      " 4   desnivel     1467 non-null   int64  \n",
      " 5   distancia    1467 non-null   float64\n",
      " 6   pendiente    1467 non-null   float64\n",
      " 7   coeficiente  1467 non-null   int64  \n",
      " 8   url          1467 non-null   object \n",
      "dtypes: float64(2), int64(3), object(4)\n",
      "memory usage: 114.6+ KB\n"
     ]
    }
   ],
   "source": [
    "df2.info()"
   ]
  },
  {
   "cell_type": "markdown",
   "id": "1d0fe02d",
   "metadata": {},
   "source": [
    "## Obtaining the missing ports"
   ]
  },
  {
   "cell_type": "markdown",
   "id": "d2ef3ab5",
   "metadata": {},
   "source": [
    "First of all we will merge the two dataframes to visualize which ports are lacking coordinates."
   ]
  },
  {
   "cell_type": "code",
   "execution_count": 23,
   "id": "9cb4e6ae",
   "metadata": {},
   "outputs": [],
   "source": [
    "df3 = pd.merge(left=df2, right=df, how='left', left_on='url', right_on='url')"
   ]
  },
  {
   "cell_type": "code",
   "execution_count": 24,
   "id": "c7cdb159",
   "metadata": {},
   "outputs": [
    {
     "name": "stdout",
     "output_type": "stream",
     "text": [
      "<class 'pandas.core.frame.DataFrame'>\n",
      "Int64Index: 1468 entries, 0 to 1467\n",
      "Data columns (total 11 columns):\n",
      " #   Column       Non-Null Count  Dtype  \n",
      "---  ------       --------------  -----  \n",
      " 0   puerto       1468 non-null   object \n",
      " 1   provincia    1468 non-null   object \n",
      " 2   pueblo       1468 non-null   object \n",
      " 3   altitud      1468 non-null   int64  \n",
      " 4   desnivel     1468 non-null   int64  \n",
      " 5   distancia    1468 non-null   float64\n",
      " 6   pendiente    1468 non-null   float64\n",
      " 7   coeficiente  1468 non-null   int64  \n",
      " 8   url          1468 non-null   object \n",
      " 9   lat          402 non-null    object \n",
      " 10  long         402 non-null    object \n",
      "dtypes: float64(2), int64(3), object(6)\n",
      "memory usage: 137.6+ KB\n"
     ]
    }
   ],
   "source": [
    "df3.info()"
   ]
  },
  {
   "cell_type": "code",
   "execution_count": 25,
   "id": "d9f45027",
   "metadata": {
    "scrolled": false
   },
   "outputs": [
    {
     "data": {
      "text/html": [
       "<div>\n",
       "<style scoped>\n",
       "    .dataframe tbody tr th:only-of-type {\n",
       "        vertical-align: middle;\n",
       "    }\n",
       "\n",
       "    .dataframe tbody tr th {\n",
       "        vertical-align: top;\n",
       "    }\n",
       "\n",
       "    .dataframe thead th {\n",
       "        text-align: right;\n",
       "    }\n",
       "</style>\n",
       "<table border=\"1\" class=\"dataframe\">\n",
       "  <thead>\n",
       "    <tr style=\"text-align: right;\">\n",
       "      <th></th>\n",
       "      <th>puerto</th>\n",
       "      <th>provincia</th>\n",
       "      <th>pueblo</th>\n",
       "      <th>altitud</th>\n",
       "      <th>desnivel</th>\n",
       "      <th>distancia</th>\n",
       "      <th>pendiente</th>\n",
       "      <th>coeficiente</th>\n",
       "      <th>url</th>\n",
       "      <th>lat</th>\n",
       "      <th>long</th>\n",
       "    </tr>\n",
       "  </thead>\n",
       "  <tbody>\n",
       "    <tr>\n",
       "      <th>0</th>\n",
       "      <td>Pico Veleta</td>\n",
       "      <td>Granada</td>\n",
       "      <td>El Purche-Sabinas-Pradollano</td>\n",
       "      <td>3384</td>\n",
       "      <td>2662</td>\n",
       "      <td>46.0</td>\n",
       "      <td>5.7</td>\n",
       "      <td>588</td>\n",
       "      <td>https://www.altimetrias.net/aspbk/verPerfilusu...</td>\n",
       "      <td>NaN</td>\n",
       "      <td>NaN</td>\n",
       "    </tr>\n",
       "    <tr>\n",
       "      <th>1</th>\n",
       "      <td>Iram</td>\n",
       "      <td>Granada</td>\n",
       "      <td>Haza Llana</td>\n",
       "      <td>2845</td>\n",
       "      <td>2080</td>\n",
       "      <td>35.0</td>\n",
       "      <td>5.8</td>\n",
       "      <td>546</td>\n",
       "      <td>https://www.altimetrias.net/aspbk/verPerfilusu...</td>\n",
       "      <td>NaN</td>\n",
       "      <td>NaN</td>\n",
       "    </tr>\n",
       "    <tr>\n",
       "      <th>2</th>\n",
       "      <td>Angliru</td>\n",
       "      <td>Asturias</td>\n",
       "      <td>Santa Eulalia</td>\n",
       "      <td>1570</td>\n",
       "      <td>1423</td>\n",
       "      <td>18.0</td>\n",
       "      <td>7.0</td>\n",
       "      <td>528</td>\n",
       "      <td>https://www.altimetrias.net/aspbk/verPuerto.as...</td>\n",
       "      <td>43.221596</td>\n",
       "      <td>-5.941780</td>\n",
       "    </tr>\n",
       "    <tr>\n",
       "      <th>3</th>\n",
       "      <td>Ancares Desde Navia De Suarna</td>\n",
       "      <td>Lugo</td>\n",
       "      <td>Pan do Zarco</td>\n",
       "      <td>1670</td>\n",
       "      <td>1875</td>\n",
       "      <td>35.0</td>\n",
       "      <td>3.8</td>\n",
       "      <td>512</td>\n",
       "      <td>https://www.altimetrias.net/aspbk/verPerfilusu...</td>\n",
       "      <td>NaN</td>\n",
       "      <td>NaN</td>\n",
       "    </tr>\n",
       "    <tr>\n",
       "      <th>4</th>\n",
       "      <td>Gamoniteiro</td>\n",
       "      <td>Asturias</td>\n",
       "      <td>Pola-Cobertoria</td>\n",
       "      <td>1772</td>\n",
       "      <td>1465</td>\n",
       "      <td>15.0</td>\n",
       "      <td>9.0</td>\n",
       "      <td>492</td>\n",
       "      <td>https://www.altimetrias.net/aspbk/verPuerto.as...</td>\n",
       "      <td>43.18786</td>\n",
       "      <td>-5.923458</td>\n",
       "    </tr>\n",
       "  </tbody>\n",
       "</table>\n",
       "</div>"
      ],
      "text/plain": [
       "                          puerto provincia                        pueblo  \\\n",
       "0                    Pico Veleta   Granada  El Purche-Sabinas-Pradollano   \n",
       "1                           Iram   Granada                    Haza Llana   \n",
       "2                        Angliru  Asturias                 Santa Eulalia   \n",
       "3  Ancares Desde Navia De Suarna      Lugo                  Pan do Zarco   \n",
       "4                    Gamoniteiro  Asturias               Pola-Cobertoria   \n",
       "\n",
       "   altitud  desnivel  distancia  pendiente  coeficiente  \\\n",
       "0     3384      2662       46.0        5.7          588   \n",
       "1     2845      2080       35.0        5.8          546   \n",
       "2     1570      1423       18.0        7.0          528   \n",
       "3     1670      1875       35.0        3.8          512   \n",
       "4     1772      1465       15.0        9.0          492   \n",
       "\n",
       "                                                 url        lat       long  \n",
       "0  https://www.altimetrias.net/aspbk/verPerfilusu...        NaN        NaN  \n",
       "1  https://www.altimetrias.net/aspbk/verPerfilusu...        NaN        NaN  \n",
       "2  https://www.altimetrias.net/aspbk/verPuerto.as...  43.221596  -5.941780  \n",
       "3  https://www.altimetrias.net/aspbk/verPerfilusu...        NaN        NaN  \n",
       "4  https://www.altimetrias.net/aspbk/verPuerto.as...   43.18786  -5.923458  "
      ]
     },
     "execution_count": 25,
     "metadata": {},
     "output_type": "execute_result"
    }
   ],
   "source": [
    "df3.head()"
   ]
  },
  {
   "cell_type": "code",
   "execution_count": 26,
   "id": "35b62167",
   "metadata": {},
   "outputs": [],
   "source": [
    "#Creating a dataframe with all ports that are missing their coordinates.\n",
    "\n",
    "df4 = df3[df3['lat'].isnull()]"
   ]
  },
  {
   "cell_type": "code",
   "execution_count": 27,
   "id": "b3bcb07a",
   "metadata": {},
   "outputs": [
    {
     "name": "stdout",
     "output_type": "stream",
     "text": [
      "<class 'pandas.core.frame.DataFrame'>\n",
      "Int64Index: 1066 entries, 0 to 1466\n",
      "Data columns (total 11 columns):\n",
      " #   Column       Non-Null Count  Dtype  \n",
      "---  ------       --------------  -----  \n",
      " 0   puerto       1066 non-null   object \n",
      " 1   provincia    1066 non-null   object \n",
      " 2   pueblo       1066 non-null   object \n",
      " 3   altitud      1066 non-null   int64  \n",
      " 4   desnivel     1066 non-null   int64  \n",
      " 5   distancia    1066 non-null   float64\n",
      " 6   pendiente    1066 non-null   float64\n",
      " 7   coeficiente  1066 non-null   int64  \n",
      " 8   url          1066 non-null   object \n",
      " 9   lat          0 non-null      object \n",
      " 10  long         0 non-null      object \n",
      "dtypes: float64(2), int64(3), object(6)\n",
      "memory usage: 99.9+ KB\n"
     ]
    }
   ],
   "source": [
    "df4.info()"
   ]
  },
  {
   "cell_type": "code",
   "execution_count": 28,
   "id": "964ccdb2",
   "metadata": {},
   "outputs": [
    {
     "data": {
      "text/html": [
       "<div>\n",
       "<style scoped>\n",
       "    .dataframe tbody tr th:only-of-type {\n",
       "        vertical-align: middle;\n",
       "    }\n",
       "\n",
       "    .dataframe tbody tr th {\n",
       "        vertical-align: top;\n",
       "    }\n",
       "\n",
       "    .dataframe thead th {\n",
       "        text-align: right;\n",
       "    }\n",
       "</style>\n",
       "<table border=\"1\" class=\"dataframe\">\n",
       "  <thead>\n",
       "    <tr style=\"text-align: right;\">\n",
       "      <th></th>\n",
       "      <th>puerto</th>\n",
       "      <th>provincia</th>\n",
       "      <th>pueblo</th>\n",
       "      <th>altitud</th>\n",
       "      <th>desnivel</th>\n",
       "      <th>distancia</th>\n",
       "      <th>pendiente</th>\n",
       "      <th>coeficiente</th>\n",
       "      <th>url</th>\n",
       "      <th>lat</th>\n",
       "      <th>long</th>\n",
       "    </tr>\n",
       "  </thead>\n",
       "  <tbody>\n",
       "    <tr>\n",
       "      <th>0</th>\n",
       "      <td>Pico Veleta</td>\n",
       "      <td>Granada</td>\n",
       "      <td>El Purche-Sabinas-Pradollano</td>\n",
       "      <td>3384</td>\n",
       "      <td>2662</td>\n",
       "      <td>46.0</td>\n",
       "      <td>5.7</td>\n",
       "      <td>588</td>\n",
       "      <td>https://www.altimetrias.net/aspbk/verPerfilusu...</td>\n",
       "      <td>NaN</td>\n",
       "      <td>NaN</td>\n",
       "    </tr>\n",
       "    <tr>\n",
       "      <th>1</th>\n",
       "      <td>Iram</td>\n",
       "      <td>Granada</td>\n",
       "      <td>Haza Llana</td>\n",
       "      <td>2845</td>\n",
       "      <td>2080</td>\n",
       "      <td>35.0</td>\n",
       "      <td>5.8</td>\n",
       "      <td>546</td>\n",
       "      <td>https://www.altimetrias.net/aspbk/verPerfilusu...</td>\n",
       "      <td>NaN</td>\n",
       "      <td>NaN</td>\n",
       "    </tr>\n",
       "    <tr>\n",
       "      <th>3</th>\n",
       "      <td>Ancares Desde Navia De Suarna</td>\n",
       "      <td>Lugo</td>\n",
       "      <td>Pan do Zarco</td>\n",
       "      <td>1670</td>\n",
       "      <td>1875</td>\n",
       "      <td>35.0</td>\n",
       "      <td>3.8</td>\n",
       "      <td>512</td>\n",
       "      <td>https://www.altimetrias.net/aspbk/verPerfilusu...</td>\n",
       "      <td>NaN</td>\n",
       "      <td>NaN</td>\n",
       "    </tr>\n",
       "    <tr>\n",
       "      <th>5</th>\n",
       "      <td>Sierra De Lújar</td>\n",
       "      <td>Granada</td>\n",
       "      <td>Rubite</td>\n",
       "      <td>1865</td>\n",
       "      <td>1856</td>\n",
       "      <td>31.0</td>\n",
       "      <td>5.8</td>\n",
       "      <td>482</td>\n",
       "      <td>https://www.altimetrias.net/aspbk/verPerfilusu...</td>\n",
       "      <td>NaN</td>\n",
       "      <td>NaN</td>\n",
       "    </tr>\n",
       "    <tr>\n",
       "      <th>8</th>\n",
       "      <td>Oiz Mendia</td>\n",
       "      <td>Bizkaia</td>\n",
       "      <td>Mendata-Totorika-Gortaguren</td>\n",
       "      <td>1020</td>\n",
       "      <td>1000</td>\n",
       "      <td>27.0</td>\n",
       "      <td>3.6</td>\n",
       "      <td>405</td>\n",
       "      <td>https://www.altimetrias.net/aspbk/verPerfilusu...</td>\n",
       "      <td>NaN</td>\n",
       "      <td>NaN</td>\n",
       "    </tr>\n",
       "  </tbody>\n",
       "</table>\n",
       "</div>"
      ],
      "text/plain": [
       "                          puerto provincia                        pueblo  \\\n",
       "0                    Pico Veleta   Granada  El Purche-Sabinas-Pradollano   \n",
       "1                           Iram   Granada                    Haza Llana   \n",
       "3  Ancares Desde Navia De Suarna      Lugo                  Pan do Zarco   \n",
       "5                Sierra De Lújar   Granada                        Rubite   \n",
       "8                     Oiz Mendia   Bizkaia   Mendata-Totorika-Gortaguren   \n",
       "\n",
       "   altitud  desnivel  distancia  pendiente  coeficiente  \\\n",
       "0     3384      2662       46.0        5.7          588   \n",
       "1     2845      2080       35.0        5.8          546   \n",
       "3     1670      1875       35.0        3.8          512   \n",
       "5     1865      1856       31.0        5.8          482   \n",
       "8     1020      1000       27.0        3.6          405   \n",
       "\n",
       "                                                 url  lat long  \n",
       "0  https://www.altimetrias.net/aspbk/verPerfilusu...  NaN  NaN  \n",
       "1  https://www.altimetrias.net/aspbk/verPerfilusu...  NaN  NaN  \n",
       "3  https://www.altimetrias.net/aspbk/verPerfilusu...  NaN  NaN  \n",
       "5  https://www.altimetrias.net/aspbk/verPerfilusu...  NaN  NaN  \n",
       "8  https://www.altimetrias.net/aspbk/verPerfilusu...  NaN  NaN  "
      ]
     },
     "execution_count": 28,
     "metadata": {},
     "output_type": "execute_result"
    }
   ],
   "source": [
    "df4.head()"
   ]
  },
  {
   "cell_type": "code",
   "execution_count": 29,
   "id": "341a0156",
   "metadata": {},
   "outputs": [],
   "source": [
    "#Exporting and importing to tweak some port names manually.\n",
    "\n",
    "df4.to_csv('df4.csv', index=False)"
   ]
  },
  {
   "cell_type": "code",
   "execution_count": 30,
   "id": "9172ba95",
   "metadata": {},
   "outputs": [],
   "source": [
    "df4 = pd.read_csv('df4.csv')"
   ]
  },
  {
   "cell_type": "markdown",
   "id": "5c166dd3",
   "metadata": {},
   "source": [
    "## Requesting the missing coordinates"
   ]
  },
  {
   "cell_type": "markdown",
   "id": "6046664c",
   "metadata": {},
   "source": [
    "For this purpose I will be using a library called **Geopy**."
   ]
  },
  {
   "cell_type": "code",
   "execution_count": 17,
   "id": "bc638aca",
   "metadata": {},
   "outputs": [],
   "source": [
    "from geopy.geocoders import Nominatim"
   ]
  },
  {
   "cell_type": "code",
   "execution_count": 32,
   "id": "1e4557f4",
   "metadata": {},
   "outputs": [
    {
     "data": {
      "text/plain": [
       "Location(Pico del Veleta, Capileira, Comarca de la Alpujarra Granadina, Granada, Andalucía, 18196, España, (37.0560211, -3.3656885, 0.0))"
      ]
     },
     "execution_count": 32,
     "metadata": {},
     "output_type": "execute_result"
    }
   ],
   "source": [
    "#Testing the function.\n",
    "\n",
    "geolocator = Nominatim(user_agent=\"Firefox\")\n",
    "location = geolocator.geocode(\"Pico Veleta, Granada, España\")\n",
    "location"
   ]
  },
  {
   "cell_type": "code",
   "execution_count": 33,
   "id": "34b05997",
   "metadata": {},
   "outputs": [
    {
     "data": {
      "text/plain": [
       "37.0560211"
      ]
     },
     "execution_count": 33,
     "metadata": {},
     "output_type": "execute_result"
    }
   ],
   "source": [
    "#Obtaining the longitude:\n",
    "\n",
    "location[1][0]"
   ]
  },
  {
   "cell_type": "code",
   "execution_count": 34,
   "id": "ff770acc",
   "metadata": {},
   "outputs": [
    {
     "data": {
      "text/plain": [
       "-3.3656885"
      ]
     },
     "execution_count": 34,
     "metadata": {},
     "output_type": "execute_result"
    }
   ],
   "source": [
    "#Latitude:\n",
    "\n",
    "location[1][1]"
   ]
  },
  {
   "cell_type": "code",
   "execution_count": 35,
   "id": "f967cf1e",
   "metadata": {},
   "outputs": [
    {
     "name": "stderr",
     "output_type": "stream",
     "text": [
      "C:\\Users\\Xavier\\anaconda3\\lib\\site-packages\\pandas\\core\\indexing.py:1637: SettingWithCopyWarning: \n",
      "A value is trying to be set on a copy of a slice from a DataFrame\n",
      "\n",
      "See the caveats in the documentation: https://pandas.pydata.org/pandas-docs/stable/user_guide/indexing.html#returning-a-view-versus-a-copy\n",
      "  self._setitem_single_block(indexer, value, name)\n"
     ]
    }
   ],
   "source": [
    "#Let's create a loop that iterates through our dataframe and appends coordinates whenever possible.\n",
    "\n",
    "for i in range(len(df4)):\n",
    "    try:\n",
    "        geolocator = Nominatim(user_agent=\"Firefox\")\n",
    "        puerto = df4['puerto'].iloc[i]\n",
    "        provincia = df4['provincia'].iloc[i]\n",
    "        buscador = puerto + ', ' + provincia + ', ' + 'España'\n",
    "        location = geolocator.geocode(buscador)\n",
    "        df4['lat'].iloc[i] = location[1][0]\n",
    "        df4['long'].iloc[i] = location[1][1]\n",
    "    except:\n",
    "        pass"
   ]
  },
  {
   "cell_type": "code",
   "execution_count": 36,
   "id": "1b2fa59b",
   "metadata": {},
   "outputs": [
    {
     "name": "stdout",
     "output_type": "stream",
     "text": [
      "<class 'pandas.core.frame.DataFrame'>\n",
      "RangeIndex: 1066 entries, 0 to 1065\n",
      "Data columns (total 11 columns):\n",
      " #   Column       Non-Null Count  Dtype  \n",
      "---  ------       --------------  -----  \n",
      " 0   puerto       1066 non-null   object \n",
      " 1   provincia    1066 non-null   object \n",
      " 2   pueblo       1066 non-null   object \n",
      " 3   altitud      1066 non-null   int64  \n",
      " 4   desnivel     1066 non-null   int64  \n",
      " 5   distancia    1066 non-null   float64\n",
      " 6   pendiente    1066 non-null   float64\n",
      " 7   coeficiente  1066 non-null   int64  \n",
      " 8   url          1066 non-null   object \n",
      " 9   lat          707 non-null    float64\n",
      " 10  long         707 non-null    float64\n",
      "dtypes: float64(4), int64(3), object(4)\n",
      "memory usage: 91.7+ KB\n"
     ]
    }
   ],
   "source": [
    "#We obtained the coordinates for 765 additional ports. The next step will be creating two dataframes, one with all ports that \n",
    "#have coords and one without them.\n",
    "\n",
    "df4.info()"
   ]
  },
  {
   "cell_type": "markdown",
   "id": "5eb1e636",
   "metadata": {},
   "source": [
    "## Creating the final dataframes"
   ]
  },
  {
   "cell_type": "code",
   "execution_count": 37,
   "id": "9269376a",
   "metadata": {},
   "outputs": [],
   "source": [
    "#First, the dataframe with missing coordinates.\n",
    "\n",
    "df5 = df4[df4['lat'].isnull()]"
   ]
  },
  {
   "cell_type": "code",
   "execution_count": 38,
   "id": "8ac96797",
   "metadata": {},
   "outputs": [
    {
     "name": "stdout",
     "output_type": "stream",
     "text": [
      "<class 'pandas.core.frame.DataFrame'>\n",
      "Int64Index: 359 entries, 2 to 1063\n",
      "Data columns (total 11 columns):\n",
      " #   Column       Non-Null Count  Dtype  \n",
      "---  ------       --------------  -----  \n",
      " 0   puerto       359 non-null    object \n",
      " 1   provincia    359 non-null    object \n",
      " 2   pueblo       359 non-null    object \n",
      " 3   altitud      359 non-null    int64  \n",
      " 4   desnivel     359 non-null    int64  \n",
      " 5   distancia    359 non-null    float64\n",
      " 6   pendiente    359 non-null    float64\n",
      " 7   coeficiente  359 non-null    int64  \n",
      " 8   url          359 non-null    object \n",
      " 9   lat          0 non-null      float64\n",
      " 10  long         0 non-null      float64\n",
      "dtypes: float64(4), int64(3), object(4)\n",
      "memory usage: 33.7+ KB\n"
     ]
    }
   ],
   "source": [
    "df5.info()"
   ]
  },
  {
   "cell_type": "code",
   "execution_count": 39,
   "id": "6f6b41e7",
   "metadata": {},
   "outputs": [],
   "source": [
    "#Saving our dataframe of missing coordinates.\n",
    "\n",
    "df5.to_csv('df_missing_routes.csv', index=False)"
   ]
  },
  {
   "cell_type": "code",
   "execution_count": 40,
   "id": "c76f3a6a",
   "metadata": {},
   "outputs": [],
   "source": [
    "#And second, the dataframe with coords.\n",
    "\n",
    "df6 = df4.dropna(how='any')"
   ]
  },
  {
   "cell_type": "code",
   "execution_count": 41,
   "id": "ced2ecd4",
   "metadata": {},
   "outputs": [
    {
     "name": "stdout",
     "output_type": "stream",
     "text": [
      "<class 'pandas.core.frame.DataFrame'>\n",
      "Int64Index: 707 entries, 0 to 1065\n",
      "Data columns (total 11 columns):\n",
      " #   Column       Non-Null Count  Dtype  \n",
      "---  ------       --------------  -----  \n",
      " 0   puerto       707 non-null    object \n",
      " 1   provincia    707 non-null    object \n",
      " 2   pueblo       707 non-null    object \n",
      " 3   altitud      707 non-null    int64  \n",
      " 4   desnivel     707 non-null    int64  \n",
      " 5   distancia    707 non-null    float64\n",
      " 6   pendiente    707 non-null    float64\n",
      " 7   coeficiente  707 non-null    int64  \n",
      " 8   url          707 non-null    object \n",
      " 9   lat          707 non-null    float64\n",
      " 10  long         707 non-null    float64\n",
      "dtypes: float64(4), int64(3), object(4)\n",
      "memory usage: 66.3+ KB\n"
     ]
    }
   ],
   "source": [
    "df6.info()"
   ]
  },
  {
   "cell_type": "code",
   "execution_count": 42,
   "id": "2a17b9ef",
   "metadata": {},
   "outputs": [],
   "source": [
    "#Merging the final dataframes.\n",
    "\n",
    "df7 = df3.dropna(how='any')"
   ]
  },
  {
   "cell_type": "code",
   "execution_count": 43,
   "id": "1b72b1aa",
   "metadata": {},
   "outputs": [
    {
     "name": "stdout",
     "output_type": "stream",
     "text": [
      "<class 'pandas.core.frame.DataFrame'>\n",
      "Int64Index: 402 entries, 2 to 1467\n",
      "Data columns (total 11 columns):\n",
      " #   Column       Non-Null Count  Dtype  \n",
      "---  ------       --------------  -----  \n",
      " 0   puerto       402 non-null    object \n",
      " 1   provincia    402 non-null    object \n",
      " 2   pueblo       402 non-null    object \n",
      " 3   altitud      402 non-null    int64  \n",
      " 4   desnivel     402 non-null    int64  \n",
      " 5   distancia    402 non-null    float64\n",
      " 6   pendiente    402 non-null    float64\n",
      " 7   coeficiente  402 non-null    int64  \n",
      " 8   url          402 non-null    object \n",
      " 9   lat          402 non-null    object \n",
      " 10  long         402 non-null    object \n",
      "dtypes: float64(2), int64(3), object(6)\n",
      "memory usage: 37.7+ KB\n"
     ]
    }
   ],
   "source": [
    "df7.info()"
   ]
  },
  {
   "cell_type": "code",
   "execution_count": 44,
   "id": "6beb16c0",
   "metadata": {},
   "outputs": [],
   "source": [
    "#Appending the dataframe.\n",
    "\n",
    "df8 = df7.append(df6, ignore_index=True)"
   ]
  },
  {
   "cell_type": "code",
   "execution_count": 45,
   "id": "b97ce0ec",
   "metadata": {},
   "outputs": [
    {
     "data": {
      "text/html": [
       "<div>\n",
       "<style scoped>\n",
       "    .dataframe tbody tr th:only-of-type {\n",
       "        vertical-align: middle;\n",
       "    }\n",
       "\n",
       "    .dataframe tbody tr th {\n",
       "        vertical-align: top;\n",
       "    }\n",
       "\n",
       "    .dataframe thead th {\n",
       "        text-align: right;\n",
       "    }\n",
       "</style>\n",
       "<table border=\"1\" class=\"dataframe\">\n",
       "  <thead>\n",
       "    <tr style=\"text-align: right;\">\n",
       "      <th></th>\n",
       "      <th>puerto</th>\n",
       "      <th>provincia</th>\n",
       "      <th>pueblo</th>\n",
       "      <th>altitud</th>\n",
       "      <th>desnivel</th>\n",
       "      <th>distancia</th>\n",
       "      <th>pendiente</th>\n",
       "      <th>coeficiente</th>\n",
       "      <th>url</th>\n",
       "      <th>lat</th>\n",
       "      <th>long</th>\n",
       "    </tr>\n",
       "  </thead>\n",
       "  <tbody>\n",
       "    <tr>\n",
       "      <th>0</th>\n",
       "      <td>Angliru</td>\n",
       "      <td>Asturias</td>\n",
       "      <td>Santa Eulalia</td>\n",
       "      <td>1570</td>\n",
       "      <td>1423</td>\n",
       "      <td>18.0</td>\n",
       "      <td>7.0</td>\n",
       "      <td>528</td>\n",
       "      <td>https://www.altimetrias.net/aspbk/verPuerto.as...</td>\n",
       "      <td>43.221596</td>\n",
       "      <td>-5.941780</td>\n",
       "    </tr>\n",
       "    <tr>\n",
       "      <th>1</th>\n",
       "      <td>Gamoniteiro</td>\n",
       "      <td>Asturias</td>\n",
       "      <td>Pola-Cobertoria</td>\n",
       "      <td>1772</td>\n",
       "      <td>1465</td>\n",
       "      <td>15.0</td>\n",
       "      <td>9.0</td>\n",
       "      <td>492</td>\n",
       "      <td>https://www.altimetrias.net/aspbk/verPuerto.as...</td>\n",
       "      <td>43.18786</td>\n",
       "      <td>-5.923458</td>\n",
       "    </tr>\n",
       "    <tr>\n",
       "      <th>2</th>\n",
       "      <td>Peña Escrita</td>\n",
       "      <td>Granada</td>\n",
       "      <td>Torrecuevas</td>\n",
       "      <td>1200</td>\n",
       "      <td>1150</td>\n",
       "      <td>13.0</td>\n",
       "      <td>8.0</td>\n",
       "      <td>462</td>\n",
       "      <td>https://www.altimetrias.net/aspbk/verPuerto.as...</td>\n",
       "      <td>36.818155</td>\n",
       "      <td>-3.771034</td>\n",
       "    </tr>\n",
       "    <tr>\n",
       "      <th>3</th>\n",
       "      <td>Ancares</td>\n",
       "      <td>Lugo</td>\n",
       "      <td>Sª Morela-Balouta</td>\n",
       "      <td>1670</td>\n",
       "      <td>1355</td>\n",
       "      <td>36.0</td>\n",
       "      <td>3.0</td>\n",
       "      <td>427</td>\n",
       "      <td>https://www.altimetrias.net/aspbk/verPuerto.as...</td>\n",
       "      <td>42.868532</td>\n",
       "      <td>-6.818333</td>\n",
       "    </tr>\n",
       "    <tr>\n",
       "      <th>4</th>\n",
       "      <td>Pajares-Cuitu Negru</td>\n",
       "      <td>Asturias</td>\n",
       "      <td>Campomanes</td>\n",
       "      <td>1843</td>\n",
       "      <td>1466</td>\n",
       "      <td>25.0</td>\n",
       "      <td>5.0</td>\n",
       "      <td>394</td>\n",
       "      <td>https://www.altimetrias.net/aspbk/verPuerto.as...</td>\n",
       "      <td>42.968240</td>\n",
       "      <td>-5.788388</td>\n",
       "    </tr>\n",
       "  </tbody>\n",
       "</table>\n",
       "</div>"
      ],
      "text/plain": [
       "                puerto provincia             pueblo  altitud  desnivel  \\\n",
       "0              Angliru  Asturias      Santa Eulalia     1570      1423   \n",
       "1          Gamoniteiro  Asturias    Pola-Cobertoria     1772      1465   \n",
       "2         Peña Escrita   Granada        Torrecuevas     1200      1150   \n",
       "3              Ancares      Lugo  Sª Morela-Balouta     1670      1355   \n",
       "4  Pajares-Cuitu Negru  Asturias         Campomanes     1843      1466   \n",
       "\n",
       "   distancia  pendiente  coeficiente  \\\n",
       "0       18.0        7.0          528   \n",
       "1       15.0        9.0          492   \n",
       "2       13.0        8.0          462   \n",
       "3       36.0        3.0          427   \n",
       "4       25.0        5.0          394   \n",
       "\n",
       "                                                 url        lat       long  \n",
       "0  https://www.altimetrias.net/aspbk/verPuerto.as...  43.221596  -5.941780  \n",
       "1  https://www.altimetrias.net/aspbk/verPuerto.as...   43.18786  -5.923458  \n",
       "2  https://www.altimetrias.net/aspbk/verPuerto.as...  36.818155  -3.771034  \n",
       "3  https://www.altimetrias.net/aspbk/verPuerto.as...  42.868532  -6.818333  \n",
       "4  https://www.altimetrias.net/aspbk/verPuerto.as...  42.968240  -5.788388  "
      ]
     },
     "execution_count": 45,
     "metadata": {},
     "output_type": "execute_result"
    }
   ],
   "source": [
    "df8.head()"
   ]
  },
  {
   "cell_type": "code",
   "execution_count": 46,
   "id": "ea52df4e",
   "metadata": {},
   "outputs": [
    {
     "name": "stdout",
     "output_type": "stream",
     "text": [
      "<class 'pandas.core.frame.DataFrame'>\n",
      "RangeIndex: 1109 entries, 0 to 1108\n",
      "Data columns (total 11 columns):\n",
      " #   Column       Non-Null Count  Dtype  \n",
      "---  ------       --------------  -----  \n",
      " 0   puerto       1109 non-null   object \n",
      " 1   provincia    1109 non-null   object \n",
      " 2   pueblo       1109 non-null   object \n",
      " 3   altitud      1109 non-null   int64  \n",
      " 4   desnivel     1109 non-null   int64  \n",
      " 5   distancia    1109 non-null   float64\n",
      " 6   pendiente    1109 non-null   float64\n",
      " 7   coeficiente  1109 non-null   int64  \n",
      " 8   url          1109 non-null   object \n",
      " 9   lat          1109 non-null   object \n",
      " 10  long         1109 non-null   object \n",
      "dtypes: float64(2), int64(3), object(6)\n",
      "memory usage: 95.4+ KB\n"
     ]
    }
   ],
   "source": [
    "df8.info()"
   ]
  },
  {
   "cell_type": "code",
   "execution_count": 53,
   "id": "4964e914",
   "metadata": {},
   "outputs": [],
   "source": [
    "#Exporting our dataframe:\n",
    "\n",
    "df8.to_csv('master_df_puertos_coords.csv', index=False)"
   ]
  },
  {
   "cell_type": "markdown",
   "id": "6d032769",
   "metadata": {},
   "source": [
    "# Conclusions"
   ]
  },
  {
   "cell_type": "markdown",
   "id": "8afde64c",
   "metadata": {},
   "source": [
    "While we managed to obtain the coordinates for 1109 ports, 359 still have missing data. Most of them are quite obscure, but if we are aiming for completeness those values will have to be extracted manually.\n",
    "\n",
    "Thankfully this won't really hurt our results since we have the geographical data for the most important ports and 1167 is plenty of data to work with."
   ]
  },
  {
   "cell_type": "markdown",
   "id": "26be36f3",
   "metadata": {},
   "source": [
    "**<div align=\"right\">Ironhack DA PT 2021</div>**\n",
    "    \n",
    "**<div align=\"right\">Xavier Esteban</div>**"
   ]
  }
 ],
 "metadata": {
  "kernelspec": {
   "display_name": "Python 3",
   "language": "python",
   "name": "python3"
  },
  "language_info": {
   "codemirror_mode": {
    "name": "ipython",
    "version": 3
   },
   "file_extension": ".py",
   "mimetype": "text/x-python",
   "name": "python",
   "nbconvert_exporter": "python",
   "pygments_lexer": "ipython3",
   "version": "3.8.8"
  },
  "toc": {
   "base_numbering": 1,
   "nav_menu": {},
   "number_sections": true,
   "sideBar": true,
   "skip_h1_title": false,
   "title_cell": "Table of Contents",
   "title_sidebar": "Contents",
   "toc_cell": false,
   "toc_position": {},
   "toc_section_display": true,
   "toc_window_display": false
  },
  "varInspector": {
   "cols": {
    "lenName": 16,
    "lenType": 16,
    "lenVar": 40
   },
   "kernels_config": {
    "python": {
     "delete_cmd_postfix": "",
     "delete_cmd_prefix": "del ",
     "library": "var_list.py",
     "varRefreshCmd": "print(var_dic_list())"
    },
    "r": {
     "delete_cmd_postfix": ") ",
     "delete_cmd_prefix": "rm(",
     "library": "var_list.r",
     "varRefreshCmd": "cat(var_dic_list()) "
    }
   },
   "types_to_exclude": [
    "module",
    "function",
    "builtin_function_or_method",
    "instance",
    "_Feature"
   ],
   "window_display": false
  }
 },
 "nbformat": 4,
 "nbformat_minor": 5
}
