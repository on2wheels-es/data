{
 "cells": [
  {
   "cell_type": "markdown",
   "id": "ef652984",
   "metadata": {},
   "source": [
    "# Deleting ports with no routes"
   ]
  },
  {
   "cell_type": "markdown",
   "id": "76606095",
   "metadata": {},
   "source": [
    "After cleaning up our routes database, there's some ports that are missing routes (temporarily). We must delete them and clean up all dataframes so thta we can work with them in **MongoDB**."
   ]
  },
  {
   "cell_type": "markdown",
   "id": "d890d76c",
   "metadata": {},
   "source": [
    "## Importing files and exploration"
   ]
  },
  {
   "cell_type": "code",
   "execution_count": 1,
   "id": "58fc6f47",
   "metadata": {},
   "outputs": [],
   "source": [
    "import pandas as pd"
   ]
  },
  {
   "cell_type": "code",
   "execution_count": 4,
   "id": "dc912188",
   "metadata": {},
   "outputs": [],
   "source": [
    "ports = pd.read_csv('puertos_i.csv')"
   ]
  },
  {
   "cell_type": "code",
   "execution_count": 5,
   "id": "e35aeeb5",
   "metadata": {},
   "outputs": [
    {
     "data": {
      "text/html": [
       "<div>\n",
       "<style scoped>\n",
       "    .dataframe tbody tr th:only-of-type {\n",
       "        vertical-align: middle;\n",
       "    }\n",
       "\n",
       "    .dataframe tbody tr th {\n",
       "        vertical-align: top;\n",
       "    }\n",
       "\n",
       "    .dataframe thead th {\n",
       "        text-align: right;\n",
       "    }\n",
       "</style>\n",
       "<table border=\"1\" class=\"dataframe\">\n",
       "  <thead>\n",
       "    <tr style=\"text-align: right;\">\n",
       "      <th></th>\n",
       "      <th>ID</th>\n",
       "      <th>name</th>\n",
       "      <th>province</th>\n",
       "      <th>municipality</th>\n",
       "      <th>altitude</th>\n",
       "      <th>gradient</th>\n",
       "      <th>distance</th>\n",
       "      <th>mountain_slope</th>\n",
       "      <th>technical_difficulty</th>\n",
       "      <th>url</th>\n",
       "      <th>peak_coords</th>\n",
       "      <th>photo</th>\n",
       "    </tr>\n",
       "  </thead>\n",
       "  <tbody>\n",
       "    <tr>\n",
       "      <th>0</th>\n",
       "      <td>0</td>\n",
       "      <td>Angliru</td>\n",
       "      <td>Asturias</td>\n",
       "      <td>Santa Eulalia</td>\n",
       "      <td>1570</td>\n",
       "      <td>1423</td>\n",
       "      <td>18.0</td>\n",
       "      <td>7.0</td>\n",
       "      <td>528</td>\n",
       "      <td>https://www.altimetrias.net/aspbk/verPuerto.as...</td>\n",
       "      <td>[-5.94178,43.221596]</td>\n",
       "      <td>NaN</td>\n",
       "    </tr>\n",
       "    <tr>\n",
       "      <th>1</th>\n",
       "      <td>1</td>\n",
       "      <td>Gamoniteiro</td>\n",
       "      <td>Asturias</td>\n",
       "      <td>Pola-Cobertoria</td>\n",
       "      <td>1772</td>\n",
       "      <td>1465</td>\n",
       "      <td>15.0</td>\n",
       "      <td>9.0</td>\n",
       "      <td>492</td>\n",
       "      <td>https://www.altimetrias.net/aspbk/verPuerto.as...</td>\n",
       "      <td>[-5.923458,43.18786]</td>\n",
       "      <td>NaN</td>\n",
       "    </tr>\n",
       "    <tr>\n",
       "      <th>2</th>\n",
       "      <td>2</td>\n",
       "      <td>Peña Escrita</td>\n",
       "      <td>Granada</td>\n",
       "      <td>Torrecuevas</td>\n",
       "      <td>1200</td>\n",
       "      <td>1150</td>\n",
       "      <td>13.0</td>\n",
       "      <td>8.0</td>\n",
       "      <td>462</td>\n",
       "      <td>https://www.altimetrias.net/aspbk/verPuerto.as...</td>\n",
       "      <td>[-3.771034,36.818155]</td>\n",
       "      <td>NaN</td>\n",
       "    </tr>\n",
       "    <tr>\n",
       "      <th>3</th>\n",
       "      <td>3</td>\n",
       "      <td>Ancares</td>\n",
       "      <td>Lugo</td>\n",
       "      <td>Sª Morela-Balouta</td>\n",
       "      <td>1670</td>\n",
       "      <td>1355</td>\n",
       "      <td>36.0</td>\n",
       "      <td>3.0</td>\n",
       "      <td>427</td>\n",
       "      <td>https://www.altimetrias.net/aspbk/verPuerto.as...</td>\n",
       "      <td>[-6.818333,42.868532]</td>\n",
       "      <td>NaN</td>\n",
       "    </tr>\n",
       "    <tr>\n",
       "      <th>4</th>\n",
       "      <td>4</td>\n",
       "      <td>Pajares-Cuitu Negru</td>\n",
       "      <td>Asturias</td>\n",
       "      <td>Campomanes</td>\n",
       "      <td>1843</td>\n",
       "      <td>1466</td>\n",
       "      <td>25.0</td>\n",
       "      <td>5.0</td>\n",
       "      <td>394</td>\n",
       "      <td>https://www.altimetrias.net/aspbk/verPuerto.as...</td>\n",
       "      <td>[-5.788388,42.96824]</td>\n",
       "      <td>NaN</td>\n",
       "    </tr>\n",
       "  </tbody>\n",
       "</table>\n",
       "</div>"
      ],
      "text/plain": [
       "   ID                 name  province       municipality  altitude  gradient  \\\n",
       "0   0              Angliru  Asturias      Santa Eulalia      1570      1423   \n",
       "1   1          Gamoniteiro  Asturias    Pola-Cobertoria      1772      1465   \n",
       "2   2         Peña Escrita   Granada        Torrecuevas      1200      1150   \n",
       "3   3              Ancares      Lugo  Sª Morela-Balouta      1670      1355   \n",
       "4   4  Pajares-Cuitu Negru  Asturias         Campomanes      1843      1466   \n",
       "\n",
       "   distance  mountain_slope  technical_difficulty  \\\n",
       "0      18.0             7.0                   528   \n",
       "1      15.0             9.0                   492   \n",
       "2      13.0             8.0                   462   \n",
       "3      36.0             3.0                   427   \n",
       "4      25.0             5.0                   394   \n",
       "\n",
       "                                                 url            peak_coords  \\\n",
       "0  https://www.altimetrias.net/aspbk/verPuerto.as...   [-5.94178,43.221596]   \n",
       "1  https://www.altimetrias.net/aspbk/verPuerto.as...   [-5.923458,43.18786]   \n",
       "2  https://www.altimetrias.net/aspbk/verPuerto.as...  [-3.771034,36.818155]   \n",
       "3  https://www.altimetrias.net/aspbk/verPuerto.as...  [-6.818333,42.868532]   \n",
       "4  https://www.altimetrias.net/aspbk/verPuerto.as...   [-5.788388,42.96824]   \n",
       "\n",
       "   photo  \n",
       "0    NaN  \n",
       "1    NaN  \n",
       "2    NaN  \n",
       "3    NaN  \n",
       "4    NaN  "
      ]
     },
     "execution_count": 5,
     "metadata": {},
     "output_type": "execute_result"
    }
   ],
   "source": [
    "ports.head()"
   ]
  },
  {
   "cell_type": "code",
   "execution_count": 6,
   "id": "7dbcd801",
   "metadata": {},
   "outputs": [],
   "source": [
    "routes = pd.read_csv('routes_2307_598.csv')"
   ]
  },
  {
   "cell_type": "code",
   "execution_count": 7,
   "id": "f03b6167",
   "metadata": {},
   "outputs": [
    {
     "data": {
      "text/html": [
       "<div>\n",
       "<style scoped>\n",
       "    .dataframe tbody tr th:only-of-type {\n",
       "        vertical-align: middle;\n",
       "    }\n",
       "\n",
       "    .dataframe tbody tr th {\n",
       "        vertical-align: top;\n",
       "    }\n",
       "\n",
       "    .dataframe thead th {\n",
       "        text-align: right;\n",
       "    }\n",
       "</style>\n",
       "<table border=\"1\" class=\"dataframe\">\n",
       "  <thead>\n",
       "    <tr style=\"text-align: right;\">\n",
       "      <th></th>\n",
       "      <th>ID</th>\n",
       "      <th>name</th>\n",
       "      <th>ccaa</th>\n",
       "      <th>province</th>\n",
       "      <th>start</th>\n",
       "      <th>midpoint</th>\n",
       "      <th>trailrank</th>\n",
       "      <th>distance</th>\n",
       "      <th>gradient</th>\n",
       "      <th>min_alt</th>\n",
       "      <th>max_alt</th>\n",
       "      <th>municipality</th>\n",
       "      <th>mountain_passes_ids</th>\n",
       "      <th>municipalities_ids</th>\n",
       "      <th>difficulty_score</th>\n",
       "    </tr>\n",
       "  </thead>\n",
       "  <tbody>\n",
       "    <tr>\n",
       "      <th>0</th>\n",
       "      <td>923</td>\n",
       "      <td>Angliru por Oviedo y Lena.</td>\n",
       "      <td>NaN</td>\n",
       "      <td>NaN</td>\n",
       "      <td>[-6.101982,43.158859]</td>\n",
       "      <td>[-5.939921,43.235847]</td>\n",
       "      <td>67</td>\n",
       "      <td>124</td>\n",
       "      <td>3476</td>\n",
       "      <td>101</td>\n",
       "      <td>1566</td>\n",
       "      <td>NaN</td>\n",
       "      <td>[0]</td>\n",
       "      <td>[5039, 5027, 5020, 5067]</td>\n",
       "      <td>8</td>\n",
       "    </tr>\n",
       "    <tr>\n",
       "      <th>1</th>\n",
       "      <td>5611</td>\n",
       "      <td>Angliru y Gamoniteiro por Oviedo y Lena.</td>\n",
       "      <td>NaN</td>\n",
       "      <td>NaN</td>\n",
       "      <td>[-5.8297,43.155729]</td>\n",
       "      <td>[-5.929957,43.288199]</td>\n",
       "      <td>51</td>\n",
       "      <td>118</td>\n",
       "      <td>4234</td>\n",
       "      <td>102</td>\n",
       "      <td>1700</td>\n",
       "      <td>NaN</td>\n",
       "      <td>[0, 1, 84, 131]</td>\n",
       "      <td>[5039, 5027, 5067]</td>\n",
       "      <td>10</td>\n",
       "    </tr>\n",
       "    <tr>\n",
       "      <th>2</th>\n",
       "      <td>881</td>\n",
       "      <td>Ancares y Sierra De Morela por Cervantes y Ibias.</td>\n",
       "      <td>NaN</td>\n",
       "      <td>NaN</td>\n",
       "      <td>[-7.157974,42.852246]</td>\n",
       "      <td>[-6.844199,42.889535]</td>\n",
       "      <td>55</td>\n",
       "      <td>130</td>\n",
       "      <td>2861</td>\n",
       "      <td>289</td>\n",
       "      <td>1651</td>\n",
       "      <td>NaN</td>\n",
       "      <td>[3, 182, 1109]</td>\n",
       "      <td>[4245, 5022]</td>\n",
       "      <td>7</td>\n",
       "    </tr>\n",
       "    <tr>\n",
       "      <th>3</th>\n",
       "      <td>5618</td>\n",
       "      <td>Pajares-Cuitu Negru y La Cubilla por Lena.</td>\n",
       "      <td>NaN</td>\n",
       "      <td>NaN</td>\n",
       "      <td>[-5.806177,43.128166]</td>\n",
       "      <td>[-5.829091,43.083221]</td>\n",
       "      <td>42</td>\n",
       "      <td>121</td>\n",
       "      <td>2917</td>\n",
       "      <td>344</td>\n",
       "      <td>1824</td>\n",
       "      <td>NaN</td>\n",
       "      <td>[4, 51, 69, 438]</td>\n",
       "      <td>[5027]</td>\n",
       "      <td>7</td>\n",
       "    </tr>\n",
       "    <tr>\n",
       "      <th>4</th>\n",
       "      <td>3467</td>\n",
       "      <td>Puerto Camacho y Haza Del Lino por Dúrcal y Ór...</td>\n",
       "      <td>NaN</td>\n",
       "      <td>NaN</td>\n",
       "      <td>[-3.609443,37.156292]</td>\n",
       "      <td>[-3.275512,36.854694]</td>\n",
       "      <td>89</td>\n",
       "      <td>158</td>\n",
       "      <td>2450</td>\n",
       "      <td>242</td>\n",
       "      <td>1186</td>\n",
       "      <td>NaN</td>\n",
       "      <td>[5, 13]</td>\n",
       "      <td>[2747, 2806, 2818]</td>\n",
       "      <td>7</td>\n",
       "    </tr>\n",
       "  </tbody>\n",
       "</table>\n",
       "</div>"
      ],
      "text/plain": [
       "     ID                                               name  ccaa  province  \\\n",
       "0   923                         Angliru por Oviedo y Lena.   NaN       NaN   \n",
       "1  5611           Angliru y Gamoniteiro por Oviedo y Lena.   NaN       NaN   \n",
       "2   881  Ancares y Sierra De Morela por Cervantes y Ibias.   NaN       NaN   \n",
       "3  5618         Pajares-Cuitu Negru y La Cubilla por Lena.   NaN       NaN   \n",
       "4  3467  Puerto Camacho y Haza Del Lino por Dúrcal y Ór...   NaN       NaN   \n",
       "\n",
       "                   start               midpoint  trailrank  distance  \\\n",
       "0  [-6.101982,43.158859]  [-5.939921,43.235847]         67       124   \n",
       "1    [-5.8297,43.155729]  [-5.929957,43.288199]         51       118   \n",
       "2  [-7.157974,42.852246]  [-6.844199,42.889535]         55       130   \n",
       "3  [-5.806177,43.128166]  [-5.829091,43.083221]         42       121   \n",
       "4  [-3.609443,37.156292]  [-3.275512,36.854694]         89       158   \n",
       "\n",
       "   gradient  min_alt  max_alt  municipality mountain_passes_ids  \\\n",
       "0      3476      101     1566           NaN                 [0]   \n",
       "1      4234      102     1700           NaN     [0, 1, 84, 131]   \n",
       "2      2861      289     1651           NaN      [3, 182, 1109]   \n",
       "3      2917      344     1824           NaN    [4, 51, 69, 438]   \n",
       "4      2450      242     1186           NaN             [5, 13]   \n",
       "\n",
       "         municipalities_ids  difficulty_score  \n",
       "0  [5039, 5027, 5020, 5067]                 8  \n",
       "1        [5039, 5027, 5067]                10  \n",
       "2              [4245, 5022]                 7  \n",
       "3                    [5027]                 7  \n",
       "4        [2747, 2806, 2818]                 7  "
      ]
     },
     "execution_count": 7,
     "metadata": {},
     "output_type": "execute_result"
    }
   ],
   "source": [
    "routes.head()"
   ]
  },
  {
   "cell_type": "markdown",
   "id": "ce4a4b6f",
   "metadata": {},
   "source": [
    "## Seeking out missing ports"
   ]
  },
  {
   "cell_type": "markdown",
   "id": "2c3da30b",
   "metadata": {},
   "source": [
    "Let's compare a list of all port IDs with the ones present in the *routes* dataframe."
   ]
  },
  {
   "cell_type": "code",
   "execution_count": 8,
   "id": "df1ddd40",
   "metadata": {},
   "outputs": [],
   "source": [
    "#Creating a list of all ports.\n",
    "\n",
    "ports_list = ports['ID'].tolist()"
   ]
  },
  {
   "cell_type": "code",
   "execution_count": 12,
   "id": "2553c605",
   "metadata": {},
   "outputs": [
    {
     "data": {
      "text/plain": [
       "1123"
      ]
     },
     "execution_count": 12,
     "metadata": {},
     "output_type": "execute_result"
    }
   ],
   "source": [
    "#Let's check how many of them are there.\n",
    "\n",
    "len(ports_list)"
   ]
  },
  {
   "cell_type": "code",
   "execution_count": 9,
   "id": "7605d32b",
   "metadata": {},
   "outputs": [],
   "source": [
    "#Creating a list of all individual ports present in our routes.\n",
    "\n",
    "routes_ports = []\n",
    "\n",
    "for i in range(len(routes)):\n",
    "    for n in eval(routes['mountain_passes_ids'].iloc[i]):\n",
    "        if n not in routes_ports:\n",
    "            routes_ports.append(n)"
   ]
  },
  {
   "cell_type": "code",
   "execution_count": 11,
   "id": "9a81132e",
   "metadata": {},
   "outputs": [
    {
     "data": {
      "text/plain": [
       "643"
      ]
     },
     "execution_count": 11,
     "metadata": {},
     "output_type": "execute_result"
    }
   ],
   "source": [
    "#Let's check how many ports we have in our routes dataframe.\n",
    "\n",
    "len(routes_ports)"
   ]
  },
  {
   "cell_type": "code",
   "execution_count": 13,
   "id": "4bbf9daf",
   "metadata": {},
   "outputs": [],
   "source": [
    "#Now it's time to create a new list with the missing ones so that we can filter them out.\n",
    "\n",
    "missing_ports = []\n",
    "\n",
    "for i in ports_list:\n",
    "    if i not in routes_ports:\n",
    "        missing_ports.append(i)"
   ]
  },
  {
   "cell_type": "code",
   "execution_count": 15,
   "id": "dda558fc",
   "metadata": {},
   "outputs": [
    {
     "data": {
      "text/plain": [
       "480"
      ]
     },
     "execution_count": 15,
     "metadata": {},
     "output_type": "execute_result"
    }
   ],
   "source": [
    "len(missing_ports)"
   ]
  },
  {
   "cell_type": "markdown",
   "id": "fabb840b",
   "metadata": {},
   "source": [
    "## Dropping our missing ports"
   ]
  },
  {
   "cell_type": "code",
   "execution_count": 18,
   "id": "becc71ca",
   "metadata": {},
   "outputs": [],
   "source": [
    "#Since port ID matches the index position, we can simply drop them like so.\n",
    "\n",
    "for i in missing_ports:\n",
    "    ports = ports[ports['ID'] != i]"
   ]
  },
  {
   "cell_type": "code",
   "execution_count": 23,
   "id": "79be51b6",
   "metadata": {},
   "outputs": [
    {
     "data": {
      "text/html": [
       "<div>\n",
       "<style scoped>\n",
       "    .dataframe tbody tr th:only-of-type {\n",
       "        vertical-align: middle;\n",
       "    }\n",
       "\n",
       "    .dataframe tbody tr th {\n",
       "        vertical-align: top;\n",
       "    }\n",
       "\n",
       "    .dataframe thead th {\n",
       "        text-align: right;\n",
       "    }\n",
       "</style>\n",
       "<table border=\"1\" class=\"dataframe\">\n",
       "  <thead>\n",
       "    <tr style=\"text-align: right;\">\n",
       "      <th></th>\n",
       "      <th>ID</th>\n",
       "      <th>name</th>\n",
       "      <th>province</th>\n",
       "      <th>municipality</th>\n",
       "      <th>altitude</th>\n",
       "      <th>gradient</th>\n",
       "      <th>distance</th>\n",
       "      <th>mountain_slope</th>\n",
       "      <th>technical_difficulty</th>\n",
       "      <th>url</th>\n",
       "      <th>peak_coords</th>\n",
       "      <th>photo</th>\n",
       "    </tr>\n",
       "  </thead>\n",
       "  <tbody>\n",
       "    <tr>\n",
       "      <th>0</th>\n",
       "      <td>0</td>\n",
       "      <td>Angliru</td>\n",
       "      <td>Asturias</td>\n",
       "      <td>Santa Eulalia</td>\n",
       "      <td>1570</td>\n",
       "      <td>1423</td>\n",
       "      <td>18.0</td>\n",
       "      <td>7.0</td>\n",
       "      <td>528</td>\n",
       "      <td>https://www.altimetrias.net/aspbk/verPuerto.as...</td>\n",
       "      <td>[-5.94178,43.221596]</td>\n",
       "      <td>NaN</td>\n",
       "    </tr>\n",
       "    <tr>\n",
       "      <th>1</th>\n",
       "      <td>1</td>\n",
       "      <td>Gamoniteiro</td>\n",
       "      <td>Asturias</td>\n",
       "      <td>Pola-Cobertoria</td>\n",
       "      <td>1772</td>\n",
       "      <td>1465</td>\n",
       "      <td>15.0</td>\n",
       "      <td>9.0</td>\n",
       "      <td>492</td>\n",
       "      <td>https://www.altimetrias.net/aspbk/verPuerto.as...</td>\n",
       "      <td>[-5.923458,43.18786]</td>\n",
       "      <td>NaN</td>\n",
       "    </tr>\n",
       "    <tr>\n",
       "      <th>3</th>\n",
       "      <td>3</td>\n",
       "      <td>Ancares</td>\n",
       "      <td>Lugo</td>\n",
       "      <td>Sª Morela-Balouta</td>\n",
       "      <td>1670</td>\n",
       "      <td>1355</td>\n",
       "      <td>36.0</td>\n",
       "      <td>3.0</td>\n",
       "      <td>427</td>\n",
       "      <td>https://www.altimetrias.net/aspbk/verPuerto.as...</td>\n",
       "      <td>[-6.818333,42.868532]</td>\n",
       "      <td>NaN</td>\n",
       "    </tr>\n",
       "    <tr>\n",
       "      <th>4</th>\n",
       "      <td>4</td>\n",
       "      <td>Pajares-Cuitu Negru</td>\n",
       "      <td>Asturias</td>\n",
       "      <td>Campomanes</td>\n",
       "      <td>1843</td>\n",
       "      <td>1466</td>\n",
       "      <td>25.0</td>\n",
       "      <td>5.0</td>\n",
       "      <td>394</td>\n",
       "      <td>https://www.altimetrias.net/aspbk/verPuerto.as...</td>\n",
       "      <td>[-5.788388,42.96824]</td>\n",
       "      <td>NaN</td>\n",
       "    </tr>\n",
       "    <tr>\n",
       "      <th>5</th>\n",
       "      <td>5</td>\n",
       "      <td>Puerto Camacho</td>\n",
       "      <td>Granada</td>\n",
       "      <td>Órgiva-Los Tablones</td>\n",
       "      <td>1873</td>\n",
       "      <td>1551</td>\n",
       "      <td>20.0</td>\n",
       "      <td>7.0</td>\n",
       "      <td>384</td>\n",
       "      <td>https://www.altimetrias.net/aspbk/verPuerto.as...</td>\n",
       "      <td>[-3.3678194,36.8412261]</td>\n",
       "      <td>NaN</td>\n",
       "    </tr>\n",
       "  </tbody>\n",
       "</table>\n",
       "</div>"
      ],
      "text/plain": [
       "   ID                 name  province         municipality  altitude  gradient  \\\n",
       "0   0              Angliru  Asturias        Santa Eulalia      1570      1423   \n",
       "1   1          Gamoniteiro  Asturias      Pola-Cobertoria      1772      1465   \n",
       "3   3              Ancares      Lugo    Sª Morela-Balouta      1670      1355   \n",
       "4   4  Pajares-Cuitu Negru  Asturias           Campomanes      1843      1466   \n",
       "5   5       Puerto Camacho   Granada  Órgiva-Los Tablones      1873      1551   \n",
       "\n",
       "   distance  mountain_slope  technical_difficulty  \\\n",
       "0      18.0             7.0                   528   \n",
       "1      15.0             9.0                   492   \n",
       "3      36.0             3.0                   427   \n",
       "4      25.0             5.0                   394   \n",
       "5      20.0             7.0                   384   \n",
       "\n",
       "                                                 url              peak_coords  \\\n",
       "0  https://www.altimetrias.net/aspbk/verPuerto.as...     [-5.94178,43.221596]   \n",
       "1  https://www.altimetrias.net/aspbk/verPuerto.as...     [-5.923458,43.18786]   \n",
       "3  https://www.altimetrias.net/aspbk/verPuerto.as...    [-6.818333,42.868532]   \n",
       "4  https://www.altimetrias.net/aspbk/verPuerto.as...     [-5.788388,42.96824]   \n",
       "5  https://www.altimetrias.net/aspbk/verPuerto.as...  [-3.3678194,36.8412261]   \n",
       "\n",
       "   photo  \n",
       "0    NaN  \n",
       "1    NaN  \n",
       "3    NaN  \n",
       "4    NaN  \n",
       "5    NaN  "
      ]
     },
     "execution_count": 23,
     "metadata": {},
     "output_type": "execute_result"
    }
   ],
   "source": [
    "#Checking our results.\n",
    "\n",
    "ports.head()"
   ]
  },
  {
   "cell_type": "code",
   "execution_count": 26,
   "id": "b30ee835",
   "metadata": {},
   "outputs": [],
   "source": [
    "#Finally, reindexing and exporting our dataframe.\n",
    "\n",
    "ports = ports.reset_index(drop=True)\n",
    "ports.to_csv('ports_643.csv', index=False)"
   ]
  }
 ],
 "metadata": {
  "kernelspec": {
   "display_name": "Python 3",
   "language": "python",
   "name": "python3"
  },
  "language_info": {
   "codemirror_mode": {
    "name": "ipython",
    "version": 3
   },
   "file_extension": ".py",
   "mimetype": "text/x-python",
   "name": "python",
   "nbconvert_exporter": "python",
   "pygments_lexer": "ipython3",
   "version": "3.8.8"
  },
  "toc": {
   "base_numbering": 1,
   "nav_menu": {},
   "number_sections": true,
   "sideBar": true,
   "skip_h1_title": false,
   "title_cell": "Table of Contents",
   "title_sidebar": "Contents",
   "toc_cell": false,
   "toc_position": {},
   "toc_section_display": true,
   "toc_window_display": false
  },
  "varInspector": {
   "cols": {
    "lenName": 16,
    "lenType": 16,
    "lenVar": 40
   },
   "kernels_config": {
    "python": {
     "delete_cmd_postfix": "",
     "delete_cmd_prefix": "del ",
     "library": "var_list.py",
     "varRefreshCmd": "print(var_dic_list())"
    },
    "r": {
     "delete_cmd_postfix": ") ",
     "delete_cmd_prefix": "rm(",
     "library": "var_list.r",
     "varRefreshCmd": "cat(var_dic_list()) "
    }
   },
   "types_to_exclude": [
    "module",
    "function",
    "builtin_function_or_method",
    "instance",
    "_Feature"
   ],
   "window_display": false
  }
 },
 "nbformat": 4,
 "nbformat_minor": 5
}
