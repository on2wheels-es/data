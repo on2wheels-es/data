{
 "cells": [
  {
   "cell_type": "markdown",
   "id": "6116a738",
   "metadata": {},
   "source": [
    "# Downloading the GPX files of all routes"
   ]
  },
  {
   "cell_type": "markdown",
   "id": "fbeef3ad",
   "metadata": {},
   "source": [
    "We can't download the gpx files for every route directly without triggering recaptcha, so we'll have to do it through the app since it has no download limits. \n",
    "\n",
    "Our chosen option was **Bluestack's** Android emulation because we can easily create a macro that will download all the routes in the *favorites* section of our profile.\n",
    "\n",
    "We can program a simple **Selenium** function to add the necessary routes to *favorites* in batches of 1000, since that's the maximum amount that can be stored at any given time. We'll then proceed to download them via **Bluestacks**. Rinse and repeat."
   ]
  },
  {
   "cell_type": "markdown",
   "id": "7cafb0d6",
   "metadata": {},
   "source": [
    "## Creating a function to mark our routes as *favs*"
   ]
  },
  {
   "cell_type": "code",
   "execution_count": 2,
   "id": "a2cf8829",
   "metadata": {},
   "outputs": [],
   "source": [
    "#Let's begin by importing our libraries.\n",
    "\n",
    "import time\n",
    "import pandas as pd\n",
    "from selenium import webdriver\n",
    "from os import path\n",
    "import re"
   ]
  },
  {
   "cell_type": "code",
   "execution_count": 2,
   "id": "b33ada42",
   "metadata": {},
   "outputs": [],
   "source": [
    "#Starting our webdriver, in this case I'm using Chrome.\n",
    "\n",
    "driver = webdriver.Chrome()\n",
    "driver.get('https://es.wikiloc.com/wikiloc/start.do') #Loading the login page."
   ]
  },
  {
   "cell_type": "markdown",
   "id": "de7dc0ac",
   "metadata": {},
   "source": [
    "Since we can't automate the login procedure we'll have to manually introduce our username and password. After logging in, we can proceed."
   ]
  },
  {
   "cell_type": "code",
   "execution_count": 74,
   "id": "4c434fc1",
   "metadata": {},
   "outputs": [],
   "source": [
    "#Defining our main function. Remember that it will only work if you're logged in.\n",
    "\n",
    "t = 0.3 #This will set the wait between actions. If you have a good connection you can keep it between 0.3-0.5. \n",
    "        #Some trial and error might be necessary.\n",
    "\n",
    "def fav(url_list):\n",
    "    start = time.time() #Starting a counter to time our code.\n",
    "    for i in url_list: #url_list will be the list of the route's urls (max 1000 and no duplicates, VERY important).\n",
    "        try:\n",
    "            driver.get(i) #Accessing the url.\n",
    "            time.sleep(t) \n",
    "            driver.find_element_by_xpath('//*[@id=\"container\"]/a').click() #Clicking on the 'Add to favorites' item.\n",
    "            time.sleep(t)\n",
    "            driver.find_element_by_xpath('//*[@id=\"container\"]/div/div/div/div[3]/div[1]').click() #Marking the route as fav.\n",
    "            time.sleep(t)\n",
    "        except:\n",
    "            time.sleep(1) \n",
    "            pass\n",
    "    stop = time.time() #Stopping our timer.\n",
    "    duration = (stop - start) / 60 #Calculating the elapsed minutes.\n",
    "    print(len(url_list), 'favs added in', duration, 'minutes.')"
   ]
  },
  {
   "cell_type": "markdown",
   "id": "fd3568db",
   "metadata": {},
   "source": [
    "In our case we'll be using the url list in our dataframe of routes."
   ]
  },
  {
   "cell_type": "code",
   "execution_count": 3,
   "id": "9706b7b0",
   "metadata": {},
   "outputs": [],
   "source": [
    "#Importing the dataframe with all routes.\n",
    "\n",
    "df = pd.read_csv('df_routes_final.csv')"
   ]
  },
  {
   "cell_type": "code",
   "execution_count": 5,
   "id": "45ad1310",
   "metadata": {},
   "outputs": [
    {
     "data": {
      "text/html": [
       "<div>\n",
       "<style scoped>\n",
       "    .dataframe tbody tr th:only-of-type {\n",
       "        vertical-align: middle;\n",
       "    }\n",
       "\n",
       "    .dataframe tbody tr th {\n",
       "        vertical-align: top;\n",
       "    }\n",
       "\n",
       "    .dataframe thead th {\n",
       "        text-align: right;\n",
       "    }\n",
       "</style>\n",
       "<table border=\"1\" class=\"dataframe\">\n",
       "  <thead>\n",
       "    <tr style=\"text-align: right;\">\n",
       "      <th></th>\n",
       "      <th>ubicacion</th>\n",
       "      <th>nombre</th>\n",
       "      <th>trailrank</th>\n",
       "      <th>distancia</th>\n",
       "      <th>desnivel</th>\n",
       "      <th>dificultad</th>\n",
       "      <th>url</th>\n",
       "      <th>photo1</th>\n",
       "      <th>photo2</th>\n",
       "      <th>photo3</th>\n",
       "    </tr>\n",
       "  </thead>\n",
       "  <tbody>\n",
       "    <tr>\n",
       "      <th>0</th>\n",
       "      <td>Pico Veleta</td>\n",
       "      <td>Día 1/2 - Sierra Nevada - Granada - Pico Veleta</td>\n",
       "      <td>64</td>\n",
       "      <td>108,78 km</td>\n",
       "      <td>2.914 m</td>\n",
       "      <td>Moderado</td>\n",
       "      <td>https://es.wikiloc.com/rutas-ciclismo/dia-1-2-...</td>\n",
       "      <td>https://es.wikiloc.com/rutas-ciclismo/dia-1-2-...</td>\n",
       "      <td>https://es.wikiloc.com/rutas-ciclismo/dia-1-2-...</td>\n",
       "      <td>https://es.wikiloc.com/rutas-ciclismo/dia-1-2-...</td>\n",
       "    </tr>\n",
       "    <tr>\n",
       "      <th>1</th>\n",
       "      <td>Pico Veleta</td>\n",
       "      <td>Pinos Genil. Güejar Sierra. Hazas Llanas. Prad...</td>\n",
       "      <td>54</td>\n",
       "      <td>83,61 km</td>\n",
       "      <td>2.563 m</td>\n",
       "      <td>Muy difícil</td>\n",
       "      <td>https://es.wikiloc.com/rutas-ciclismo/pinos-ge...</td>\n",
       "      <td>https://es.wikiloc.com/rutas-ciclismo/pinos-ge...</td>\n",
       "      <td>https://es.wikiloc.com/rutas-ciclismo/pinos-ge...</td>\n",
       "      <td>https://es.wikiloc.com/rutas-ciclismo/pinos-ge...</td>\n",
       "    </tr>\n",
       "    <tr>\n",
       "      <th>2</th>\n",
       "      <td>Pico Veleta</td>\n",
       "      <td>granada - pico veleta</td>\n",
       "      <td>41</td>\n",
       "      <td>85,89 km</td>\n",
       "      <td>2.785 m</td>\n",
       "      <td>Moderado</td>\n",
       "      <td>https://es.wikiloc.com/rutas-ciclismo/granada-...</td>\n",
       "      <td>https://es.wikiloc.com/rutas-ciclismo/granada-...</td>\n",
       "      <td>https://es.wikiloc.com/rutas-ciclismo/granada-...</td>\n",
       "      <td>https://es.wikiloc.com/rutas-ciclismo/granada-...</td>\n",
       "    </tr>\n",
       "    <tr>\n",
       "      <th>3</th>\n",
       "      <td>Pico Veleta</td>\n",
       "      <td>Subida al pico veleta y al radiotelescospio de...</td>\n",
       "      <td>34</td>\n",
       "      <td>32,42 km</td>\n",
       "      <td>1.199 m</td>\n",
       "      <td>Muy difícil</td>\n",
       "      <td>https://es.wikiloc.com/rutas-ciclismo/subida-a...</td>\n",
       "      <td>https://es.wikiloc.com/rutas-ciclismo/subida-a...</td>\n",
       "      <td>https://es.wikiloc.com/rutas-ciclismo/subida-a...</td>\n",
       "      <td>https://es.wikiloc.com/rutas-ciclismo/subida-a...</td>\n",
       "    </tr>\n",
       "    <tr>\n",
       "      <th>4</th>\n",
       "      <td>Pico Veleta</td>\n",
       "      <td>Pico Veleta por el Monachil-el Purche-Sierra N...</td>\n",
       "      <td>32</td>\n",
       "      <td>101,77 km</td>\n",
       "      <td>3.234 m</td>\n",
       "      <td>Difícil</td>\n",
       "      <td>https://es.wikiloc.com/rutas-ciclismo/pico-vel...</td>\n",
       "      <td>https://es.wikiloc.com/rutas-ciclismo/pico-vel...</td>\n",
       "      <td>https://es.wikiloc.com/rutas-ciclismo/pico-vel...</td>\n",
       "      <td>https://es.wikiloc.com/rutas-ciclismo/pico-vel...</td>\n",
       "    </tr>\n",
       "  </tbody>\n",
       "</table>\n",
       "</div>"
      ],
      "text/plain": [
       "     ubicacion                                             nombre  trailrank  \\\n",
       "0  Pico Veleta    Día 1/2 - Sierra Nevada - Granada - Pico Veleta         64   \n",
       "1  Pico Veleta  Pinos Genil. Güejar Sierra. Hazas Llanas. Prad...         54   \n",
       "2  Pico Veleta                              granada - pico veleta         41   \n",
       "3  Pico Veleta  Subida al pico veleta y al radiotelescospio de...         34   \n",
       "4  Pico Veleta  Pico Veleta por el Monachil-el Purche-Sierra N...         32   \n",
       "\n",
       "   distancia desnivel   dificultad  \\\n",
       "0  108,78 km  2.914 m     Moderado   \n",
       "1   83,61 km  2.563 m  Muy difícil   \n",
       "2   85,89 km  2.785 m     Moderado   \n",
       "3   32,42 km  1.199 m  Muy difícil   \n",
       "4  101,77 km  3.234 m      Difícil   \n",
       "\n",
       "                                                 url  \\\n",
       "0  https://es.wikiloc.com/rutas-ciclismo/dia-1-2-...   \n",
       "1  https://es.wikiloc.com/rutas-ciclismo/pinos-ge...   \n",
       "2  https://es.wikiloc.com/rutas-ciclismo/granada-...   \n",
       "3  https://es.wikiloc.com/rutas-ciclismo/subida-a...   \n",
       "4  https://es.wikiloc.com/rutas-ciclismo/pico-vel...   \n",
       "\n",
       "                                              photo1  \\\n",
       "0  https://es.wikiloc.com/rutas-ciclismo/dia-1-2-...   \n",
       "1  https://es.wikiloc.com/rutas-ciclismo/pinos-ge...   \n",
       "2  https://es.wikiloc.com/rutas-ciclismo/granada-...   \n",
       "3  https://es.wikiloc.com/rutas-ciclismo/subida-a...   \n",
       "4  https://es.wikiloc.com/rutas-ciclismo/pico-vel...   \n",
       "\n",
       "                                              photo2  \\\n",
       "0  https://es.wikiloc.com/rutas-ciclismo/dia-1-2-...   \n",
       "1  https://es.wikiloc.com/rutas-ciclismo/pinos-ge...   \n",
       "2  https://es.wikiloc.com/rutas-ciclismo/granada-...   \n",
       "3  https://es.wikiloc.com/rutas-ciclismo/subida-a...   \n",
       "4  https://es.wikiloc.com/rutas-ciclismo/pico-vel...   \n",
       "\n",
       "                                              photo3  \n",
       "0  https://es.wikiloc.com/rutas-ciclismo/dia-1-2-...  \n",
       "1  https://es.wikiloc.com/rutas-ciclismo/pinos-ge...  \n",
       "2  https://es.wikiloc.com/rutas-ciclismo/granada-...  \n",
       "3  https://es.wikiloc.com/rutas-ciclismo/subida-a...  \n",
       "4  https://es.wikiloc.com/rutas-ciclismo/pico-vel...  "
      ]
     },
     "execution_count": 5,
     "metadata": {},
     "output_type": "execute_result"
    }
   ],
   "source": [
    "df.head()"
   ]
  },
  {
   "cell_type": "code",
   "execution_count": null,
   "id": "ab533286",
   "metadata": {},
   "outputs": [],
   "source": [
    "#Making a list of all our urls.\n",
    "\n",
    "url = df['url'].tolist()"
   ]
  },
  {
   "cell_type": "code",
   "execution_count": null,
   "id": "563aa9f5",
   "metadata": {},
   "outputs": [],
   "source": [
    "#Getting rid of duplicates, we don't want to download routes twice.\n",
    "\n",
    "url_list = list(dict.fromkeys(url))"
   ]
  },
  {
   "cell_type": "code",
   "execution_count": 7,
   "id": "344cbcdb",
   "metadata": {},
   "outputs": [
    {
     "name": "stdout",
     "output_type": "stream",
     "text": [
      "1000 favs added in 27.659632444381714 minutes.\n"
     ]
    }
   ],
   "source": [
    "#Testing the function.\n",
    "\n",
    "fav(url_list[:1000])"
   ]
  },
  {
   "cell_type": "markdown",
   "id": "972df8ee",
   "metadata": {},
   "source": [
    "# Using our function and Bluestacks to download all gpx files"
   ]
  },
  {
   "cell_type": "markdown",
   "id": "6d130d7e",
   "metadata": {},
   "source": [
    "Now that we have a function to mark our routes as favorites we will set up **Bluestacks** (an Android emulator) to download them. Those are the steps needed to accomplish it:\n",
    "\n",
    "    1. Download and install the latest version of Bluestacks.\n",
    "    2. Start up the emulator, go to the Play Store and download Wikiloc and Google Drive. \n",
    "    3. Sign into both apps.\n",
    "    4. Set the display resolution to 1600 by 900.\n",
    "    5. If needed, move the Wikiloc app icon to the position shown in the screenshot.\n",
    "    6. Go to *Macros* and import the macro *route_downloader.json*\n",
    "    7. Restart the emulator and play the macro until all routes have been downloaded.\n",
    "\n",
    "\n",
    "\n",
    "What does the macro do?\n",
    "\n",
    "It will open **Wikiloc**, go to favorites, click on the first route, download the gpx file to your **Google Drive** and remove it from your favorites. It will download 4 more files before closing the app and opening it again. This must be done in order to clean the cache, otherwise the app will slow down until further downloads are not possible (and it happens quite soon).\n",
    "Every 4 minutes **Bluestacks** will restart and play the macro automatically, this is also done to keep the macro running in the event of a crash, which tends to happen quite often.\n",
    "\n",
    "\n",
    "Since we can only add (and download) 1000 files at a time, ideally you will want to set up a timer between instances of the *fav* function, so that **Bluestacks** has enough time to download them. \n",
    "In my case 1000 routes took about 19500 seconds to download, so my setup was as follows:"
   ]
  },
  {
   "cell_type": "code",
   "execution_count": null,
   "id": "826ca08f",
   "metadata": {},
   "outputs": [],
   "source": [
    "#Setting up the function to download multiple batches of routes. First of all we run Bluestacks with the aforementioned macro.\n",
    "\n",
    "fav(url_list[:1000]) #Marking the first 1000 routes.\n",
    "time.sleep(20000) #Waiting for the routes to download.\n",
    "fav(url_list[1000:2000]) #Marking the next batch.\n",
    "time.sleep(20000) \n",
    "fav(url_list[2000:3000])\n",
    "\n",
    "#Add as many blocks as needed."
   ]
  },
  {
   "cell_type": "markdown",
   "id": "db372c32",
   "metadata": {},
   "source": [
    "# Checking for missing routes"
   ]
  },
  {
   "cell_type": "markdown",
   "id": "6fc013d6",
   "metadata": {},
   "source": [
    "**Bluestacks** and the **Wikiloc** app are far from perfect (and so is our code), so we need a way to check for routes we've failed to download.\n",
    "\n",
    "This isn't as straightforward as it might seem, since the names of the gpx tracks won't match the route names perfectly. They are often cropped and a lot of times special characters or spaces might be deleted or changed (for example, a dot for a comma).\n",
    "\n",
    "To be able to match our gpx files with our dataframe we will need to clean up and shorten their names so that they end up being exactly the same. Let's do it."
   ]
  },
  {
   "cell_type": "code",
   "execution_count": 4,
   "id": "9970ab93",
   "metadata": {},
   "outputs": [],
   "source": [
    "#Defining a function that will strip a string of special characters and spaces, leaving only the first 20 alphanumeric chars.\n",
    "\n",
    "def stripper(name):\n",
    "    return re.sub(r'\\W+', '', name)[:20]"
   ]
  },
  {
   "cell_type": "code",
   "execution_count": 5,
   "id": "b3e3dbe5",
   "metadata": {},
   "outputs": [],
   "source": [
    "#Creating a new column with every route name stripped with our function.\n",
    "\n",
    "df['alpha_name'] = df['nombre'].apply(stripper)"
   ]
  },
  {
   "cell_type": "code",
   "execution_count": 6,
   "id": "46b216b4",
   "metadata": {},
   "outputs": [],
   "source": [
    "df.to_csv('df.csv', index=False)"
   ]
  },
  {
   "cell_type": "code",
   "execution_count": 33,
   "id": "4016c933",
   "metadata": {
    "scrolled": true
   },
   "outputs": [
    {
     "data": {
      "text/html": [
       "<div>\n",
       "<style scoped>\n",
       "    .dataframe tbody tr th:only-of-type {\n",
       "        vertical-align: middle;\n",
       "    }\n",
       "\n",
       "    .dataframe tbody tr th {\n",
       "        vertical-align: top;\n",
       "    }\n",
       "\n",
       "    .dataframe thead th {\n",
       "        text-align: right;\n",
       "    }\n",
       "</style>\n",
       "<table border=\"1\" class=\"dataframe\">\n",
       "  <thead>\n",
       "    <tr style=\"text-align: right;\">\n",
       "      <th></th>\n",
       "      <th>ubicacion</th>\n",
       "      <th>nombre</th>\n",
       "      <th>trailrank</th>\n",
       "      <th>distancia</th>\n",
       "      <th>desnivel</th>\n",
       "      <th>dificultad</th>\n",
       "      <th>url</th>\n",
       "      <th>photo1</th>\n",
       "      <th>photo2</th>\n",
       "      <th>photo3</th>\n",
       "      <th>alpha_name</th>\n",
       "    </tr>\n",
       "  </thead>\n",
       "  <tbody>\n",
       "    <tr>\n",
       "      <th>0</th>\n",
       "      <td>Pico Veleta</td>\n",
       "      <td>Día 1/2 - Sierra Nevada - Granada - Pico Veleta</td>\n",
       "      <td>64</td>\n",
       "      <td>108,78 km</td>\n",
       "      <td>2.914 m</td>\n",
       "      <td>Moderado</td>\n",
       "      <td>https://es.wikiloc.com/rutas-ciclismo/dia-1-2-...</td>\n",
       "      <td>https://es.wikiloc.com/rutas-ciclismo/dia-1-2-...</td>\n",
       "      <td>https://es.wikiloc.com/rutas-ciclismo/dia-1-2-...</td>\n",
       "      <td>https://es.wikiloc.com/rutas-ciclismo/dia-1-2-...</td>\n",
       "      <td>Día12SierraNevadaGra</td>\n",
       "    </tr>\n",
       "    <tr>\n",
       "      <th>1</th>\n",
       "      <td>Pico Veleta</td>\n",
       "      <td>Pinos Genil. Güejar Sierra. Hazas Llanas. Prad...</td>\n",
       "      <td>54</td>\n",
       "      <td>83,61 km</td>\n",
       "      <td>2.563 m</td>\n",
       "      <td>Muy difícil</td>\n",
       "      <td>https://es.wikiloc.com/rutas-ciclismo/pinos-ge...</td>\n",
       "      <td>https://es.wikiloc.com/rutas-ciclismo/pinos-ge...</td>\n",
       "      <td>https://es.wikiloc.com/rutas-ciclismo/pinos-ge...</td>\n",
       "      <td>https://es.wikiloc.com/rutas-ciclismo/pinos-ge...</td>\n",
       "      <td>PinosGenilGüejarSier</td>\n",
       "    </tr>\n",
       "    <tr>\n",
       "      <th>2</th>\n",
       "      <td>Pico Veleta</td>\n",
       "      <td>granada - pico veleta</td>\n",
       "      <td>41</td>\n",
       "      <td>85,89 km</td>\n",
       "      <td>2.785 m</td>\n",
       "      <td>Moderado</td>\n",
       "      <td>https://es.wikiloc.com/rutas-ciclismo/granada-...</td>\n",
       "      <td>https://es.wikiloc.com/rutas-ciclismo/granada-...</td>\n",
       "      <td>https://es.wikiloc.com/rutas-ciclismo/granada-...</td>\n",
       "      <td>https://es.wikiloc.com/rutas-ciclismo/granada-...</td>\n",
       "      <td>granadapicoveleta</td>\n",
       "    </tr>\n",
       "    <tr>\n",
       "      <th>3</th>\n",
       "      <td>Pico Veleta</td>\n",
       "      <td>Subida al pico veleta y al radiotelescospio de...</td>\n",
       "      <td>34</td>\n",
       "      <td>32,42 km</td>\n",
       "      <td>1.199 m</td>\n",
       "      <td>Muy difícil</td>\n",
       "      <td>https://es.wikiloc.com/rutas-ciclismo/subida-a...</td>\n",
       "      <td>https://es.wikiloc.com/rutas-ciclismo/subida-a...</td>\n",
       "      <td>https://es.wikiloc.com/rutas-ciclismo/subida-a...</td>\n",
       "      <td>https://es.wikiloc.com/rutas-ciclismo/subida-a...</td>\n",
       "      <td>Subidaalpicoveletaya</td>\n",
       "    </tr>\n",
       "    <tr>\n",
       "      <th>4</th>\n",
       "      <td>Pico Veleta</td>\n",
       "      <td>Pico Veleta por el Monachil-el Purche-Sierra N...</td>\n",
       "      <td>32</td>\n",
       "      <td>101,77 km</td>\n",
       "      <td>3.234 m</td>\n",
       "      <td>Difícil</td>\n",
       "      <td>https://es.wikiloc.com/rutas-ciclismo/pico-vel...</td>\n",
       "      <td>https://es.wikiloc.com/rutas-ciclismo/pico-vel...</td>\n",
       "      <td>https://es.wikiloc.com/rutas-ciclismo/pico-vel...</td>\n",
       "      <td>https://es.wikiloc.com/rutas-ciclismo/pico-vel...</td>\n",
       "      <td>PicoVeletaporelMonac</td>\n",
       "    </tr>\n",
       "  </tbody>\n",
       "</table>\n",
       "</div>"
      ],
      "text/plain": [
       "     ubicacion                                             nombre  trailrank  \\\n",
       "0  Pico Veleta    Día 1/2 - Sierra Nevada - Granada - Pico Veleta         64   \n",
       "1  Pico Veleta  Pinos Genil. Güejar Sierra. Hazas Llanas. Prad...         54   \n",
       "2  Pico Veleta                              granada - pico veleta         41   \n",
       "3  Pico Veleta  Subida al pico veleta y al radiotelescospio de...         34   \n",
       "4  Pico Veleta  Pico Veleta por el Monachil-el Purche-Sierra N...         32   \n",
       "\n",
       "   distancia desnivel   dificultad  \\\n",
       "0  108,78 km  2.914 m     Moderado   \n",
       "1   83,61 km  2.563 m  Muy difícil   \n",
       "2   85,89 km  2.785 m     Moderado   \n",
       "3   32,42 km  1.199 m  Muy difícil   \n",
       "4  101,77 km  3.234 m      Difícil   \n",
       "\n",
       "                                                 url  \\\n",
       "0  https://es.wikiloc.com/rutas-ciclismo/dia-1-2-...   \n",
       "1  https://es.wikiloc.com/rutas-ciclismo/pinos-ge...   \n",
       "2  https://es.wikiloc.com/rutas-ciclismo/granada-...   \n",
       "3  https://es.wikiloc.com/rutas-ciclismo/subida-a...   \n",
       "4  https://es.wikiloc.com/rutas-ciclismo/pico-vel...   \n",
       "\n",
       "                                              photo1  \\\n",
       "0  https://es.wikiloc.com/rutas-ciclismo/dia-1-2-...   \n",
       "1  https://es.wikiloc.com/rutas-ciclismo/pinos-ge...   \n",
       "2  https://es.wikiloc.com/rutas-ciclismo/granada-...   \n",
       "3  https://es.wikiloc.com/rutas-ciclismo/subida-a...   \n",
       "4  https://es.wikiloc.com/rutas-ciclismo/pico-vel...   \n",
       "\n",
       "                                              photo2  \\\n",
       "0  https://es.wikiloc.com/rutas-ciclismo/dia-1-2-...   \n",
       "1  https://es.wikiloc.com/rutas-ciclismo/pinos-ge...   \n",
       "2  https://es.wikiloc.com/rutas-ciclismo/granada-...   \n",
       "3  https://es.wikiloc.com/rutas-ciclismo/subida-a...   \n",
       "4  https://es.wikiloc.com/rutas-ciclismo/pico-vel...   \n",
       "\n",
       "                                              photo3            alpha_name  \n",
       "0  https://es.wikiloc.com/rutas-ciclismo/dia-1-2-...  Día12SierraNevadaGra  \n",
       "1  https://es.wikiloc.com/rutas-ciclismo/pinos-ge...  PinosGenilGüejarSier  \n",
       "2  https://es.wikiloc.com/rutas-ciclismo/granada-...     granadapicoveleta  \n",
       "3  https://es.wikiloc.com/rutas-ciclismo/subida-a...  Subidaalpicoveletaya  \n",
       "4  https://es.wikiloc.com/rutas-ciclismo/pico-vel...  PicoVeletaporelMonac  "
      ]
     },
     "execution_count": 33,
     "metadata": {},
     "output_type": "execute_result"
    }
   ],
   "source": [
    "df.head()"
   ]
  },
  {
   "cell_type": "code",
   "execution_count": 49,
   "id": "5f4e0dd4",
   "metadata": {},
   "outputs": [
    {
     "data": {
      "text/plain": [
       "15954"
      ]
     },
     "execution_count": 49,
     "metadata": {},
     "output_type": "execute_result"
    }
   ],
   "source": [
    "#Creating a list of our shortened alphanumeric names.\n",
    "\n",
    "alpha_list = df['alpha_name'].tolist()\n",
    "len(alpha_list)"
   ]
  },
  {
   "cell_type": "code",
   "execution_count": 51,
   "id": "c0687a04",
   "metadata": {},
   "outputs": [],
   "source": [
    "#Deleting duplicates.\n",
    "\n",
    "alpha_list = list(dict.fromkeys(alpha_list))"
   ]
  },
  {
   "cell_type": "code",
   "execution_count": 52,
   "id": "b972c0cd",
   "metadata": {
    "scrolled": true
   },
   "outputs": [
    {
     "data": {
      "text/plain": [
       "9138"
      ]
     },
     "execution_count": 52,
     "metadata": {},
     "output_type": "execute_result"
    }
   ],
   "source": [
    "len(alpha_list)"
   ]
  },
  {
   "cell_type": "code",
   "execution_count": 70,
   "id": "e42ed227",
   "metadata": {},
   "outputs": [],
   "source": [
    "#Renaming every gpx file with the new shortened and stripped name, matching our new df column.\n",
    "\n",
    "for path in pathlib.Path(\"/gpx\").iterdir(): #Using iterdir to iterate through every file in our gpx folder. \n",
    "    try:\n",
    "        if path.is_file():\n",
    "            old_name = path.stem\n",
    "            old_extension = path.suffix\n",
    "            directory = path.parent\n",
    "            strip = re.sub(r'\\W+', '', old_name) #Stripping the name using the same regex as before.\n",
    "            new_name = strip[:20] + old_extension #Only keeping the first 20 characters.\n",
    "            path.rename(pathlib.Path(directory, new_name)) #Renaming the file.\n",
    "    except:\n",
    "        pass"
   ]
  },
  {
   "cell_type": "code",
   "execution_count": 1,
   "id": "229ffab1",
   "metadata": {},
   "outputs": [],
   "source": [
    "import path"
   ]
  },
  {
   "cell_type": "code",
   "execution_count": 71,
   "id": "a38bf3cb",
   "metadata": {},
   "outputs": [],
   "source": [
    "#Now that our dataframe and gpx files match we can easily check for missing entries.\n",
    "\n",
    "missing_routes = [] #This list will store our missing filenames.\n",
    "ok_routes = [] #Successful downloads.\n",
    "\n",
    "for i in alpha_list:\n",
    "    gpx_path = 'gpx/' + i + '.gpx'\n",
    "    isExist = os.path.exists(gpx_path) #Checking if the file with the given filename exists.\n",
    "    if isExist == True:\n",
    "        ok_routes.append(i)\n",
    "        pass\n",
    "    else:\n",
    "        missing_routes.append(i)"
   ]
  },
  {
   "cell_type": "code",
   "execution_count": 72,
   "id": "79c02aab",
   "metadata": {},
   "outputs": [
    {
     "data": {
      "text/plain": [
       "47"
      ]
     },
     "execution_count": 72,
     "metadata": {},
     "output_type": "execute_result"
    }
   ],
   "source": [
    "len(missing_routes)"
   ]
  },
  {
   "cell_type": "code",
   "execution_count": 55,
   "id": "f1366329",
   "metadata": {},
   "outputs": [
    {
     "data": {
      "text/plain": [
       "7072"
      ]
     },
     "execution_count": 55,
     "metadata": {},
     "output_type": "execute_result"
    }
   ],
   "source": [
    "len(ok_routes)"
   ]
  },
  {
   "cell_type": "markdown",
   "id": "588a0f10",
   "metadata": {},
   "source": [
    "## Downloading the missing routes"
   ]
  },
  {
   "cell_type": "code",
   "execution_count": null,
   "id": "fc7f3f33",
   "metadata": {},
   "outputs": [],
   "source": [
    "#We need to create a list with the url of the missing routes.\n",
    "\n",
    "missing_list = []\n",
    "\n",
    "for i in missing_routes:\n",
    "    if i == df['alpha_name']:\n",
    "        missing_list.append(df['url']) #Appending the url to the list if the route is in missing_routes."
   ]
  },
  {
   "cell_type": "code",
   "execution_count": 61,
   "id": "fa1ea79e",
   "metadata": {},
   "outputs": [],
   "source": [
    "#Creating a dataframe with our missing routes. This step isn't really necessary.\n",
    "\n",
    "df_missing = df.loc[df['alpha_name'].isin(missing_routes)]"
   ]
  },
  {
   "cell_type": "code",
   "execution_count": 63,
   "id": "bbb28815",
   "metadata": {},
   "outputs": [
    {
     "name": "stdout",
     "output_type": "stream",
     "text": [
      "<class 'pandas.core.frame.DataFrame'>\n",
      "Int64Index: 87 entries, 41 to 15884\n",
      "Data columns (total 11 columns):\n",
      " #   Column      Non-Null Count  Dtype \n",
      "---  ------      --------------  ----- \n",
      " 0   ubicacion   87 non-null     object\n",
      " 1   nombre      87 non-null     object\n",
      " 2   trailrank   87 non-null     int64 \n",
      " 3   distancia   87 non-null     object\n",
      " 4   desnivel    87 non-null     object\n",
      " 5   dificultad  87 non-null     object\n",
      " 6   url         87 non-null     object\n",
      " 7   photo1      87 non-null     object\n",
      " 8   photo2      87 non-null     object\n",
      " 9   photo3      87 non-null     object\n",
      " 10  alpha_name  87 non-null     object\n",
      "dtypes: int64(1), object(10)\n",
      "memory usage: 8.2+ KB\n"
     ]
    }
   ],
   "source": [
    "df_missing.info()"
   ]
  },
  {
   "cell_type": "code",
   "execution_count": 64,
   "id": "02dcae97",
   "metadata": {},
   "outputs": [],
   "source": [
    "#Populating our list with the missing routes urls.\n",
    "\n",
    "missing_url = df_missing['url'].tolist()"
   ]
  },
  {
   "cell_type": "code",
   "execution_count": 69,
   "id": "3b795666",
   "metadata": {},
   "outputs": [
    {
     "name": "stdout",
     "output_type": "stream",
     "text": [
      "57 favs added in 1.1880242228507996 minutes.\n"
     ]
    }
   ],
   "source": [
    "#Selecting the missing routes as faves for download.\n",
    "\n",
    "fav(missing_url)"
   ]
  },
  {
   "cell_type": "markdown",
   "id": "07237df4",
   "metadata": {},
   "source": [
    "Now it would simply be a matter of downloading our missing routes and renaming them as we did with the other ones. Once we have all the gpx files we can begin parsing them."
   ]
  },
  {
   "cell_type": "markdown",
   "id": "f6b168f0",
   "metadata": {},
   "source": [
    "**<div align=\"right\">Ironhack DA PT 2021</div>**\n",
    "    \n",
    "**<div align=\"right\">Xavier Esteban</div>**"
   ]
  }
 ],
 "metadata": {
  "kernelspec": {
   "display_name": "Python 3",
   "language": "python",
   "name": "python3"
  },
  "language_info": {
   "codemirror_mode": {
    "name": "ipython",
    "version": 3
   },
   "file_extension": ".py",
   "mimetype": "text/x-python",
   "name": "python",
   "nbconvert_exporter": "python",
   "pygments_lexer": "ipython3",
   "version": "3.8.8"
  },
  "toc": {
   "base_numbering": 1,
   "nav_menu": {},
   "number_sections": true,
   "sideBar": true,
   "skip_h1_title": false,
   "title_cell": "Table of Contents",
   "title_sidebar": "Contents",
   "toc_cell": false,
   "toc_position": {},
   "toc_section_display": true,
   "toc_window_display": false
  },
  "varInspector": {
   "cols": {
    "lenName": 16,
    "lenType": 16,
    "lenVar": 40
   },
   "kernels_config": {
    "python": {
     "delete_cmd_postfix": "",
     "delete_cmd_prefix": "del ",
     "library": "var_list.py",
     "varRefreshCmd": "print(var_dic_list())"
    },
    "r": {
     "delete_cmd_postfix": ") ",
     "delete_cmd_prefix": "rm(",
     "library": "var_list.r",
     "varRefreshCmd": "cat(var_dic_list()) "
    }
   },
   "types_to_exclude": [
    "module",
    "function",
    "builtin_function_or_method",
    "instance",
    "_Feature"
   ],
   "window_display": false
  }
 },
 "nbformat": 4,
 "nbformat_minor": 5
}
