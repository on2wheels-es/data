{
 "cells": [
  {
   "cell_type": "markdown",
   "id": "ba13426b",
   "metadata": {},
   "source": [
    "# Creating new GPX files with unified structure/names"
   ]
  },
  {
   "cell_type": "markdown",
   "id": "06324377",
   "metadata": {},
   "source": [
    "For this project we have amassed quite a few *gpx* files from a wide variety of sources, and it is imperative that we unify their structure (and naming schema) to better store and classify them for future use.\n",
    "\n",
    "To achieve this unification we will be using the library **Gpxpy**, the very same one that we used earlier to parse all those *gpx* files and store their content into dataframes."
   ]
  },
  {
   "cell_type": "markdown",
   "id": "d4d9359d",
   "metadata": {},
   "source": [
    "# Defining the scope of our function"
   ]
  },
  {
   "cell_type": "markdown",
   "id": "59bd880f",
   "metadata": {},
   "source": [
    "This function must meet the following criteria:\n",
    "\n",
    "1. Substitute the route's name with one that matches our dataset.\n",
    "2. Fill in the route's creator with our url adress.\n",
    "3. Delete superflous data such as waypoints and description."
   ]
  },
  {
   "cell_type": "code",
   "execution_count": 23,
   "id": "54480cb8",
   "metadata": {},
   "outputs": [],
   "source": [
    "#Importing the necessary libraries.\n",
    "\n",
    "import pandas as pd\n",
    "import gpxpy\n",
    "import gpxpy.gpx\n",
    "import time\n",
    "import pathlib\n",
    "from pathlib import Path\n",
    "import os\n",
    "from gpx_converter import Converter"
   ]
  },
  {
   "cell_type": "markdown",
   "id": "1fba1220",
   "metadata": {},
   "source": [
    "## Testing parameters"
   ]
  },
  {
   "cell_type": "markdown",
   "id": "52f83d7e",
   "metadata": {},
   "source": [
    "We will begin by exploring a parsed *gpx* file, finding our where are the relevant values stored and how to change them."
   ]
  },
  {
   "cell_type": "code",
   "execution_count": 2,
   "id": "46db39d6",
   "metadata": {},
   "outputs": [],
   "source": [
    "#Parsing a gpx file for testing purposes.\n",
    "\n",
    "gpx_file = open('Algorta.gpx', 'r', encoding='utf-8') #We might find some encoding errors, Gpxpy is quite picky.\n",
    "\n",
    "gpx = gpxpy.parse(gpx_file)\n",
    "track = gpx.tracks[0]\n",
    "segment = track.segments[0]"
   ]
  },
  {
   "cell_type": "code",
   "execution_count": 6,
   "id": "aa56514b",
   "metadata": {},
   "outputs": [
    {
     "data": {
      "text/plain": [
       "'Algorta'"
      ]
     },
     "execution_count": 6,
     "metadata": {},
     "output_type": "execute_result"
    }
   ],
   "source": [
    "#Exploring the route name.\n",
    "\n",
    "track.name"
   ]
  },
  {
   "cell_type": "code",
   "execution_count": 7,
   "id": "2590883d",
   "metadata": {},
   "outputs": [
    {
     "data": {
      "text/plain": [
       "'Paseo Puerto Viejo a rotonda de Leioa tres veces y luego por bidegorri a Sope y volver a punto de partida.'"
      ]
     },
     "execution_count": 7,
     "metadata": {},
     "output_type": "execute_result"
    }
   ],
   "source": [
    "#Description.\n",
    "\n",
    "track.description"
   ]
  },
  {
   "cell_type": "code",
   "execution_count": 8,
   "id": "6479dd72",
   "metadata": {},
   "outputs": [
    {
     "data": {
      "text/plain": [
       "'Wikiloc - http://www.wikiloc.com'"
      ]
     },
     "execution_count": 8,
     "metadata": {},
     "output_type": "execute_result"
    }
   ],
   "source": [
    "#Creator.\n",
    "\n",
    "gpx.creator"
   ]
  },
  {
   "cell_type": "code",
   "execution_count": 9,
   "id": "7525eb34",
   "metadata": {},
   "outputs": [
    {
     "data": {
      "text/plain": [
       "[]"
      ]
     },
     "execution_count": 9,
     "metadata": {},
     "output_type": "execute_result"
    }
   ],
   "source": [
    "#And finally, its waypoints. This route seems to have none.\n",
    "\n",
    "gpx.waypoints"
   ]
  },
  {
   "cell_type": "markdown",
   "id": "9fb9c6ad",
   "metadata": {},
   "source": [
    "Now that we have located the information that we need to change it's time to try and actually change it."
   ]
  },
  {
   "cell_type": "code",
   "execution_count": 10,
   "id": "434f0d86",
   "metadata": {},
   "outputs": [],
   "source": [
    "#Changing the values.\n",
    "\n",
    "track.name = 'test_name'\n",
    "track.description = 'test_description'\n",
    "gpx.creator = 'https://www.on2wheels.es/'\n",
    "gpx.waypoints = ''"
   ]
  },
  {
   "cell_type": "code",
   "execution_count": 11,
   "id": "dad11785",
   "metadata": {},
   "outputs": [],
   "source": [
    "#To test this process we will save this modified gpx ad a new file and re-parse it.\n",
    "\n",
    "with open(\"output.gpx\", \"w\") as f:\n",
    "    f.write( gpx.to_xml())"
   ]
  },
  {
   "cell_type": "code",
   "execution_count": 12,
   "id": "3e7b7682",
   "metadata": {},
   "outputs": [],
   "source": [
    "#Now it's time to parse this generated gpx file and check for the values again.\n",
    "\n",
    "gpx_file = open('output.gpx', 'r', encoding='utf-8')\n",
    "\n",
    "gpx = gpxpy.parse(gpx_file)\n",
    "track = gpx.tracks[0]\n",
    "segment = track.segments[0]"
   ]
  },
  {
   "cell_type": "code",
   "execution_count": 14,
   "id": "02dc4407",
   "metadata": {},
   "outputs": [
    {
     "name": "stdout",
     "output_type": "stream",
     "text": [
      "test_name\n",
      "test_description\n",
      "https://www.on2wheels.es/\n",
      "[]\n"
     ]
    }
   ],
   "source": [
    "#Checking the values.\n",
    "\n",
    "print(track.name)\n",
    "print(track.description)\n",
    "print(gpx.creator)\n",
    "print(gpx.waypoints)"
   ]
  },
  {
   "cell_type": "markdown",
   "id": "297e7669",
   "metadata": {},
   "source": [
    "It's a success! Now we can proceed to the next step: defining a function that performs this operation automatically and assigns a predetermined file name (and route name)."
   ]
  },
  {
   "cell_type": "markdown",
   "id": "ce654b70",
   "metadata": {},
   "source": [
    "## Creating the function"
   ]
  },
  {
   "cell_type": "markdown",
   "id": "7344cd05",
   "metadata": {},
   "source": [
    "While our *gpx* library is huge, we just need to change the names of a few routes for the moment. To be more precise, the routes contained in the following dataframe."
   ]
  },
  {
   "cell_type": "code",
   "execution_count": 17,
   "id": "0a6d99a8",
   "metadata": {},
   "outputs": [],
   "source": [
    "routes = pd.read_csv('routes_1607_819.csv')"
   ]
  },
  {
   "cell_type": "code",
   "execution_count": 18,
   "id": "3b84f1ab",
   "metadata": {},
   "outputs": [
    {
     "data": {
      "text/html": [
       "<div>\n",
       "<style scoped>\n",
       "    .dataframe tbody tr th:only-of-type {\n",
       "        vertical-align: middle;\n",
       "    }\n",
       "\n",
       "    .dataframe tbody tr th {\n",
       "        vertical-align: top;\n",
       "    }\n",
       "\n",
       "    .dataframe thead th {\n",
       "        text-align: right;\n",
       "    }\n",
       "</style>\n",
       "<table border=\"1\" class=\"dataframe\">\n",
       "  <thead>\n",
       "    <tr style=\"text-align: right;\">\n",
       "      <th></th>\n",
       "      <th>ID</th>\n",
       "      <th>name</th>\n",
       "      <th>ccaa</th>\n",
       "      <th>province</th>\n",
       "      <th>start</th>\n",
       "      <th>midpoint</th>\n",
       "      <th>trailrank</th>\n",
       "      <th>distance</th>\n",
       "      <th>gradient</th>\n",
       "      <th>min_alt</th>\n",
       "      <th>max_alt</th>\n",
       "      <th>municipality</th>\n",
       "      <th>mountain_passes_ids</th>\n",
       "      <th>municipalities_ids</th>\n",
       "    </tr>\n",
       "  </thead>\n",
       "  <tbody>\n",
       "    <tr>\n",
       "      <th>0</th>\n",
       "      <td>923</td>\n",
       "      <td>ANGLIRU, CIRCULAR DESDE LA PLAZA, TEVERGA</td>\n",
       "      <td>NaN</td>\n",
       "      <td>NaN</td>\n",
       "      <td>[-6.101982,43.158859]</td>\n",
       "      <td>[-5.939921,43.235847]</td>\n",
       "      <td>67</td>\n",
       "      <td>124</td>\n",
       "      <td>3476</td>\n",
       "      <td>101</td>\n",
       "      <td>1566</td>\n",
       "      <td>NaN</td>\n",
       "      <td>[0]</td>\n",
       "      <td>NaN</td>\n",
       "    </tr>\n",
       "    <tr>\n",
       "      <th>1</th>\n",
       "      <td>5611</td>\n",
       "      <td>Pola de Lena, Cobertoria, Gamoniteiro, Tenebre...</td>\n",
       "      <td>NaN</td>\n",
       "      <td>NaN</td>\n",
       "      <td>[-5.8297,43.155729]</td>\n",
       "      <td>[-5.929957,43.288199]</td>\n",
       "      <td>51</td>\n",
       "      <td>118</td>\n",
       "      <td>4234</td>\n",
       "      <td>102</td>\n",
       "      <td>1700</td>\n",
       "      <td>NaN</td>\n",
       "      <td>[0, 1, 84, 131]</td>\n",
       "      <td>NaN</td>\n",
       "    </tr>\n",
       "    <tr>\n",
       "      <th>2</th>\n",
       "      <td>5490</td>\n",
       "      <td>PEÑA ESCRITA (POR ALMUÑECAR)</td>\n",
       "      <td>NaN</td>\n",
       "      <td>NaN</td>\n",
       "      <td>[-3.743127,36.734975]</td>\n",
       "      <td>[-3.762692,36.818439]</td>\n",
       "      <td>42</td>\n",
       "      <td>45</td>\n",
       "      <td>1481</td>\n",
       "      <td>6</td>\n",
       "      <td>1191</td>\n",
       "      <td>NaN</td>\n",
       "      <td>[2]</td>\n",
       "      <td>NaN</td>\n",
       "    </tr>\n",
       "    <tr>\n",
       "      <th>3</th>\n",
       "      <td>881</td>\n",
       "      <td>Ancares-Pandozarco</td>\n",
       "      <td>NaN</td>\n",
       "      <td>NaN</td>\n",
       "      <td>[-7.157974,42.852246]</td>\n",
       "      <td>[-6.844199,42.889535]</td>\n",
       "      <td>55</td>\n",
       "      <td>130</td>\n",
       "      <td>2861</td>\n",
       "      <td>289</td>\n",
       "      <td>1651</td>\n",
       "      <td>NaN</td>\n",
       "      <td>[3, 182, 1109]</td>\n",
       "      <td>NaN</td>\n",
       "    </tr>\n",
       "    <tr>\n",
       "      <th>4</th>\n",
       "      <td>5618</td>\n",
       "      <td>POLA DE LENA - PUERTO DE PAJARES - CUITU NEGRU...</td>\n",
       "      <td>NaN</td>\n",
       "      <td>NaN</td>\n",
       "      <td>[-5.806177,43.128166]</td>\n",
       "      <td>[-5.829091,43.083221]</td>\n",
       "      <td>42</td>\n",
       "      <td>121</td>\n",
       "      <td>2917</td>\n",
       "      <td>344</td>\n",
       "      <td>1824</td>\n",
       "      <td>NaN</td>\n",
       "      <td>[4, 51, 69, 438]</td>\n",
       "      <td>NaN</td>\n",
       "    </tr>\n",
       "  </tbody>\n",
       "</table>\n",
       "</div>"
      ],
      "text/plain": [
       "     ID                                               name  ccaa  province  \\\n",
       "0   923          ANGLIRU, CIRCULAR DESDE LA PLAZA, TEVERGA   NaN       NaN   \n",
       "1  5611  Pola de Lena, Cobertoria, Gamoniteiro, Tenebre...   NaN       NaN   \n",
       "2  5490                       PEÑA ESCRITA (POR ALMUÑECAR)   NaN       NaN   \n",
       "3   881                                 Ancares-Pandozarco   NaN       NaN   \n",
       "4  5618  POLA DE LENA - PUERTO DE PAJARES - CUITU NEGRU...   NaN       NaN   \n",
       "\n",
       "                   start               midpoint  trailrank  distance  \\\n",
       "0  [-6.101982,43.158859]  [-5.939921,43.235847]         67       124   \n",
       "1    [-5.8297,43.155729]  [-5.929957,43.288199]         51       118   \n",
       "2  [-3.743127,36.734975]  [-3.762692,36.818439]         42        45   \n",
       "3  [-7.157974,42.852246]  [-6.844199,42.889535]         55       130   \n",
       "4  [-5.806177,43.128166]  [-5.829091,43.083221]         42       121   \n",
       "\n",
       "   gradient  min_alt  max_alt  municipality mountain_passes_ids  \\\n",
       "0      3476      101     1566           NaN                 [0]   \n",
       "1      4234      102     1700           NaN     [0, 1, 84, 131]   \n",
       "2      1481        6     1191           NaN                 [2]   \n",
       "3      2861      289     1651           NaN      [3, 182, 1109]   \n",
       "4      2917      344     1824           NaN    [4, 51, 69, 438]   \n",
       "\n",
       "   municipalities_ids  \n",
       "0                 NaN  \n",
       "1                 NaN  \n",
       "2                 NaN  \n",
       "3                 NaN  \n",
       "4                 NaN  "
      ]
     },
     "execution_count": 18,
     "metadata": {},
     "output_type": "execute_result"
    }
   ],
   "source": [
    "routes.head()"
   ]
  },
  {
   "cell_type": "markdown",
   "id": "0d48c813",
   "metadata": {},
   "source": [
    "Since the value in the column *name* actually matches the name of our parsed *gpx* files (but NOT the name of the file!) our function will have to walk parse the gpx files one at a time, check its name against the *name* column and re-assign it to its *id* if there's a positive match."
   ]
  },
  {
   "cell_type": "code",
   "execution_count": 47,
   "id": "281a016a",
   "metadata": {},
   "outputs": [],
   "source": [
    "#Creating a function that meets our criteria.\n",
    "\n",
    "def parser(file):\n",
    "    try: \n",
    "        gpx_file = open(file, 'r', encoding='utf-8') #Opening our file.\n",
    "        gpx = gpxpy.parse(gpx_file) #Parsing it.\n",
    "        track = gpx.tracks[0]\n",
    "        segment = track.segments[0]\n",
    "        name = track.name #Storing the route's name as a variable.\n",
    "\n",
    "        for i in range(len(routes)): #Checking for the name in our dataframe.\n",
    "            if routes['name'].iloc[i] == name:\n",
    "                track.name = str(routes['ID'].iloc[i]) #Changing the name for its ID.\n",
    "                track.description = 'Route number ' + track.name + '.' #Changing description.\n",
    "                gpx.creator = 'https://www.on2wheels.es/' #Adding a creator.\n",
    "                gpx.waypoints = '' #Deleting all waypoints.\n",
    "                with open(track.name + '.gpx', \"w\") as f:\n",
    "                    f.write( gpx.to_xml()) #Saving our route with the new name.\n",
    "            else:\n",
    "                pass\n",
    "    except:\n",
    "        pass"
   ]
  },
  {
   "cell_type": "markdown",
   "id": "1a69997d",
   "metadata": {},
   "source": [
    "The function is ready but we need a way to make it walk through all gpx files in a directory. We can easily achieve this by using **Pathlib**. We will also be using **Time** to benchmark our function."
   ]
  },
  {
   "cell_type": "code",
   "execution_count": 48,
   "id": "57af2f2b",
   "metadata": {},
   "outputs": [],
   "source": [
    "#Creating the final function.\n",
    "\n",
    "def gpx_cleaner():\n",
    "    start = time.time() #Starting our fimer.\n",
    "\n",
    "    directory = 'gpx' #The folder containing the gpx files.\n",
    "\n",
    "    files = Path(directory).glob('*') #Using all files in the folder as input.\n",
    "    for file in files:\n",
    "        parser(file) #Applying the previous function to every file.\n",
    "\n",
    "    stop = time.time() #Stopping our timer.\n",
    "    duration = (stop - start) / 60\n",
    "    \n",
    "    return print('Minutes:', duration) #Returning the elapsed minutes."
   ]
  },
  {
   "cell_type": "markdown",
   "id": "4d7901df",
   "metadata": {},
   "source": [
    "## Function testing"
   ]
  },
  {
   "cell_type": "code",
   "execution_count": 50,
   "id": "07947e88",
   "metadata": {},
   "outputs": [
    {
     "name": "stdout",
     "output_type": "stream",
     "text": [
      "Minutes: 0.7209641893704732\n"
     ]
    }
   ],
   "source": [
    "# Testing: 100 files.\n",
    "\n",
    "gpx_cleaner()"
   ]
  },
  {
   "cell_type": "markdown",
   "id": "fb767a5e",
   "metadata": {},
   "source": [
    "5 new *gpx* files have been successfully created! The function works as expected. Since it took about 0.72 minutes to clean 100 files, our full folder will take about 3 hours."
   ]
  },
  {
   "cell_type": "markdown",
   "id": "5e201a17",
   "metadata": {},
   "source": [
    "# Using our final function"
   ]
  },
  {
   "cell_type": "markdown",
   "id": "b3acbab9",
   "metadata": {},
   "source": [
    "Now it's simply a matter of placing all our *gpx* files inside the designated folder and running our function."
   ]
  }
 ],
 "metadata": {
  "kernelspec": {
   "display_name": "Python 3",
   "language": "python",
   "name": "python3"
  },
  "language_info": {
   "codemirror_mode": {
    "name": "ipython",
    "version": 3
   },
   "file_extension": ".py",
   "mimetype": "text/x-python",
   "name": "python",
   "nbconvert_exporter": "python",
   "pygments_lexer": "ipython3",
   "version": "3.8.8"
  },
  "toc": {
   "base_numbering": 1,
   "nav_menu": {},
   "number_sections": true,
   "sideBar": true,
   "skip_h1_title": false,
   "title_cell": "Table of Contents",
   "title_sidebar": "Contents",
   "toc_cell": false,
   "toc_position": {},
   "toc_section_display": true,
   "toc_window_display": false
  },
  "varInspector": {
   "cols": {
    "lenName": 16,
    "lenType": 16,
    "lenVar": 40
   },
   "kernels_config": {
    "python": {
     "delete_cmd_postfix": "",
     "delete_cmd_prefix": "del ",
     "library": "var_list.py",
     "varRefreshCmd": "print(var_dic_list())"
    },
    "r": {
     "delete_cmd_postfix": ") ",
     "delete_cmd_prefix": "rm(",
     "library": "var_list.r",
     "varRefreshCmd": "cat(var_dic_list()) "
    }
   },
   "types_to_exclude": [
    "module",
    "function",
    "builtin_function_or_method",
    "instance",
    "_Feature"
   ],
   "window_display": false
  }
 },
 "nbformat": 4,
 "nbformat_minor": 5
}
