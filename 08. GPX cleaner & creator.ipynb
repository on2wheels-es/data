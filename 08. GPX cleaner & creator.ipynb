{
 "cells": [
  {
   "cell_type": "markdown",
   "id": "ba13426b",
   "metadata": {},
   "source": [
    "# Creating new GPX files with unified structure/names"
   ]
  },
  {
   "cell_type": "markdown",
   "id": "06324377",
   "metadata": {},
   "source": [
    "For this project we have amassed quite a few *gpx* files from a wide variety of sources, and it is imperative that we unify their structure (and naming schema) to better store and classify them for future use.\n",
    "\n",
    "To achieve this unification we will be using the library **Gpxpy**, the very same one that we used earlier to parse all those *gpx* files and store their content into dataframes."
   ]
  },
  {
   "cell_type": "markdown",
   "id": "d4d9359d",
   "metadata": {},
   "source": [
    "# Defining the scope of our function"
   ]
  },
  {
   "cell_type": "markdown",
   "id": "59bd880f",
   "metadata": {},
   "source": [
    "This function must meet the following criteria:\n",
    "\n",
    "1. Substitute the route's name with one that matches our dataset.\n",
    "2. Fill in the route's creator with our url adress.\n",
    "3. Delete superflous data such as waypoints and description."
   ]
  },
  {
   "cell_type": "code",
   "execution_count": 6,
   "id": "54480cb8",
   "metadata": {},
   "outputs": [],
   "source": [
    "#Importing the necessary libraries.\n",
    "\n",
    "import pandas as pd\n",
    "import gpxpy\n",
    "import gpxpy.gpx\n",
    "import time\n",
    "import pathlib\n",
    "from pathlib import Path\n",
    "import os\n",
    "from gpx_converter import Converter"
   ]
  },
  {
   "cell_type": "markdown",
   "id": "1fba1220",
   "metadata": {},
   "source": [
    "## Testing parameters"
   ]
  },
  {
   "cell_type": "markdown",
   "id": "52f83d7e",
   "metadata": {},
   "source": [
    "We will begin by exploring a parsed *gpx* file, finding our where are the relevant values stored and how to change them."
   ]
  },
  {
   "cell_type": "code",
   "execution_count": 14,
   "id": "46db39d6",
   "metadata": {},
   "outputs": [],
   "source": [
    "#Parsing a gpx file for testing purposes.\n",
    "\n",
    "gpx_file = open('Algorta.gpx', 'r', encoding='utf-8') #We might find some encoding errors, Gpxpy is quite picky.\n",
    "\n",
    "gpx = gpxpy.parse(gpx_file)\n",
    "track = gpx.tracks[0]\n",
    "segment = track.segments[0]"
   ]
  },
  {
   "cell_type": "code",
   "execution_count": 15,
   "id": "aa56514b",
   "metadata": {},
   "outputs": [
    {
     "data": {
      "text/plain": [
       "'Algorta'"
      ]
     },
     "execution_count": 15,
     "metadata": {},
     "output_type": "execute_result"
    }
   ],
   "source": [
    "#Exploring the route name.\n",
    "\n",
    "track.name"
   ]
  },
  {
   "cell_type": "code",
   "execution_count": 16,
   "id": "2590883d",
   "metadata": {},
   "outputs": [
    {
     "data": {
      "text/plain": [
       "'Paseo Puerto Viejo a rotonda de Leioa tres veces y luego por bidegorri a Sope y volver a punto de partida.'"
      ]
     },
     "execution_count": 16,
     "metadata": {},
     "output_type": "execute_result"
    }
   ],
   "source": [
    "#Description.\n",
    "\n",
    "track.description"
   ]
  },
  {
   "cell_type": "code",
   "execution_count": 17,
   "id": "5c12a1e5",
   "metadata": {},
   "outputs": [
    {
     "data": {
      "text/plain": [
       "'Paseo Puerto Viejo a rotonda de Leioa tres veces y luego por bidegorri a Sope y volver a punto de partida.'"
      ]
     },
     "execution_count": 17,
     "metadata": {},
     "output_type": "execute_result"
    }
   ],
   "source": [
    "#Comments.\n",
    "\n",
    "track.comment"
   ]
  },
  {
   "cell_type": "code",
   "execution_count": 18,
   "id": "6479dd72",
   "metadata": {},
   "outputs": [
    {
     "data": {
      "text/plain": [
       "'Wikiloc - http://www.wikiloc.com'"
      ]
     },
     "execution_count": 18,
     "metadata": {},
     "output_type": "execute_result"
    }
   ],
   "source": [
    "#Creator.\n",
    "\n",
    "gpx.creator"
   ]
  },
  {
   "cell_type": "code",
   "execution_count": 19,
   "id": "7525eb34",
   "metadata": {},
   "outputs": [
    {
     "data": {
      "text/plain": [
       "[]"
      ]
     },
     "execution_count": 19,
     "metadata": {},
     "output_type": "execute_result"
    }
   ],
   "source": [
    "#And finally, its waypoints. This route seems to have none.\n",
    "\n",
    "gpx.waypoints"
   ]
  },
  {
   "cell_type": "markdown",
   "id": "9fb9c6ad",
   "metadata": {},
   "source": [
    "Now that we have located the information that we need to change it's time to try and actually change it."
   ]
  },
  {
   "cell_type": "code",
   "execution_count": 20,
   "id": "434f0d86",
   "metadata": {},
   "outputs": [],
   "source": [
    "#Changing the values.\n",
    "\n",
    "track.name = 'test_name'\n",
    "track.description = 'test_description'\n",
    "track.comment  = ''\n",
    "gpx.creator = 'https://www.on2wheels.es/'\n",
    "gpx.waypoints = ''"
   ]
  },
  {
   "cell_type": "code",
   "execution_count": 21,
   "id": "dad11785",
   "metadata": {},
   "outputs": [],
   "source": [
    "#To test this process we will save this modified gpx ad a new file and re-parse it.\n",
    "\n",
    "with open(\"output.gpx\", \"w\") as f:\n",
    "    f.write( gpx.to_xml())"
   ]
  },
  {
   "cell_type": "code",
   "execution_count": 22,
   "id": "3e7b7682",
   "metadata": {},
   "outputs": [],
   "source": [
    "#Now it's time to parse this generated gpx file and check for the values again.\n",
    "\n",
    "gpx_file = open('output.gpx', 'r', encoding='utf-8')\n",
    "\n",
    "gpx = gpxpy.parse(gpx_file)\n",
    "track = gpx.tracks[0]\n",
    "segment = track.segments[0]"
   ]
  },
  {
   "cell_type": "code",
   "execution_count": 24,
   "id": "02dc4407",
   "metadata": {},
   "outputs": [
    {
     "name": "stdout",
     "output_type": "stream",
     "text": [
      "test_name\n",
      "test_description\n",
      "None\n",
      "https://www.on2wheels.es/\n",
      "[]\n"
     ]
    }
   ],
   "source": [
    "#Checking the values.\n",
    "\n",
    "print(track.name)\n",
    "print(track.description)\n",
    "print(track.comment)\n",
    "print(gpx.creator)\n",
    "print(gpx.waypoints)"
   ]
  },
  {
   "cell_type": "markdown",
   "id": "297e7669",
   "metadata": {},
   "source": [
    "It's a success! Now we can proceed to the next step: defining a function that performs this operation automatically and assigns a predetermined file name (and route name)."
   ]
  },
  {
   "cell_type": "markdown",
   "id": "ce654b70",
   "metadata": {},
   "source": [
    "## Creating the function"
   ]
  },
  {
   "cell_type": "markdown",
   "id": "7344cd05",
   "metadata": {},
   "source": [
    "While our *gpx* library is huge, we just need to change the names of a few routes for the moment. To be more precise, the routes contained in the following dataframe."
   ]
  },
  {
   "cell_type": "code",
   "execution_count": 7,
   "id": "0a6d99a8",
   "metadata": {},
   "outputs": [],
   "source": [
    "routes = pd.read_csv('routes_2807_476.csv')"
   ]
  },
  {
   "cell_type": "code",
   "execution_count": 8,
   "id": "3b84f1ab",
   "metadata": {},
   "outputs": [
    {
     "data": {
      "text/html": [
       "<div>\n",
       "<style scoped>\n",
       "    .dataframe tbody tr th:only-of-type {\n",
       "        vertical-align: middle;\n",
       "    }\n",
       "\n",
       "    .dataframe tbody tr th {\n",
       "        vertical-align: top;\n",
       "    }\n",
       "\n",
       "    .dataframe thead th {\n",
       "        text-align: right;\n",
       "    }\n",
       "</style>\n",
       "<table border=\"1\" class=\"dataframe\">\n",
       "  <thead>\n",
       "    <tr style=\"text-align: right;\">\n",
       "      <th></th>\n",
       "      <th>ID</th>\n",
       "      <th>name</th>\n",
       "      <th>ccaa</th>\n",
       "      <th>province</th>\n",
       "      <th>start</th>\n",
       "      <th>midpoint</th>\n",
       "      <th>trailrank</th>\n",
       "      <th>distance</th>\n",
       "      <th>gradient</th>\n",
       "      <th>min_alt</th>\n",
       "      <th>max_alt</th>\n",
       "      <th>mountain_passes_ids</th>\n",
       "      <th>municipalities_ids</th>\n",
       "      <th>alt</th>\n",
       "      <th>gpx_link</th>\n",
       "      <th>difficulty_score</th>\n",
       "      <th>old_name</th>\n",
       "    </tr>\n",
       "  </thead>\n",
       "  <tbody>\n",
       "    <tr>\n",
       "      <th>0</th>\n",
       "      <td>1117</td>\n",
       "      <td>Eulate y Opakua por Valle de Yerri.</td>\n",
       "      <td>NaN</td>\n",
       "      <td>NaN</td>\n",
       "      <td>[-2.10989,42.77131]</td>\n",
       "      <td>[-2.3135,42.7945]</td>\n",
       "      <td>58</td>\n",
       "      <td>49</td>\n",
       "      <td>1097</td>\n",
       "      <td>516</td>\n",
       "      <td>1027</td>\n",
       "      <td>[596, 776]</td>\n",
       "      <td>[4888]</td>\n",
       "      <td>[625.032, 623.092, 623.011, 622.007, 618.058, ...</td>\n",
       "      <td>NaN</td>\n",
       "      <td>3</td>\n",
       "      <td>Artaza - Puerto de Opakua - Parque Natural Urbasa</td>\n",
       "    </tr>\n",
       "    <tr>\n",
       "      <th>1</th>\n",
       "      <td>3338</td>\n",
       "      <td>San Pelaio por Gernika-Lumo y Bakio.</td>\n",
       "      <td>NaN</td>\n",
       "      <td>NaN</td>\n",
       "      <td>[-2.683899,43.304251]</td>\n",
       "      <td>[-2.799765,43.431816]</td>\n",
       "      <td>56</td>\n",
       "      <td>58</td>\n",
       "      <td>943</td>\n",
       "      <td>2</td>\n",
       "      <td>312</td>\n",
       "      <td>[722]</td>\n",
       "      <td>[7544, 7510]</td>\n",
       "      <td>[17.314, 16.954, 15.309, 15.108, 15.494, 15.81...</td>\n",
       "      <td>NaN</td>\n",
       "      <td>3</td>\n",
       "      <td>Gernika - Bermeo - San Juan de Gaztelugatxe - ...</td>\n",
       "    </tr>\n",
       "    <tr>\n",
       "      <th>2</th>\n",
       "      <td>2447</td>\n",
       "      <td>Sagüera De Luna por Soto y Amío.</td>\n",
       "      <td>NaN</td>\n",
       "      <td>NaN</td>\n",
       "      <td>[-5.740471,42.783061]</td>\n",
       "      <td>[-5.841873,42.777686]</td>\n",
       "      <td>53</td>\n",
       "      <td>122</td>\n",
       "      <td>1640</td>\n",
       "      <td>926</td>\n",
       "      <td>1251</td>\n",
       "      <td>[907]</td>\n",
       "      <td>[3769]</td>\n",
       "      <td>[1075.452, 1075.453, 1075.608, 1075.608, 1076....</td>\n",
       "      <td>NaN</td>\n",
       "      <td>5</td>\n",
       "      <td>Comarca de LUNA=Ruta 1 de 2</td>\n",
       "    </tr>\n",
       "    <tr>\n",
       "      <th>3</th>\n",
       "      <td>8404</td>\n",
       "      <td>Coll De Jouet por Berga y Sant Llorenç de Moru...</td>\n",
       "      <td>NaN</td>\n",
       "      <td>NaN</td>\n",
       "      <td>[1.854248,42.108257]</td>\n",
       "      <td>[1.561878,42.0344]</td>\n",
       "      <td>51</td>\n",
       "      <td>90</td>\n",
       "      <td>1749</td>\n",
       "      <td>577</td>\n",
       "      <td>1268</td>\n",
       "      <td>[808]</td>\n",
       "      <td>[887, 3994]</td>\n",
       "      <td>[794.018, 793.098, 791.017, 788.008, 787.042, ...</td>\n",
       "      <td>NaN</td>\n",
       "      <td>5</td>\n",
       "      <td>BERGA-AVIÁ-S.LLORENS DE MORUNY-BERGA</td>\n",
       "    </tr>\n",
       "    <tr>\n",
       "      <th>4</th>\n",
       "      <td>2449</td>\n",
       "      <td>Curueña y Andarraso por Soto y Amío.</td>\n",
       "      <td>NaN</td>\n",
       "      <td>NaN</td>\n",
       "      <td>[-5.940483,42.7426]</td>\n",
       "      <td>[-6.031129,42.809684]</td>\n",
       "      <td>51</td>\n",
       "      <td>89</td>\n",
       "      <td>1912</td>\n",
       "      <td>1007</td>\n",
       "      <td>1412</td>\n",
       "      <td>[332, 513, 1025]</td>\n",
       "      <td>[3769]</td>\n",
       "      <td>[1008.685, 1008.689, 1008.817, 1008.808, 1008....</td>\n",
       "      <td>NaN</td>\n",
       "      <td>5</td>\n",
       "      <td>Comarca de OMAÑA,Ruta 2 de 3</td>\n",
       "    </tr>\n",
       "  </tbody>\n",
       "</table>\n",
       "</div>"
      ],
      "text/plain": [
       "     ID                                               name  ccaa  province  \\\n",
       "0  1117                Eulate y Opakua por Valle de Yerri.   NaN       NaN   \n",
       "1  3338               San Pelaio por Gernika-Lumo y Bakio.   NaN       NaN   \n",
       "2  2447                   Sagüera De Luna por Soto y Amío.   NaN       NaN   \n",
       "3  8404  Coll De Jouet por Berga y Sant Llorenç de Moru...   NaN       NaN   \n",
       "4  2449               Curueña y Andarraso por Soto y Amío.   NaN       NaN   \n",
       "\n",
       "                   start               midpoint  trailrank  distance  \\\n",
       "0    [-2.10989,42.77131]      [-2.3135,42.7945]         58        49   \n",
       "1  [-2.683899,43.304251]  [-2.799765,43.431816]         56        58   \n",
       "2  [-5.740471,42.783061]  [-5.841873,42.777686]         53       122   \n",
       "3   [1.854248,42.108257]     [1.561878,42.0344]         51        90   \n",
       "4    [-5.940483,42.7426]  [-6.031129,42.809684]         51        89   \n",
       "\n",
       "   gradient  min_alt  max_alt mountain_passes_ids municipalities_ids  \\\n",
       "0      1097      516     1027          [596, 776]             [4888]   \n",
       "1       943        2      312               [722]       [7544, 7510]   \n",
       "2      1640      926     1251               [907]             [3769]   \n",
       "3      1749      577     1268               [808]        [887, 3994]   \n",
       "4      1912     1007     1412    [332, 513, 1025]             [3769]   \n",
       "\n",
       "                                                 alt  gpx_link  \\\n",
       "0  [625.032, 623.092, 623.011, 622.007, 618.058, ...       NaN   \n",
       "1  [17.314, 16.954, 15.309, 15.108, 15.494, 15.81...       NaN   \n",
       "2  [1075.452, 1075.453, 1075.608, 1075.608, 1076....       NaN   \n",
       "3  [794.018, 793.098, 791.017, 788.008, 787.042, ...       NaN   \n",
       "4  [1008.685, 1008.689, 1008.817, 1008.808, 1008....       NaN   \n",
       "\n",
       "   difficulty_score                                           old_name  \n",
       "0                 3  Artaza - Puerto de Opakua - Parque Natural Urbasa  \n",
       "1                 3  Gernika - Bermeo - San Juan de Gaztelugatxe - ...  \n",
       "2                 5                        Comarca de LUNA=Ruta 1 de 2  \n",
       "3                 5               BERGA-AVIÁ-S.LLORENS DE MORUNY-BERGA  \n",
       "4                 5                       Comarca de OMAÑA,Ruta 2 de 3  "
      ]
     },
     "execution_count": 8,
     "metadata": {},
     "output_type": "execute_result"
    }
   ],
   "source": [
    "routes.head()"
   ]
  },
  {
   "cell_type": "markdown",
   "id": "0d48c813",
   "metadata": {},
   "source": [
    "Since the value in the column *name* actually matches the name of our parsed *gpx* files (but NOT the name of the file!) our function will have to walk parse the gpx files one at a time, check its name against the *name* column and re-assign it to its *id* if there's a positive match."
   ]
  },
  {
   "cell_type": "code",
   "execution_count": 13,
   "id": "281a016a",
   "metadata": {},
   "outputs": [],
   "source": [
    "#Creating a function that meets our criteria.\n",
    "\n",
    "def parser(file):\n",
    "    \"\"\"\n",
    "    Input: gpx file.\n",
    "    \n",
    "    Output: new gpx file with its internal values (name, description, comment, creator, waypoints) modified or deleted.\n",
    "    \n",
    "    \"\"\"\n",
    "    try: \n",
    "        gpx_file = open(file, 'r', encoding='utf-8') #Opening our file.\n",
    "        gpx = gpxpy.parse(gpx_file) #Parsing it.\n",
    "        track = gpx.tracks[0]\n",
    "        segment = track.segments[0]\n",
    "        name = track.name #Storing the route's name as a variable.\n",
    "\n",
    "        for i in range(len(routes)): #Checking for the name in our dataframe.\n",
    "            if routes['old_name'].iloc[i] == name:\n",
    "                track.name = str(routes['ID'].iloc[i]) #Changing the name for its ID.\n",
    "                track.description = routes['name'].iloc[i] + '.' #Changing description to the new name.\n",
    "                track.comment = '' #Changing comment.\n",
    "                gpx.creator = 'https://www.on2wheels.es/' #Adding a creator.\n",
    "                gpx.waypoints = '' #Deleting all waypoints.\n",
    "                with open(track.name + '.gpx', \"w\") as f:\n",
    "                    f.write( gpx.to_xml()) #Saving our route with the new name.\n",
    "            else:\n",
    "                pass\n",
    "    except:\n",
    "        try:\n",
    "            gpx_file = open(file, 'r') #Trying to parse without encoding as a backup.\n",
    "            gpx = gpxpy.parse(gpx_file) #Parsing it.\n",
    "            track = gpx.tracks[0]\n",
    "            segment = track.segments[0]\n",
    "            name = track.name #Storing the route's name as a variable.\n",
    "\n",
    "            for i in range(len(routes)): #Checking for the name in our dataframe.\n",
    "                if routes['name'].iloc[i] == name:\n",
    "                    track.name = str(routes['ID'].iloc[i]) #Changing the name for its ID.\n",
    "                    track.description = 'Route number ' + track.name + '.' #Changing description.\n",
    "                    track.comment = '' #Changing comment.\n",
    "                    gpx.creator = 'https://www.on2wheels.es/' #Adding a creator.\n",
    "                    gpx.waypoints = '' #Deleting all waypoints.\n",
    "                    with open(track.name + '.gpx', \"w\") as f:\n",
    "                        f.write( gpx.to_xml()) #Saving our route with the new name.\n",
    "                else:\n",
    "                    pass\n",
    "        except:\n",
    "            pass"
   ]
  },
  {
   "cell_type": "markdown",
   "id": "1a69997d",
   "metadata": {},
   "source": [
    "The function is ready but we need a way to make it walk through all gpx files in a directory. We can easily achieve this by using **Pathlib**. We will also be using **Time** to benchmark our function."
   ]
  },
  {
   "cell_type": "code",
   "execution_count": 14,
   "id": "57af2f2b",
   "metadata": {},
   "outputs": [],
   "source": [
    "#Creating the final function.\n",
    "\n",
    "def gpx_cleaner():\n",
    "    \"\"\"\n",
    "    Input: none, but all target gpx files must be in a folder named 'gpx'.\n",
    "    \n",
    "    Output: new gpx files created as per 'parser' function.\n",
    "    \n",
    "    \"\"\"\n",
    "    start = time.time() #Starting our fimer.\n",
    "\n",
    "    directory = 'gpx' #The folder containing the gpx files.\n",
    "\n",
    "    files = Path(directory).glob('*') #Using all files in the folder as input.\n",
    "    for file in files:\n",
    "        parser(file) #Applying the previous function to every file.\n",
    "\n",
    "    stop = time.time() #Stopping our timer.\n",
    "    duration = (stop - start) / 60\n",
    "    \n",
    "    return print('Minutes:', duration) #Returning the elapsed minutes."
   ]
  },
  {
   "cell_type": "markdown",
   "id": "4d7901df",
   "metadata": {},
   "source": [
    "## Function testing"
   ]
  },
  {
   "cell_type": "code",
   "execution_count": 15,
   "id": "07947e88",
   "metadata": {},
   "outputs": [
    {
     "name": "stdout",
     "output_type": "stream",
     "text": [
      "Minutes: 170.92400506734847\n"
     ]
    }
   ],
   "source": [
    "# Testing: 50 files.\n",
    "\n",
    "gpx_cleaner()"
   ]
  },
  {
   "cell_type": "markdown",
   "id": "fb767a5e",
   "metadata": {},
   "source": [
    "5 new *gpx* files have been successfully created! The function works as expected. Since it took about 0.34 minutes to clean 100 files, our full folder will take about 3 hours."
   ]
  },
  {
   "cell_type": "markdown",
   "id": "5e201a17",
   "metadata": {},
   "source": [
    "# Using our final function"
   ]
  },
  {
   "cell_type": "markdown",
   "id": "b3acbab9",
   "metadata": {},
   "source": [
    "Now it's simply a matter of placing all our *gpx* files inside the designated folder and running our function."
   ]
  },
  {
   "cell_type": "code",
   "execution_count": 34,
   "id": "bebb3086",
   "metadata": {},
   "outputs": [
    {
     "name": "stdout",
     "output_type": "stream",
     "text": [
      "Minutes: 255.2301216204961\n"
     ]
    }
   ],
   "source": [
    "gpx_cleaner()"
   ]
  },
  {
   "cell_type": "markdown",
   "id": "1acd1ea8",
   "metadata": {},
   "source": [
    "**<div align=\"right\">Ironhack DA PT 2021</div>**\n",
    "    \n",
    "**<div align=\"right\">Xavier Esteban</div>**"
   ]
  }
 ],
 "metadata": {
  "kernelspec": {
   "display_name": "Python 3",
   "language": "python",
   "name": "python3"
  },
  "language_info": {
   "codemirror_mode": {
    "name": "ipython",
    "version": 3
   },
   "file_extension": ".py",
   "mimetype": "text/x-python",
   "name": "python",
   "nbconvert_exporter": "python",
   "pygments_lexer": "ipython3",
   "version": "3.8.8"
  },
  "toc": {
   "base_numbering": 1,
   "nav_menu": {},
   "number_sections": true,
   "sideBar": true,
   "skip_h1_title": false,
   "title_cell": "Table of Contents",
   "title_sidebar": "Contents",
   "toc_cell": false,
   "toc_position": {},
   "toc_section_display": true,
   "toc_window_display": false
  },
  "varInspector": {
   "cols": {
    "lenName": 16,
    "lenType": 16,
    "lenVar": 40
   },
   "kernels_config": {
    "python": {
     "delete_cmd_postfix": "",
     "delete_cmd_prefix": "del ",
     "library": "var_list.py",
     "varRefreshCmd": "print(var_dic_list())"
    },
    "r": {
     "delete_cmd_postfix": ") ",
     "delete_cmd_prefix": "rm(",
     "library": "var_list.r",
     "varRefreshCmd": "cat(var_dic_list()) "
    }
   },
   "types_to_exclude": [
    "module",
    "function",
    "builtin_function_or_method",
    "instance",
    "_Feature"
   ],
   "window_display": false
  }
 },
 "nbformat": 4,
 "nbformat_minor": 5
}
